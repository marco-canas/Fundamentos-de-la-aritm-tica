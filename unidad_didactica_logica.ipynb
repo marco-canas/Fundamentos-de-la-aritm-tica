{
  "nbformat": 4,
  "nbformat_minor": 0,
  "metadata": {
    "colab": {
      "provenance": [],
      "authorship_tag": "ABX9TyMJ2haOCttof2xFUYXYaQpT",
      "include_colab_link": true
    },
    "kernelspec": {
      "name": "python3",
      "display_name": "Python 3"
    },
    "language_info": {
      "name": "python"
    }
  },
  "cells": [
    {
      "cell_type": "markdown",
      "metadata": {
        "id": "view-in-github",
        "colab_type": "text"
      },
      "source": [
        "<a href=\"https://colab.research.google.com/github/marco-canas/Fundamentos-de-la-aritm-tica/blob/main/unidad_didactica_logica.ipynb\" target=\"_parent\"><img src=\"https://colab.research.google.com/assets/colab-badge.svg\" alt=\"Open In Colab\"/></a>"
      ]
    },
    {
      "cell_type": "markdown",
      "source": [
        "# Unidad didáctica de Lógica"
      ],
      "metadata": {
        "id": "adcCkBKkjQUn"
      }
    },
    {
      "cell_type": "markdown",
      "source": [
        "5.3. OBJETIVOS\n",
        "\n",
        "    Construir, a partir del juego, esquemas básicos de razonamiento lógico.\n",
        "    Construir, tomando como primitivos, los conectivos lógicos \"no\" y \"o\", los restantes conectivos lógicos: \"si... entonces\", \"y\" y \"si y sólo si\".\n",
        "    Visualizar las propiedades más importantes de cada uno los conectivos y expresarlas en forma de leyes lógicas.\n",
        "    Mostrar en qué forma se niegan los conectivos, enunciando las leyes de De Morgan.\n"
      ],
      "metadata": {
        "id": "LeJPyOM-kyiv"
      }
    },
    {
      "cell_type": "markdown",
      "source": [],
      "metadata": {
        "id": "AU0W6klPkywN"
      }
    },
    {
      "cell_type": "code",
      "source": [
        "False or False"
      ],
      "metadata": {
        "colab": {
          "base_uri": "https://localhost:8080/"
        },
        "id": "l1DU02PKn4w7",
        "outputId": "487ffc0f-2f08-472c-91ad-0d5fdc7437cc"
      },
      "execution_count": 4,
      "outputs": [
        {
          "output_type": "execute_result",
          "data": {
            "text/plain": [
              "False"
            ]
          },
          "metadata": {},
          "execution_count": 4
        }
      ]
    },
    {
      "cell_type": "markdown",
      "source": [
        "# Implicación y recíproco"
      ],
      "metadata": {
        "id": "4WZE3TwetW5c"
      }
    },
    {
      "cell_type": "markdown",
      "source": [
        "## Referentes \n",
        "\n",
        "* Clara Elena Mejía Laverde: http://ayura.udea.edu.co/logicamatematica/talleres.htm"
      ],
      "metadata": {
        "id": "S7l7IAf6kY_F"
      }
    },
    {
      "cell_type": "code",
      "execution_count": 8,
      "metadata": {
        "id": "91u1ErW2i9a1"
      },
      "outputs": [],
      "source": [
        "def condicional(p,q):\n",
        "  return not p or q"
      ]
    },
    {
      "cell_type": "code",
      "source": [
        "condicional(False, False)"
      ],
      "metadata": {
        "colab": {
          "base_uri": "https://localhost:8080/"
        },
        "id": "YtUcKpWj3Bzo",
        "outputId": "ddb11294-49fe-474a-8bee-3fab5a7d124c"
      },
      "execution_count": 10,
      "outputs": [
        {
          "output_type": "execute_result",
          "data": {
            "text/plain": [
              "True"
            ]
          },
          "metadata": {},
          "execution_count": 10
        }
      ]
    },
    {
      "cell_type": "code",
      "source": [],
      "metadata": {
        "id": "K5rex7R43j0s"
      },
      "execution_count": null,
      "outputs": []
    }
  ]
}