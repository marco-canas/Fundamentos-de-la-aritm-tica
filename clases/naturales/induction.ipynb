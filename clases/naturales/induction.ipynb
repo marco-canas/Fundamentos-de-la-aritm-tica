{
 "cells": [
  {
   "cell_type": "markdown",
   "metadata": {},
   "source": [
    "<table align=\"center\">\n",
    "  <td>\n",
    "<a href=\"https://colab.research.google.com/github/marco-canas/Fundamentos-de-la-aritm-tica/blob/main/clases/naturales/induction.ipynb\" target=\"_parent\"><img src=\"https://colab.research.google.com/assets/colab-badge.svg\" alt=\"Open In Colab\"/></a>\n",
    "  </td>\n",
    "</table>"
   ]
  },
  {
   "cell_type": "markdown",
   "metadata": {},
   "source": [
    "## [Video de apoyo a la lectura interactiva y experimental de este cuaderno Jupyter](https://www.youtube.com/watch?v=K0yxa3Hu7t0&ab_channel=DiMathData)"
   ]
  },
  {
   "cell_type": "markdown",
   "metadata": {},
   "source": [
    "## [Segundo video de apoyo al desarrollo del pensamiento computacional](https://www.youtube.com/watch?v=g5tAVMQeK1k)"
   ]
  },
  {
   "cell_type": "markdown",
   "metadata": {},
   "source": [
    "# El principio de inducción matemática y el afan de generalizar en la formación por competencias"
   ]
  },
  {
   "cell_type": "markdown",
   "metadata": {},
   "source": [
    "## ¿Cómo poder generalizar una propiedad que funciona en un contexto, a cualquier contexto? "
   ]
  },
  {
   "cell_type": "markdown",
   "metadata": {},
   "source": [
    "### Ejemplo ilustrativo de un proceso de generalización. "
   ]
  },
  {
   "cell_type": "markdown",
   "metadata": {},
   "source": [
    "Juanito encontro un hecho muy intreresante: \n",
    "\n",
    "$$ 1 + 3 = 4 = 2^{2}  $$"
   ]
  },
  {
   "cell_type": "markdown",
   "metadata": {},
   "source": [
    "$$ 1 + 3 + 5 = 9 = 3^{2}  $$"
   ]
  },
  {
   "cell_type": "markdown",
   "metadata": {},
   "source": [
    "$$ 1 + 3 + 5 + 7 = 16 = 4^{2}  $$"
   ]
  },
  {
   "cell_type": "markdown",
   "metadata": {},
   "source": [
    "Conjetura: Parece ser que si sumo los primeros número imparews, me da un cuadrado. "
   ]
  },
  {
   "cell_type": "markdown",
   "metadata": {},
   "source": [
    "La conjetura de juenito la podemos enunciar formalmente así:\n",
    "\n",
    "\n",
    "$$ 1 + 3 + 5 + \\cdots + (2n - 1) = n^{2}  \\ \\ \\ \\  \\forall n \\in \\{1, 2, 3, 4, \\cdots \\} $$\n"
   ]
  },
  {
   "cell_type": "markdown",
   "metadata": {},
   "source": [
    "### Demostración: "
   ]
  },
  {
   "cell_type": "markdown",
   "metadata": {},
   "source": [
    "Mostremos que para $n = 1$ la afirmación es cierta.\n",
    "\n",
    "\n",
    "En efecto, \n",
    "\n",
    "$$ 1 = 1^{2} $$\n",
    "\n",
    "es decir, la afirmación dada por Juenito es cierta para un solo número impar sumado, porque 1 es el mpodulo de la multiplicación en $\\mathbb{N}$ "
   ]
  },
  {
   "cell_type": "markdown",
   "metadata": {},
   "source": [
    "Supongamos que la afirmación de juenito es cierta para $n = k$. es decir, supongamos que si sumamos los primeros $k$ impares, meda el cuadrado de $k$. Es decir, supongamos que \n",
    "\n",
    "\n",
    "$$ 1 + 3 + 5 + \\cdots + (2k - 1) = k^{2} $$\n",
    "\n",
    "Y mostremos que de asimir como cierto esto, podemos inferir necesariamente que \n",
    "\n",
    "\n",
    "$$  1 + 3 + 5 + \\cdots + (2k - 1) + (2k + 1) = (k + 1)^{2}  $$\n"
   ]
  },
  {
   "cell_type": "markdown",
   "metadata": {},
   "source": [
    "En efecto, \n",
    "\n",
    "$$  1 + 3 + 5 + \\cdots + (2k - 1) + (2k + 1) =  (1 + 3 + 5 + \\cdots + (2k - 1))  + (2k + 1)   $$ \n",
    "\n",
    "por propiedad asociativa\n"
   ]
  },
  {
   "cell_type": "markdown",
   "metadata": {},
   "source": [
    "$$  (1 + 3 + 5 + \\cdots + (2k - 1))  + (2k + 1)  = k^{2} + 2k + 1 = (k+1)^{2} $$\n",
    "\n",
    "y por hipótesis inductiva y luego por factorización de un trinomio cuadrado perfecto. "
   ]
  },
  {
   "cell_type": "markdown",
   "metadata": {},
   "source": [
    "Por lo tanto, la segunda condición del principio de inducción matemática se cumple y por lo tanto, podemor generalizar diciendo que siempre que sume impares obtienes un cudrado. "
   ]
  },
  {
   "cell_type": "markdown",
   "metadata": {},
   "source": [
    "# Hagamos que nuestro problema matemático lo podamos abordar desde el pensamiento computacional"
   ]
  },
  {
   "cell_type": "markdown",
   "metadata": {},
   "source": [
    "### El concepto de listas por comprensión"
   ]
  },
  {
   "cell_type": "code",
   "execution_count": 39,
   "metadata": {},
   "outputs": [],
   "source": [
    "def raiz_de_la_suma_de_los_primeros_impares(n):\n",
    "    n_impares = n\n",
    "    N = list(range(1,n_impares + 1)) \n",
    "    I = [2*n - 1 for n in N]\n",
    "    sum(I)  \n",
    "    return (sum(I))**(1/2) \n",
    " "
   ]
  },
  {
   "cell_type": "code",
   "execution_count": 46,
   "metadata": {},
   "outputs": [
    {
     "data": {
      "text/plain": [
       "1000.0"
      ]
     },
     "execution_count": 46,
     "metadata": {},
     "output_type": "execute_result"
    }
   ],
   "source": [
    "raiz_de_la_suma_de_los_primeros_impares(1000)\n",
    " "
   ]
  },
  {
   "cell_type": "code",
   "execution_count": 2,
   "metadata": {},
   "outputs": [
    {
     "ename": "ModuleNotFoundError",
     "evalue": "No module named 'numpy'",
     "output_type": "error",
     "traceback": [
      "\u001b[1;31m---------------------------------------------------------------------------\u001b[0m",
      "\u001b[1;31mModuleNotFoundError\u001b[0m                       Traceback (most recent call last)",
      "Cell \u001b[1;32mIn [2], line 1\u001b[0m\n\u001b[1;32m----> 1\u001b[0m \u001b[39mimport\u001b[39;00m \u001b[39mnumpy\u001b[39;00m \u001b[39mas\u001b[39;00m \u001b[39mnp\u001b[39;00m \n",
      "\u001b[1;31mModuleNotFoundError\u001b[0m: No module named 'numpy'"
     ]
    }
   ],
   "source": [
    "import numpy as np "
   ]
  },
  {
   "cell_type": "markdown",
   "metadata": {},
   "source": [
    "## Recomendaciones didácticas\n",
    "\n",
    "* Presentar el concepto de función de python\n",
    "  - función a través de la sentencia def\n",
    "  - función lambda "
   ]
  },
  {
   "cell_type": "code",
   "execution_count": 38,
   "metadata": {},
   "outputs": [
    {
     "data": {
      "text/plain": [
       "100.0"
      ]
     },
     "execution_count": 38,
     "metadata": {},
     "output_type": "execute_result"
    }
   ],
   "source": []
  },
  {
   "cell_type": "markdown",
   "metadata": {},
   "source": [
    "## Referentes  \n",
    "\n",
    "* Villa Ochoa, Jhony Alexander. "
   ]
  },
  {
   "cell_type": "code",
   "execution_count": 1,
   "metadata": {},
   "outputs": [
    {
     "ename": "ModuleNotFoundError",
     "evalue": "No module named 'numpy'",
     "output_type": "error",
     "traceback": [
      "\u001b[1;31m---------------------------------------------------------------------------\u001b[0m",
      "\u001b[1;31mModuleNotFoundError\u001b[0m                       Traceback (most recent call last)",
      "Cell \u001b[1;32mIn [1], line 1\u001b[0m\n\u001b[1;32m----> 1\u001b[0m \u001b[39mimport\u001b[39;00m \u001b[39mnumpy\u001b[39;00m \n",
      "\u001b[1;31mModuleNotFoundError\u001b[0m: No module named 'numpy'"
     ]
    }
   ],
   "source": [
    "import numpy "
   ]
  }
 ],
 "metadata": {
  "kernelspec": {
   "display_name": "Python 3.10.8 64-bit (microsoft store)",
   "language": "python",
   "name": "python3"
  },
  "language_info": {
   "codemirror_mode": {
    "name": "ipython",
    "version": 3
   },
   "file_extension": ".py",
   "mimetype": "text/x-python",
   "name": "python",
   "nbconvert_exporter": "python",
   "pygments_lexer": "ipython3",
   "version": "3.10.8"
  },
  "orig_nbformat": 4,
  "vscode": {
   "interpreter": {
    "hash": "ae115c8122ba000a648ea691cf086e95841d767d998fc7ed45e791bf48fd755e"
   }
  }
 },
 "nbformat": 4,
 "nbformat_minor": 2
}
