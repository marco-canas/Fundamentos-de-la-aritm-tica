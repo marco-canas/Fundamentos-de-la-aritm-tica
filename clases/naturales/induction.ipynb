{
 "cells": [
  {
   "cell_type": "markdown",
   "metadata": {},
   "source": [
    "<table align=\"center\">\n",
    "  <td>\n",
    "<a href=\"https://colab.research.google.com/github/marco-canas/Fundamentos-de-la-aritm-tica/blob/main/clases/criba.ipynb\" target=\"_parent\"><img src=\"https://colab.research.google.com/assets/colab-badge.svg\" alt=\"Open In Colab\"/></a>\n",
    "  </td>\n",
    "</table>"
   ]
  },
  {
   "cell_type": "markdown",
   "metadata": {},
   "source": [
    "## [Video de apoyo a la lectura interactiva y experimental de este cuaderno Jupyter](https://www.youtube.com/watch?v=K0yxa3Hu7t0&ab_channel=DiMathData)"
   ]
  },
  {
   "cell_type": "markdown",
   "metadata": {},
   "source": [
    "# El principio de inducción matemática y el afan de generalizar en la formación por competencias"
   ]
  },
  {
   "cell_type": "markdown",
   "metadata": {},
   "source": [
    "## ¿Cómo poder generalizar una propiedad que funciona en un constexto, a cualquier contexto? "
   ]
  },
  {
   "cell_type": "markdown",
   "metadata": {},
   "source": [
    "### Ejemplo ilustrativo de un proceso de generalización. "
   ]
  },
  {
   "cell_type": "markdown",
   "metadata": {},
   "source": [
    "Juanito encontro un hecho muy intreresante: \n",
    "\n",
    "$$ 1 + 3 = 4 = 2^{2}  $$"
   ]
  },
  {
   "cell_type": "markdown",
   "metadata": {},
   "source": [
    "$$ 1 + 3 + 5 = 9 = 3^{2}  $$"
   ]
  },
  {
   "cell_type": "markdown",
   "metadata": {},
   "source": [
    "$$ 1 + 3 + 5 + 7 = 16 = 4^{2}  $$"
   ]
  },
  {
   "cell_type": "markdown",
   "metadata": {},
   "source": [
    "Conjetura: Parece ser que si sumo los primeros número imparews, me da un cuadrado. "
   ]
  },
  {
   "cell_type": "markdown",
   "metadata": {},
   "source": [
    "La conjetura de juenito la podemos enunciar formalmente así:\n",
    "\n",
    "\n",
    "$$ 1 + 3 + 5 + \\cdots + (2n - 1) = n^{2}  \\ \\ \\ \\  \\forall n \\in \\{1, 2, 3, 4, \\cdots \\} $$\n"
   ]
  },
  {
   "cell_type": "markdown",
   "metadata": {},
   "source": [
    "### Demostración: "
   ]
  },
  {
   "cell_type": "markdown",
   "metadata": {},
   "source": [
    "Mostremos que para $n = 1$ la afirmación es cierta.\n",
    "\n",
    "\n",
    "En efecto, \n",
    "\n",
    "$$ 1 = 1^{2} $$\n",
    "\n",
    "es decir, la afirmación dada por Juenito es cierta para un solo número impar sumado, porque 1 es el mpodulo de la multiplicación en $\\mathbb{N}$ "
   ]
  },
  {
   "cell_type": "markdown",
   "metadata": {},
   "source": [
    "Supongamos que la afirmación de juenito es cierta para $n = k$. es decir, supongamos que si sumamos los primeros $k$ impares, meda el cuadrado de $k$. Es decir, supongamos que \n",
    "\n",
    "\n",
    "$$ 1 + 3 + 5 + \\cdots + (2k - 1) = k^{2} $$\n",
    "\n",
    "Y mostremos que de asimir como cierto esto, podemos inferir necesariamente que \n",
    "\n",
    "\n",
    "$$  1 + 3 + 5 + \\cdots + (2k - 1) + (2k + 1) = (k + 1)^{2}  $$\n"
   ]
  },
  {
   "cell_type": "markdown",
   "metadata": {},
   "source": [
    "En efecto, \n",
    "\n",
    "$$  1 + 3 + 5 + \\cdots + (2k - 1) + (2k + 1) =  (1 + 3 + 5 + \\cdots + (2k - 1))  + (2k + 1)   $$ \n",
    "\n",
    "por propiedad asociativa\n"
   ]
  },
  {
   "cell_type": "markdown",
   "metadata": {},
   "source": [
    "$$  (1 + 3 + 5 + \\cdots + (2k - 1))  + (2k + 1)  = k^{2} + 2k + 1 = (k+1)^{2} $$\n",
    "\n",
    "y por hipótesis inductiva y luego por factorización de un trinomio cuadrado perfecto. "
   ]
  },
  {
   "cell_type": "markdown",
   "metadata": {},
   "source": [
    "Por lo tanto, la segunda condición del principio de inducción matemática se cumple y por lo tanto, podemor generalizar diciendo que siempre que sume impares obtienes un cudrado. "
   ]
  },
  {
   "cell_type": "markdown",
   "metadata": {},
   "source": []
  }
 ],
 "metadata": {
  "kernelspec": {
   "display_name": "Python 3.10.8 64-bit (microsoft store)",
   "language": "python",
   "name": "python3"
  },
  "language_info": {
   "name": "python",
   "version": "3.10.8"
  },
  "orig_nbformat": 4,
  "vscode": {
   "interpreter": {
    "hash": "ae115c8122ba000a648ea691cf086e95841d767d998fc7ed45e791bf48fd755e"
   }
  }
 },
 "nbformat": 4,
 "nbformat_minor": 2
}
