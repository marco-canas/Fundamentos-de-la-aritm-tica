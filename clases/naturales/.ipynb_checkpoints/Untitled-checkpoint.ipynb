{
 "cells": [
  {
   "cell_type": "markdown",
   "id": "f014cce5",
   "metadata": {},
   "source": []
  },
  {
   "cell_type": "markdown",
   "id": "25d54d21",
   "metadata": {},
   "source": [
    "# Probar por inducción matemática que las exponenciales siempre que ganan a la cuadráticas \n"
   ]
  },
  {
   "cell_type": "markdown",
   "id": "2f49e4bb",
   "metadata": {},
   "source": [
    "Prube por inducción matemática que \n",
    "\n",
    "\n",
    "$$ n^{2} < 2^{n}, \\ \\ \\ \\ \\ \\ n > 4 $$\n"
   ]
  },
  {
   "cell_type": "markdown",
   "id": "646bb087",
   "metadata": {},
   "source": [
    "Y haga también las siguientes verificaciones y representaciones tabulares y gráficas. \n",
    "\n"
   ]
  },
  {
   "cell_type": "code",
   "execution_count": 3,
   "id": "6dc84d22",
   "metadata": {},
   "outputs": [],
   "source": [
    "import pandas as pd \n",
    "import numpy as np "
   ]
  },
  {
   "cell_type": "code",
   "execution_count": 4,
   "id": "8d04eb98",
   "metadata": {},
   "outputs": [
    {
     "data": {
      "text/plain": [
       "array([ 5,  6,  7,  8,  9, 10, 11, 12, 13, 14, 15, 16, 17, 18, 19, 20, 21,\n",
       "       22, 23, 24, 25, 26, 27, 28, 29])"
      ]
     },
     "execution_count": 4,
     "metadata": {},
     "output_type": "execute_result"
    }
   ],
   "source": [
    "n = np.arange(5, 30) \n",
    "n "
   ]
  },
  {
   "cell_type": "code",
   "execution_count": null,
   "id": "b8472268",
   "metadata": {},
   "outputs": [],
   "source": []
  },
  {
   "cell_type": "code",
   "execution_count": null,
   "id": "a5b35336",
   "metadata": {},
   "outputs": [],
   "source": []
  },
  {
   "cell_type": "code",
   "execution_count": null,
   "id": "9d563aa4",
   "metadata": {},
   "outputs": [],
   "source": []
  }
 ],
 "metadata": {
  "kernelspec": {
   "display_name": "Python 3 (ipykernel)",
   "language": "python",
   "name": "python3"
  },
  "language_info": {
   "codemirror_mode": {
    "name": "ipython",
    "version": 3
   },
   "file_extension": ".py",
   "mimetype": "text/x-python",
   "name": "python",
   "nbconvert_exporter": "python",
   "pygments_lexer": "ipython3",
   "version": "3.9.12"
  }
 },
 "nbformat": 4,
 "nbformat_minor": 5
}
