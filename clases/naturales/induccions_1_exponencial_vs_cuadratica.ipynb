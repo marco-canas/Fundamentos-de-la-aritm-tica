{
 "cells": [
  {
   "cell_type": "markdown",
   "id": "eec742b4",
   "metadata": {},
   "source": []
  },
  {
   "cell_type": "markdown",
   "id": "f19da60d",
   "metadata": {},
   "source": [
    "# Probar por inducción matemática que las exponenciales siempre que ganan a la cuadráticas \n"
   ]
  },
  {
   "cell_type": "markdown",
   "id": "d413c082",
   "metadata": {},
   "source": [
    "Prube por inducción matemática que \n",
    "\n",
    "\n",
    "$$ n^{2} < 2^{n}, \\ \\ \\ \\ \\ \\ n > 4 $$\n"
   ]
  },
  {
   "cell_type": "markdown",
   "id": "e4129584",
   "metadata": {},
   "source": [
    "Y haga también las siguientes verificaciones y representaciones tabulares y gráficas. \n",
    "\n"
   ]
  },
  {
   "cell_type": "code",
   "execution_count": 3,
   "id": "7dbc4cb1",
   "metadata": {},
   "outputs": [],
   "source": [
    "import pandas as pd \n",
    "import numpy as np "
   ]
  },
  {
   "cell_type": "code",
   "execution_count": 4,
   "id": "5003755f",
   "metadata": {},
   "outputs": [
    {
     "data": {
      "text/plain": [
       "array([ 5,  6,  7,  8,  9, 10, 11, 12, 13, 14, 15, 16, 17, 18, 19, 20, 21,\n",
       "       22, 23, 24, 25, 26, 27, 28, 29])"
      ]
     },
     "execution_count": 4,
     "metadata": {},
     "output_type": "execute_result"
    }
   ],
   "source": [
    "n = np.arange(5, 30) \n",
    "n "
   ]
  },
  {
   "cell_type": "code",
   "execution_count": 5,
   "id": "ca66d5ee",
   "metadata": {},
   "outputs": [
    {
     "data": {
      "text/plain": [
       "array([       32,        64,       128,       256,       512,      1024,\n",
       "            2048,      4096,      8192,     16384,     32768,     65536,\n",
       "          131072,    262144,    524288,   1048576,   2097152,   4194304,\n",
       "         8388608,  16777216,  33554432,  67108864, 134217728, 268435456,\n",
       "       536870912])"
      ]
     },
     "execution_count": 5,
     "metadata": {},
     "output_type": "execute_result"
    }
   ],
   "source": [
    "exponencial = np.array([2**t for t in n])\n",
    "exponencial "
   ]
  },
  {
   "cell_type": "code",
   "execution_count": 6,
   "id": "1a05c846",
   "metadata": {},
   "outputs": [
    {
     "data": {
      "text/plain": [
       "array([ 25,  36,  49,  64,  81, 100, 121, 144, 169, 196, 225, 256, 289,\n",
       "       324, 361, 400, 441, 484, 529, 576, 625, 676, 729, 784, 841])"
      ]
     },
     "execution_count": 6,
     "metadata": {},
     "output_type": "execute_result"
    }
   ],
   "source": [
    "cuadratica = np.array([t**2 for t in n]) \n",
    "cuadratica "
   ]
  },
  {
   "cell_type": "markdown",
   "id": "77df23ad",
   "metadata": {},
   "source": [
    "# Representación tabular de la desigualdad"
   ]
  },
  {
   "cell_type": "code",
   "execution_count": 7,
   "id": "7e65029c",
   "metadata": {
    "scrolled": true
   },
   "outputs": [
    {
     "data": {
      "text/html": [
       "<div>\n",
       "<style scoped>\n",
       "    .dataframe tbody tr th:only-of-type {\n",
       "        vertical-align: middle;\n",
       "    }\n",
       "\n",
       "    .dataframe tbody tr th {\n",
       "        vertical-align: top;\n",
       "    }\n",
       "\n",
       "    .dataframe thead th {\n",
       "        text-align: right;\n",
       "    }\n",
       "</style>\n",
       "<table border=\"1\" class=\"dataframe\">\n",
       "  <thead>\n",
       "    <tr style=\"text-align: right;\">\n",
       "      <th></th>\n",
       "      <th>$n$</th>\n",
       "      <th>exponencial</th>\n",
       "      <th>cuadratica</th>\n",
       "    </tr>\n",
       "  </thead>\n",
       "  <tbody>\n",
       "    <tr>\n",
       "      <th>0</th>\n",
       "      <td>5</td>\n",
       "      <td>32</td>\n",
       "      <td>25</td>\n",
       "    </tr>\n",
       "    <tr>\n",
       "      <th>1</th>\n",
       "      <td>6</td>\n",
       "      <td>64</td>\n",
       "      <td>36</td>\n",
       "    </tr>\n",
       "    <tr>\n",
       "      <th>2</th>\n",
       "      <td>7</td>\n",
       "      <td>128</td>\n",
       "      <td>49</td>\n",
       "    </tr>\n",
       "    <tr>\n",
       "      <th>3</th>\n",
       "      <td>8</td>\n",
       "      <td>256</td>\n",
       "      <td>64</td>\n",
       "    </tr>\n",
       "    <tr>\n",
       "      <th>4</th>\n",
       "      <td>9</td>\n",
       "      <td>512</td>\n",
       "      <td>81</td>\n",
       "    </tr>\n",
       "    <tr>\n",
       "      <th>5</th>\n",
       "      <td>10</td>\n",
       "      <td>1024</td>\n",
       "      <td>100</td>\n",
       "    </tr>\n",
       "    <tr>\n",
       "      <th>6</th>\n",
       "      <td>11</td>\n",
       "      <td>2048</td>\n",
       "      <td>121</td>\n",
       "    </tr>\n",
       "    <tr>\n",
       "      <th>7</th>\n",
       "      <td>12</td>\n",
       "      <td>4096</td>\n",
       "      <td>144</td>\n",
       "    </tr>\n",
       "    <tr>\n",
       "      <th>8</th>\n",
       "      <td>13</td>\n",
       "      <td>8192</td>\n",
       "      <td>169</td>\n",
       "    </tr>\n",
       "    <tr>\n",
       "      <th>9</th>\n",
       "      <td>14</td>\n",
       "      <td>16384</td>\n",
       "      <td>196</td>\n",
       "    </tr>\n",
       "    <tr>\n",
       "      <th>10</th>\n",
       "      <td>15</td>\n",
       "      <td>32768</td>\n",
       "      <td>225</td>\n",
       "    </tr>\n",
       "    <tr>\n",
       "      <th>11</th>\n",
       "      <td>16</td>\n",
       "      <td>65536</td>\n",
       "      <td>256</td>\n",
       "    </tr>\n",
       "    <tr>\n",
       "      <th>12</th>\n",
       "      <td>17</td>\n",
       "      <td>131072</td>\n",
       "      <td>289</td>\n",
       "    </tr>\n",
       "    <tr>\n",
       "      <th>13</th>\n",
       "      <td>18</td>\n",
       "      <td>262144</td>\n",
       "      <td>324</td>\n",
       "    </tr>\n",
       "    <tr>\n",
       "      <th>14</th>\n",
       "      <td>19</td>\n",
       "      <td>524288</td>\n",
       "      <td>361</td>\n",
       "    </tr>\n",
       "    <tr>\n",
       "      <th>15</th>\n",
       "      <td>20</td>\n",
       "      <td>1048576</td>\n",
       "      <td>400</td>\n",
       "    </tr>\n",
       "    <tr>\n",
       "      <th>16</th>\n",
       "      <td>21</td>\n",
       "      <td>2097152</td>\n",
       "      <td>441</td>\n",
       "    </tr>\n",
       "    <tr>\n",
       "      <th>17</th>\n",
       "      <td>22</td>\n",
       "      <td>4194304</td>\n",
       "      <td>484</td>\n",
       "    </tr>\n",
       "    <tr>\n",
       "      <th>18</th>\n",
       "      <td>23</td>\n",
       "      <td>8388608</td>\n",
       "      <td>529</td>\n",
       "    </tr>\n",
       "    <tr>\n",
       "      <th>19</th>\n",
       "      <td>24</td>\n",
       "      <td>16777216</td>\n",
       "      <td>576</td>\n",
       "    </tr>\n",
       "    <tr>\n",
       "      <th>20</th>\n",
       "      <td>25</td>\n",
       "      <td>33554432</td>\n",
       "      <td>625</td>\n",
       "    </tr>\n",
       "    <tr>\n",
       "      <th>21</th>\n",
       "      <td>26</td>\n",
       "      <td>67108864</td>\n",
       "      <td>676</td>\n",
       "    </tr>\n",
       "    <tr>\n",
       "      <th>22</th>\n",
       "      <td>27</td>\n",
       "      <td>134217728</td>\n",
       "      <td>729</td>\n",
       "    </tr>\n",
       "    <tr>\n",
       "      <th>23</th>\n",
       "      <td>28</td>\n",
       "      <td>268435456</td>\n",
       "      <td>784</td>\n",
       "    </tr>\n",
       "    <tr>\n",
       "      <th>24</th>\n",
       "      <td>29</td>\n",
       "      <td>536870912</td>\n",
       "      <td>841</td>\n",
       "    </tr>\n",
       "  </tbody>\n",
       "</table>\n",
       "</div>"
      ],
      "text/plain": [
       "    $n$  exponencial  cuadratica\n",
       "0     5           32          25\n",
       "1     6           64          36\n",
       "2     7          128          49\n",
       "3     8          256          64\n",
       "4     9          512          81\n",
       "5    10         1024         100\n",
       "6    11         2048         121\n",
       "7    12         4096         144\n",
       "8    13         8192         169\n",
       "9    14        16384         196\n",
       "10   15        32768         225\n",
       "11   16        65536         256\n",
       "12   17       131072         289\n",
       "13   18       262144         324\n",
       "14   19       524288         361\n",
       "15   20      1048576         400\n",
       "16   21      2097152         441\n",
       "17   22      4194304         484\n",
       "18   23      8388608         529\n",
       "19   24     16777216         576\n",
       "20   25     33554432         625\n",
       "21   26     67108864         676\n",
       "22   27    134217728         729\n",
       "23   28    268435456         784\n",
       "24   29    536870912         841"
      ]
     },
     "execution_count": 7,
     "metadata": {},
     "output_type": "execute_result"
    }
   ],
   "source": [
    "tabla = pd.DataFrame({'$n$': n, 'exponencial':exponencial, 'cuadratica':cuadratica}) \n",
    "tabla "
   ]
  },
  {
   "cell_type": "markdown",
   "id": "7ee984fc",
   "metadata": {},
   "source": [
    "# Representación gráfica de la desigualdad"
   ]
  },
  {
   "cell_type": "code",
   "execution_count": 15,
   "id": "de6ccfe6",
   "metadata": {},
   "outputs": [
    {
     "data": {
      "text/plain": [
       "<matplotlib.legend.Legend at 0x267b0b03670>"
      ]
     },
     "execution_count": 15,
     "metadata": {},
     "output_type": "execute_result"
    },
    {
     "data": {
      "image/png": "[encoded data removed]",
      "text/plain": [
       "<Figure size 432x288 with 1 Axes>"
      ]
     },
     "metadata": {
      "needs_background": "light"
     },
     "output_type": "display_data"
    }
   ],
   "source": [
    "import matplotlib.pyplot as plt \n",
    "limite = 3\n",
    "plt.scatter(n[:limite], cuadratica[:limite], color = 'blue', label = 'cuadratica $n^{2}$')\n",
    "plt.scatter(n[:limite], exponencial[:limite], color = 'red', label = 'exponencial $2^{n}$')\n",
    "\n",
    "plt.legend()\n"
   ]
  },
  {
   "cell_type": "markdown",
   "id": "92fa6ca4",
   "metadata": {},
   "source": [
    "## Inferencias e interpretaciones al gráfico\n",
    "\n",
    "* Efectivsmente el gráfico verificó que $2^{n} > n^{2}$"
   ]
  }
 ],
 "metadata": {
  "kernelspec": {
   "display_name": "Python 3 (ipykernel)",
   "language": "python",
   "name": "python3"
  },
  "language_info": {
   "codemirror_mode": {
    "name": "ipython",
    "version": 3
   },
   "file_extension": ".py",
   "mimetype": "text/x-python",
   "name": "python",
   "nbconvert_exporter": "python",
   "pygments_lexer": "ipython3",
   "version": "3.9.12"
  }
 },
 "nbformat": 4,
 "nbformat_minor": 5
}
