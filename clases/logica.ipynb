{
 "cells": [
  {
   "cell_type": "markdown",
   "id": "5e563e85",
   "metadata": {
    "slideshow": {
     "slide_type": "slide"
    }
   },
   "source": [
    "<a href=\"https://colab.research.google.com/github/marco-canas/Fundamentos-de-la-aritm-tica/blob/main/clases/logica.ipynb\" target=\"_parent\"><img src=\"https://colab.research.google.com/assets/colab-badge.svg\" alt=\"Open In Colab\"/></a>"
   ]
  },
  {
   "cell_type": "markdown",
   "id": "3a0b786e",
   "metadata": {
    "slideshow": {
     "slide_type": "slide"
    }
   },
   "source": [
    "# Lógica Proposicional Y Didáctica de ella a través de Python"
   ]
  },
  {
   "cell_type": "markdown",
   "id": "0f7d1ee6",
   "metadata": {
    "slideshow": {
     "slide_type": "slide"
    }
   },
   "source": [
    "## Objetivos  "
   ]
  },
  {
   "cell_type": "markdown",
   "id": "754e7a7d",
   "metadata": {
    "slideshow": {
     "slide_type": "slide"
    }
   },
   "source": [
    "* Aprender a programar enunciados de lógica proposicional para obtener resultados (conslusiones) \n",
    "* Aplicar los conceptos de programación lógica. "
   ]
  },
  {
   "cell_type": "markdown",
   "id": "dee0595b",
   "metadata": {
    "slideshow": {
     "slide_type": "slide"
    }
   },
   "source": [
    "## TEMAS A TRATAR\n",
    " \n",
    " * Conceptos y fundamentos \n",
    " * Variables y expresiones \n",
    " * Loops \n",
    " * Funciones lógicas  \n",
    " * Ejercicios "
   ]
  },
  {
   "cell_type": "markdown",
   "id": "87abd535",
   "metadata": {
    "slideshow": {
     "slide_type": "slide"
    }
   },
   "source": [
    "## MARCO TEÓRICO\n",
    " "
   ]
  },
  {
   "cell_type": "markdown",
   "id": "45b75356",
   "metadata": {
    "slideshow": {
     "slide_type": "slide"
    }
   },
   "source": [
    "En este laboratorio trataremos sobre la lógica proposicional. "
   ]
  },
  {
   "cell_type": "markdown",
   "id": "0bca97d6",
   "metadata": {
    "slideshow": {
     "slide_type": "slide"
    }
   },
   "source": [
    "## 1. Concepto y fundamentos "
   ]
  },
  {
   "cell_type": "markdown",
   "id": "df34f088",
   "metadata": {
    "slideshow": {
     "slide_type": "slide"
    }
   },
   "source": [
    "Los conceptos que utilizaremos son los siguientes: "
   ]
  },
  {
   "cell_type": "markdown",
   "id": "957754f8",
   "metadata": {
    "slideshow": {
     "slide_type": "slide"
    }
   },
   "source": [
    "* Lógica: Lo que es congruente, ordenado y bien estructurado. Es la ciencia del pensamiento y la  \n",
    "  razón. "
   ]
  },
  {
   "cell_type": "markdown",
   "id": "b381b85a",
   "metadata": {
    "slideshow": {
     "slide_type": "slide"
    }
   },
   "source": [
    "* Proposición: Es una afirmación que comunica una idea verdadera o falsa. De los siguientes \n",
    "ejemplos, establecer el valor de verdad de las siguientes proposiciones:  \n",
    "* $q$: España es el campeón mundial de futbol del 2010. "
   ]
  },
  {
   "cell_type": "markdown",
   "id": "49717993",
   "metadata": {
    "slideshow": {
     "slide_type": "slide"
    }
   },
   "source": [
    "Esta proposición es verdadera, pues España gano la final de futbol del 2010.  "
   ]
  },
  {
   "cell_type": "markdown",
   "id": "caa0e78c",
   "metadata": {
    "slideshow": {
     "slide_type": "slide"
    }
   },
   "source": [
    "* $r$: Junio es el quinto mes del año. \n",
    "  La proposición es falsa. Al enumerar los meses se puede apreciar que junio es el sexto mes del año.  \n",
    "* $s$: $2$ elevado a la 3 es 8.  \n",
    "\n",
    "$$ 2^{3}= 8, $$\n",
    "\n",
    "la proposición es verdadera. "
   ]
  },
  {
   "cell_type": "markdown",
   "id": "9c05109c",
   "metadata": {
    "slideshow": {
     "slide_type": "slide"
    }
   },
   "source": [
    " \n",
    "* Lógica Proposicional:  Es  la  parte  de  la  lógica  que  estudia  la  formación  de  proposiciones \n",
    "complejas  a  partir  de  proposiciones  simples  y  la  inferencia  de  proposiciones  a  partir  de \n",
    "proposiciones, pero sin tener en cuenta la estructura interna de las proposiciones más simples. \n",
    "Las proposiciones equivalen a frases u oraciones del lenguaje hablado. "
   ]
  },
  {
   "cell_type": "markdown",
   "id": "2781d4a7",
   "metadata": {
    "slideshow": {
     "slide_type": "slide"
    }
   },
   "source": [
    "* La lógica de Predicados, también llamada lógica de primer orden, es una extensión de la lógica \n",
    "proposicional  que usa  variables  para  los objetos. Esta  nos permite dar  una  descripción de la \n",
    "realidad más detallada."
   ]
  },
  {
   "cell_type": "markdown",
   "id": "53a0674f",
   "metadata": {
    "slideshow": {
     "slide_type": "slide"
    }
   },
   "source": [
    "1. Variables y expresiones  \n",
    " \n",
    "Se  deben  declarar  las  variables  que  ustilizaremos.  Estas  deben  de  comenzar  con  una  letra \n",
    "mayúscula.   \n",
    " "
   ]
  },
  {
   "cell_type": "markdown",
   "id": "23263b7e",
   "metadata": {
    "slideshow": {
     "slide_type": "slide"
    }
   },
   "source": [
    "Ejercicio 1: Lo siguiente declara la variable X y Y: "
   ]
  },
  {
   "cell_type": "code",
   "execution_count": 1,
   "id": "e3b6796a",
   "metadata": {},
   "outputs": [],
   "source": [
    "X = True\n",
    "Y = False "
   ]
  },
  {
   "cell_type": "markdown",
   "id": "4c9314bb",
   "metadata": {
    "slideshow": {
     "slide_type": "slide"
    }
   },
   "source": [
    "Ejercicio 2:  \n",
    "a) Las variables aparecen en consultas lógicas, que devuelven un resultado imprimible "
   ]
  },
  {
   "cell_type": "code",
   "execution_count": 3,
   "id": "dc4c5ed8",
   "metadata": {
    "slideshow": {
     "slide_type": "slide"
    }
   },
   "outputs": [
    {
     "data": {
      "text/plain": [
       "False"
      ]
     },
     "execution_count": 3,
     "metadata": {},
     "output_type": "execute_result"
    }
   ],
   "source": [
    "X==False"
   ]
  },
  {
   "cell_type": "markdown",
   "id": "c6463f44",
   "metadata": {
    "slideshow": {
     "slide_type": "slide"
    }
   },
   "source": [
    " \n",
    " \n",
    "b) Las consultas pueden contener varias variables y varios criterios ('&' se lee 'y'):"
   ]
  },
  {
   "cell_type": "code",
   "execution_count": 5,
   "id": "ae8f7a74",
   "metadata": {
    "slideshow": {
     "slide_type": "slide"
    }
   },
   "outputs": [
    {
     "data": {
      "text/plain": [
       "False"
      ]
     },
     "execution_count": 5,
     "metadata": {},
     "output_type": "execute_result"
    }
   ],
   "source": [
    " \n",
    "(X==True) & (Y==True) \n",
    " "
   ]
  },
  {
   "cell_type": "markdown",
   "id": "43b9750c",
   "metadata": {
    "slideshow": {
     "slide_type": "slide"
    }
   },
   "source": [
    " \n",
    "Ejercicio 3: ¿Cuál es el resultado de la siguiente consulta y por qué? "
   ]
  },
  {
   "cell_type": "code",
   "execution_count": 6,
   "id": "c44efdf4",
   "metadata": {
    "slideshow": {
     "slide_type": "slide"
    }
   },
   "outputs": [
    {
     "data": {
      "text/plain": [
       "False"
      ]
     },
     "execution_count": 6,
     "metadata": {},
     "output_type": "execute_result"
    }
   ],
   "source": [
    "(X==True) & (X==False) "
   ]
  },
  {
   "cell_type": "code",
   "execution_count": 9,
   "id": "b4d16a7e",
   "metadata": {},
   "outputs": [
    {
     "data": {
      "text/plain": [
       "True"
      ]
     },
     "execution_count": 9,
     "metadata": {},
     "output_type": "execute_result"
    }
   ],
   "source": [
    "Y==0"
   ]
  },
  {
   "cell_type": "code",
   "execution_count": 10,
   "id": "e7915154",
   "metadata": {},
   "outputs": [
    {
     "data": {
      "text/plain": [
       "int"
      ]
     },
     "execution_count": 10,
     "metadata": {},
     "output_type": "execute_result"
    }
   ],
   "source": [
    "type(1)"
   ]
  },
  {
   "cell_type": "code",
   "execution_count": 11,
   "id": "a763746b",
   "metadata": {},
   "outputs": [
    {
     "data": {
      "text/plain": [
       "int"
      ]
     },
     "execution_count": 11,
     "metadata": {},
     "output_type": "execute_result"
    }
   ],
   "source": [
    "type(0)"
   ]
  },
  {
   "cell_type": "code",
   "execution_count": 13,
   "id": "cdd4aa60",
   "metadata": {},
   "outputs": [
    {
     "data": {
      "text/plain": [
       "bool"
      ]
     },
     "execution_count": 13,
     "metadata": {},
     "output_type": "execute_result"
    }
   ],
   "source": [
    "type(True)"
   ]
  },
  {
   "cell_type": "code",
   "execution_count": 14,
   "id": "ba3baa8c",
   "metadata": {
    "slideshow": {
     "slide_type": "slide"
    }
   },
   "outputs": [
    {
     "data": {
      "text/plain": [
       "bool"
      ]
     },
     "execution_count": 14,
     "metadata": {},
     "output_type": "execute_result"
    }
   ],
   "source": [
    "type(False)"
   ]
  },
  {
   "cell_type": "markdown",
   "id": "66ba4ded",
   "metadata": {
    "slideshow": {
     "slide_type": "slide"
    }
   },
   "source": [
    " \n",
    "Ejercicio 4: Además de números y valores booleanos, las variables pueden representar cadenas. \n",
    "Así  mismo,  las  consultas  pueden  incluir  expresiones  de  Python.  La  siguiente  consulta  debe \n",
    "devolver todas las X e Y, donde X es un nombre ingresado e Y sea 'Hola' seguido de la primera \n",
    "letra de X "
   ]
  },
  {
   "cell_type": "code",
   "execution_count": 15,
   "id": "433f6e8c",
   "metadata": {
    "slideshow": {
     "slide_type": "slide"
    }
   },
   "outputs": [
    {
     "name": "stdout",
     "output_type": "stream",
     "text": [
      "Por favor entre su nombre: Marco\n"
     ]
    }
   ],
   "source": [
    "X = input('Por favor entre su nombre: ')\n",
    "Y = 'Hello '"
   ]
  },
  {
   "cell_type": "code",
   "execution_count": 16,
   "id": "c9827fce",
   "metadata": {},
   "outputs": [
    {
     "data": {
      "text/plain": [
       "'Marco'"
      ]
     },
     "execution_count": 16,
     "metadata": {},
     "output_type": "execute_result"
    }
   ],
   "source": [
    "X "
   ]
  },
  {
   "cell_type": "code",
   "execution_count": 17,
   "id": "24ecf469",
   "metadata": {},
   "outputs": [
    {
     "data": {
      "text/plain": [
       "'Hello '"
      ]
     },
     "execution_count": 17,
     "metadata": {},
     "output_type": "execute_result"
    }
   ],
   "source": [
    "Y "
   ]
  },
  {
   "cell_type": "code",
   "execution_count": 19,
   "id": "61cbdb21",
   "metadata": {},
   "outputs": [
    {
     "data": {
      "text/plain": [
       "str"
      ]
     },
     "execution_count": 19,
     "metadata": {},
     "output_type": "execute_result"
    }
   ],
   "source": [
    "type(X)"
   ]
  },
  {
   "cell_type": "code",
   "execution_count": 18,
   "id": "679aa1d4",
   "metadata": {
    "slideshow": {
     "slide_type": "slide"
    }
   },
   "outputs": [
    {
     "data": {
      "text/plain": [
       "'Hello Marco'"
      ]
     },
     "execution_count": 18,
     "metadata": {},
     "output_type": "execute_result"
    }
   ],
   "source": [
    "Y + X"
   ]
  },
  {
   "cell_type": "markdown",
   "id": "c02a2931",
   "metadata": {
    "slideshow": {
     "slide_type": "slide"
    }
   },
   "source": [
    "# Los operadores lógicos y sus tablas de verdad. Didáctica del tema a través de cuadernos jupyter con lenguaje Python"
   ]
  },
  {
   "cell_type": "markdown",
   "id": "b8723c47",
   "metadata": {
    "slideshow": {
     "slide_type": "slide"
    }
   },
   "source": [
    "* Objetivo: \n",
    "\n",
    "presentar los operadores lógicos de Python e ilustrar el uso de bucles `for` anidados para mostrar sus tablas de verdad."
   ]
  },
  {
   "cell_type": "markdown",
   "id": "984c4842",
   "metadata": {
    "slideshow": {
     "slide_type": "slide"
    }
   },
   "source": [
    "Aunque ya hay una amplia colección de artículos dedicados a Python, debemos admitir que hay bastantes elementos del lenguaje que aún no han sido presentados en familia. "
   ]
  },
  {
   "cell_type": "markdown",
   "id": "59b8bf75",
   "metadata": {
    "slideshow": {
     "slide_type": "slide"
    }
   },
   "source": [
    "Es el caso, por ejemplo, de los operadores lógicos, de los que nos ocuparemos hoy. Mostraremos los distintos tipos y dejaremos que Python construya las respectivas tablas de verdad, ejemplo que nos servirá, a su vez, para ilustrar la anidación de un bucle for dentro de otro."
   ]
  },
  {
   "cell_type": "markdown",
   "id": "71d766e9",
   "metadata": {
    "slideshow": {
     "slide_type": "slide"
    }
   },
   "source": [
    "Con toda certeza que te has cruzado alguna vez en tu vida con los operadores lógicos o, como también se los conoce, booleanos. No tengo intención de darte una clase de álgebra booleana, de modo que nos centraremos directamente en su representación en Python."
   ]
  },
  {
   "cell_type": "markdown",
   "id": "9fd9727b",
   "metadata": {
    "slideshow": {
     "slide_type": "slide"
    }
   },
   "source": [
    "Los tres operadores lógicos básicos son O, Y y NO, representados en Python por or, and y not, respectivamente.\n",
    "\n",
    "Podemos incluir también el O EXCLUSIVO, que es verdadero cuando uno y solo uno de los operandos lo es, pero estrictamente debes saber que se deriva a partir de los tres básicos. Su representación es ^, el sombrero o caret."
   ]
  },
  {
   "cell_type": "markdown",
   "id": "352baa0f",
   "metadata": {
    "slideshow": {
     "slide_type": "slide"
    }
   },
   "source": [
    "Como ejercicio práctico, vamos a realizar un programa que construya las tablas de verdad correspondientes."
   ]
  },
  {
   "cell_type": "code",
   "execution_count": 20,
   "id": "ecc70726",
   "metadata": {},
   "outputs": [],
   "source": [
    "booleanos = [True, False]"
   ]
  },
  {
   "cell_type": "code",
   "execution_count": 22,
   "id": "50ee6697",
   "metadata": {},
   "outputs": [
    {
     "name": "stdout",
     "output_type": "stream",
     "text": [
      "X\tY\tX or Y\n"
     ]
    }
   ],
   "source": [
    "print('X\\tY\\tX or Y')"
   ]
  },
  {
   "cell_type": "code",
   "execution_count": 33,
   "id": "0fc8cace",
   "metadata": {
    "slideshow": {
     "slide_type": "slide"
    }
   },
   "outputs": [
    {
     "name": "stdout",
     "output_type": "stream",
     "text": [
      "X\tY\tX o Y\n",
      "-----------------------\n",
      "True \t True \t True\n",
      "True \t False \t True\n",
      "False \t True \t True\n",
      "False \t False \t False\n"
     ]
    }
   ],
   "source": [
    "print('X\\tY\\tX o Y')\n",
    "print('-'*23)\n",
    "for X in booleanos:\n",
    "    for Y in booleanos:\n",
    "        print('{} \\t {} \\t {}'.format(X,Y,X or Y))"
   ]
  },
  {
   "cell_type": "markdown",
   "id": "684a4ba6",
   "metadata": {},
   "source": [
    "# Tabla de verdad de la conjunción "
   ]
  },
  {
   "cell_type": "code",
   "execution_count": 34,
   "id": "3e9e65b5",
   "metadata": {
    "slideshow": {
     "slide_type": "slide"
    }
   },
   "outputs": [
    {
     "name": "stdout",
     "output_type": "stream",
     "text": [
      "X\tY\tX y Y\n",
      "-----------------------\n",
      "True \t True \t True\n",
      "True \t False \t False\n",
      "False \t True \t False\n",
      "False \t False \t False\n"
     ]
    }
   ],
   "source": [
    "print('X\\tY\\tX y Y')\n",
    "print('-'*23)\n",
    "for X in booleanos:\n",
    "    for Y in booleanos:\n",
    "        print('{} \\t {} \\t {}'.format(X,Y,X & Y))"
   ]
  },
  {
   "cell_type": "markdown",
   "id": "beea8ae9",
   "metadata": {
    "slideshow": {
     "slide_type": "slide"
    }
   },
   "source": [
    "## [Video de apoyo a la lectura interactiva y experimental de este cuaderno](https://www.youtube.com/watch?v=q7ETehWflEY)"
   ]
  },
  {
   "cell_type": "code",
   "execution_count": null,
   "id": "4db81097",
   "metadata": {
    "slideshow": {
     "slide_type": "slide"
    }
   },
   "outputs": [],
   "source": [
    "booleanos = [False, True]\n",
    "\n",
    "# Tabla de verdad de or\n",
    "\n",
    "print('x\\ty\\tx or y')\n",
    "print('-'*22)\n",
    "for x in booleanos:\n",
    "    for y in booleanos:\n",
    "        print(x, y, x or y, sep = '\\t')\n",
    "\n",
    "print()\n",
    "\n",
    "# Tabla de verdad de and\n",
    "\n",
    "print('x\\ty\\tx and y')\n",
    "print('-'*22)\n",
    "for x in booleanos:\n",
    "    for y in booleanos:\n",
    "        print(x, y, x and y, sep = '\\t')\n",
    "        \n",
    "print()"
   ]
  },
  {
   "cell_type": "code",
   "execution_count": null,
   "id": "6af7e34d",
   "metadata": {
    "slideshow": {
     "slide_type": "slide"
    }
   },
   "outputs": [],
   "source": [
    "# Tabla de verdad de not\n",
    "\n",
    "print('x\\tnot x')\n",
    "print('-'*13)\n",
    "for x in booleanos:\n",
    "    print(x, not x, sep = '\\t')\n",
    "\n",
    "print()\n",
    "\n",
    "# Tabla de verdad de ^\n",
    "\n",
    "print('x\\ty\\tx ^ y')\n",
    "print('-'*21)\n",
    "for x in booleanos:\n",
    "    for y in booleanos:\n",
    "        print(x, y, x ^ y, sep = '\\t') "
   ]
  },
  {
   "cell_type": "code",
   "execution_count": null,
   "id": "1f3bebf1",
   "metadata": {
    "slideshow": {
     "slide_type": "slide"
    }
   },
   "outputs": [],
   "source": []
  },
  {
   "cell_type": "code",
   "execution_count": null,
   "id": "ae1b6f33",
   "metadata": {
    "slideshow": {
     "slide_type": "slide"
    }
   },
   "outputs": [],
   "source": []
  },
  {
   "cell_type": "code",
   "execution_count": null,
   "id": "4107b96b",
   "metadata": {
    "slideshow": {
     "slide_type": "slide"
    }
   },
   "outputs": [],
   "source": []
  },
  {
   "cell_type": "markdown",
   "id": "ee4f3aa9",
   "metadata": {
    "slideshow": {
     "slide_type": "slide"
    }
   },
   "source": [
    "## Referentes\n",
    "\n",
    "* lógica: https://www.studocu.com/pe/document/universidad-catolica-de-santa-maria/estructuras-discretas/laboratorio-4-logica-proposicional-y-programacion-logica-en-python/10784297"
   ]
  },
  {
   "cell_type": "code",
   "execution_count": null,
   "id": "c7e6f1e2",
   "metadata": {},
   "outputs": [],
   "source": []
  }
 ],
 "metadata": {
  "celltoolbar": "Slideshow",
  "kernelspec": {
   "display_name": "Python 3 (ipykernel)",
   "language": "python",
   "name": "python3"
  },
  "language_info": {
   "codemirror_mode": {
    "name": "ipython",
    "version": 3
   },
   "file_extension": ".py",
   "mimetype": "text/x-python",
   "name": "python",
   "nbconvert_exporter": "python",
   "pygments_lexer": "ipython3",
   "version": "3.9.12"
  },
  "rise": {
   "theme": "sky"
  }
 },
 "nbformat": 4,
 "nbformat_minor": 5
}
