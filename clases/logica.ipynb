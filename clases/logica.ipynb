{
 "cells": [
  {
   "cell_type": "markdown",
   "id": "1116f967",
   "metadata": {
    "slideshow": {
     "slide_type": "slide"
    }
   },
   "source": [
    "<a href=\"https://colab.research.google.com/github/marco-canas/Fundamentos-de-la-aritm-tica/blob/main/clases/criba.ipynb\" target=\"_parent\"><img src=\"https://colab.research.google.com/assets/colab-badge.svg\" alt=\"Open In Colab\"/></a>"
   ]
  },
  {
   "cell_type": "markdown",
   "id": "2435e331",
   "metadata": {
    "slideshow": {
     "slide_type": "slide"
    }
   },
   "source": [
    "# Lógica Proposicional Y Didáctica de ella a través de Python"
   ]
  },
  {
   "cell_type": "markdown",
   "id": "7103b9e9",
   "metadata": {
    "slideshow": {
     "slide_type": "slide"
    }
   },
   "source": [
    "## Objetivos  "
   ]
  },
  {
   "cell_type": "markdown",
   "id": "eed8c5f8",
   "metadata": {
    "slideshow": {
     "slide_type": "slide"
    }
   },
   "source": [
    "* Aprender a programar enunciados de lógica proposicional para obtener resultados (conslusiones) \n",
    "* Aplicar los conceptos de programación lógica. "
   ]
  },
  {
   "cell_type": "markdown",
   "id": "a48a986a",
   "metadata": {
    "slideshow": {
     "slide_type": "slide"
    }
   },
   "source": [
    "## TEMAS A TRATAR\n",
    " \n",
    " \n",
    " * Conceptos y fundamentos \n",
    " * Variables y expresiones \n",
    " * Loops \n",
    " * Funciones lógicas  \n",
    " * Funciones de agregación\n",
    " * Ejercicios "
   ]
  },
  {
   "cell_type": "markdown",
   "id": "5e0e2cea",
   "metadata": {
    "slideshow": {
     "slide_type": "slide"
    }
   },
   "source": [
    "## MARCO TEÓRICO\n",
    " "
   ]
  },
  {
   "cell_type": "markdown",
   "id": "5f118fbb",
   "metadata": {
    "slideshow": {
     "slide_type": "slide"
    }
   },
   "source": [
    "En este laboratorio trataremos sobre la programación logica que se fundamenta en los conceptos y teorías de la logica proposicional. "
   ]
  },
  {
   "cell_type": "markdown",
   "id": "04a8cb3a",
   "metadata": {
    "slideshow": {
     "slide_type": "slide"
    }
   },
   "source": [
    "## 1. Concepto y fundamentos "
   ]
  },
  {
   "cell_type": "markdown",
   "id": "31d10c3c",
   "metadata": {
    "slideshow": {
     "slide_type": "slide"
    }
   },
   "source": [
    "Los conceptos que utilizaremos son los siguientes: \n",
    "• Lógica: Lo que es congruente, ordenado y bien estructurado. Es la ciencia del pensamiento y la \n",
    "razón. "
   ]
  },
  {
   "cell_type": "markdown",
   "id": "44066c8e",
   "metadata": {
    "slideshow": {
     "slide_type": "slide"
    }
   },
   "source": [
    " \n",
    "• Proposición: Es una afirmación que comunica una idea verdadera o falsa. De los siguientes \n",
    "ejemplos, establecer el valor de verdad de las siguientes proposiciones:  \n",
    "* $q$: España es el campeón mundial de futbol del 2010. "
   ]
  },
  {
   "cell_type": "markdown",
   "id": "6790d8f0",
   "metadata": {
    "slideshow": {
     "slide_type": "slide"
    }
   },
   "source": [
    "Esta proposición es verdadera, pues España gano la final de futbol del 2010.  "
   ]
  },
  {
   "cell_type": "markdown",
   "id": "79a9b40c",
   "metadata": {
    "slideshow": {
     "slide_type": "slide"
    }
   },
   "source": [
    "* $r$: Junio es el quinto mes del año. \n",
    "  La proposición es falsa. Al enumerar los meses se puede apreciar que junio es el sexto mes del año.  \n",
    "* $s$: $2$ elevado a la 3 es 8.  \n",
    "\n",
    "$$ 2^{3}= 8, $$\n",
    "\n",
    "la proposición es verdadera. "
   ]
  },
  {
   "cell_type": "markdown",
   "id": "c572db8b",
   "metadata": {
    "slideshow": {
     "slide_type": "slide"
    }
   },
   "source": [
    " \n",
    "* Lógica Proposicional:  Es  la  parte  de  la  lógica  que  estudia  la  formación  de  proposiciones \n",
    "complejas  a  partir  de  proposiciones  simples  y  la  inferencia  de  proposiciones  a  partir  de \n",
    "proposiciones, pero sin tener en cuenta la estructura interna de las proposiciones más simples. \n",
    "Las proposiciones equivalen a frases u oraciones del lenguaje hablado. "
   ]
  },
  {
   "cell_type": "markdown",
   "id": "92cd3305",
   "metadata": {
    "slideshow": {
     "slide_type": "slide"
    }
   },
   "source": [
    " \n",
    "• La lgica de Predicados, tambin llamada lgica de primer orden, es una extensin de la lgica \n",
    "proposicional  que usa  variables  para  los objetos. Esta  nos permite dar  una  descripcin de la \n",
    "realidad ms detallada.  \n",
    "• Programacin Lgica: Constituye una herramienta que tradicionalmente ha provisto de una \n",
    "slida estructura conceptual  para representar conocimiento. Puede  ser usada  para describir y \n",
    "recuperar  conocimiento  sobre  un  dominio  de  aplicacin  y  para  describir  tareas  como  la \n",
    "capacidad de encontrar solucin a problemas que normalmente se consideran dentro del campo \n",
    "de la Inteligencia Artificial. "
   ]
  },
  {
   "cell_type": "markdown",
   "id": "b1912321",
   "metadata": {
    "slideshow": {
     "slide_type": "slide"
    }
   },
   "source": [
    "Esta es considerada una programación por descripción. El programa \n",
    "se construye describiendo el  área de aplicación, esto es: se señala el que se desea (mediante \n",
    "hechos) pero no el cómo obtenerlo, esto está implícito. "
   ]
  },
  {
   "cell_type": "markdown",
   "id": "bb34e223",
   "metadata": {
    "slideshow": {
     "slide_type": "slide"
    }
   },
   "source": [
    " \n",
    "La programación lógica esta basada en los fundamentos teóricos de la lógica matemática."
   ]
  },
  {
   "cell_type": "markdown",
   "id": "49572b55",
   "metadata": {
    "slideshow": {
     "slide_type": "slide"
    }
   },
   "source": [
    " \n",
    "* Programa Lógico:  Se  configura  como  un  conjunto  de  hechos  (proposiciones)  y  de  reglas \n",
    "lógicas previamente establecidas, que obtienen conclusiones en base a una serie de preguntas lógicas. Este se transforma en un conjunto de declaraciones formales de especificaciones que \n",
    "deben ser correctas por definición. "
   ]
  },
  {
   "cell_type": "markdown",
   "id": "5541870d",
   "metadata": {
    "slideshow": {
     "slide_type": "slide"
    }
   },
   "source": [
    " \n",
    "En  consecuencia,  un  programa  lógico  se  configura  como  un  conjunto  de  hechos  (asertos  o \n",
    "proposiciones), y de reglas lógicas previamente establecidas, que obtienen conclusiones en base \n",
    "a una serie de preguntas lógicas. El control es inherente al sistema, el que permite investigar las \n",
    "preguntas  lógicas.  Al separar  el control y  la  lógica, el  programa  lógico  se transforma  en  un \n",
    "conjunto de declaraciones formales de especificaciones que deben ser correctas por definición. \n",
    "* Hecho: cosa que sucede \n",
    "* Regla: relación entre hechos "
   ]
  },
  {
   "cell_type": "markdown",
   "id": "a93cda78",
   "metadata": {
    "slideshow": {
     "slide_type": "slide"
    }
   },
   "source": [
    "• Sistema  de  Programacin  Lgica:  El  conjunto  de  hechos  y  reglas  constituyen  una \n",
    "descripcin, que llega a ser un programa donde combinado con un procedimiento de inferencia \n",
    "independiente de la aplicacin hace posible a la computadora sacar conclusiones acerca del rea \n",
    "de  aplicacin  y  responder  preguntas  an  cuando  estas  respuestas  no  estn  explcitamente \n",
    "registradas en la descripcin.  \n",
    " "
   ]
  },
  {
   "cell_type": "markdown",
   "id": "9ee9ca13",
   "metadata": {
    "slideshow": {
     "slide_type": "slide"
    }
   },
   "source": [
    "\n",
    "• Simular comportamiento inteligente (para juegos o sistemas expertos), \n",
    "• Consultar conjuntos complejos de información relacionada (por ejemplo, en la integración \n",
    "de datos o el procesamiento del lenguaje natural), \n",
    "• Realizar algoritmos recursivos (por ejemplo, en la estructura de datos jerárquica) "
   ]
  },
  {
   "cell_type": "markdown",
   "id": "492c0143",
   "metadata": {
    "slideshow": {
     "slide_type": "slide"
    }
   },
   "source": [
    "1. Variables y expresiones  \n",
    " \n",
    "Se  deben  declarar  las  variables  que  ustilizaremos.  Estas  deben  de  comenzar  con  una  letra \n",
    "mayúscula.   \n",
    " "
   ]
  },
  {
   "cell_type": "markdown",
   "id": "af0866a0",
   "metadata": {
    "slideshow": {
     "slide_type": "slide"
    }
   },
   "source": [
    "Ejercicio 1: Lo siguiente declara la variable X y Y: "
   ]
  },
  {
   "cell_type": "markdown",
   "id": "4cbf0d33",
   "metadata": {
    "slideshow": {
     "slide_type": "slide"
    }
   },
   "source": [
    "Ejercicio 2:  \n",
    "a) Las variables aparecen en consultas lógicas, que devuelven un resultado imprimible "
   ]
  },
  {
   "cell_type": "code",
   "execution_count": 8,
   "id": "961a381d",
   "metadata": {
    "slideshow": {
     "slide_type": "slide"
    }
   },
   "outputs": [],
   "source": [
    "X = True\n",
    "Y = False"
   ]
  },
  {
   "cell_type": "code",
   "execution_count": 6,
   "id": "b656aa7f",
   "metadata": {
    "slideshow": {
     "slide_type": "slide"
    }
   },
   "outputs": [
    {
     "name": "stdout",
     "output_type": "stream",
     "text": [
      "True\n"
     ]
    }
   ],
   "source": [
    "print(X==1) "
   ]
  },
  {
   "cell_type": "markdown",
   "id": "3f060b33",
   "metadata": {
    "slideshow": {
     "slide_type": "slide"
    }
   },
   "source": [
    " \n",
    " \n",
    "b) Las consultas pueden contener varias variables y varios criterios ('&' se lee 'y'):"
   ]
  },
  {
   "cell_type": "code",
   "execution_count": 9,
   "id": "0977cf3b",
   "metadata": {
    "slideshow": {
     "slide_type": "slide"
    }
   },
   "outputs": [
    {
     "name": "stdout",
     "output_type": "stream",
     "text": [
      "True\n"
     ]
    }
   ],
   "source": [
    " \n",
    "print((X==True) & (Y==False)) \n",
    " "
   ]
  },
  {
   "cell_type": "markdown",
   "id": "e1b75150",
   "metadata": {
    "slideshow": {
     "slide_type": "slide"
    }
   },
   "source": [
    " \n",
    "Ejercicio 3: ¿Cuál es el resultado de la siguiente consulta y por qué? "
   ]
  },
  {
   "cell_type": "code",
   "execution_count": 10,
   "id": "04fe0789",
   "metadata": {
    "slideshow": {
     "slide_type": "slide"
    }
   },
   "outputs": [
    {
     "name": "stdout",
     "output_type": "stream",
     "text": [
      "False\n"
     ]
    }
   ],
   "source": [
    "print((X==True) & (X==False)) "
   ]
  },
  {
   "cell_type": "markdown",
   "id": "c4401134",
   "metadata": {
    "slideshow": {
     "slide_type": "slide"
    }
   },
   "source": [
    " \n",
    "Ejercicio 4: Además de números y valores booleanos, las variables pueden representar cadenas. \n",
    "Así  mismo,  las  consultas  pueden  incluir  expresiones  de  Python.  La  siguiente  consulta  debe \n",
    "devolver todas las X e Y, donde X es un nombre ingresado e Y sea 'Hola' seguido de la primera \n",
    "letra de X "
   ]
  },
  {
   "cell_type": "code",
   "execution_count": 17,
   "id": "daf52885",
   "metadata": {
    "slideshow": {
     "slide_type": "slide"
    }
   },
   "outputs": [
    {
     "name": "stdout",
     "output_type": "stream",
     "text": [
      "Por favor entre su nombre: Marco\n"
     ]
    }
   ],
   "source": [
    "X = input('Por favor entre su nombre: ')\n",
    "Y = 'Hello '"
   ]
  },
  {
   "cell_type": "code",
   "execution_count": 19,
   "id": "bf56a9ff",
   "metadata": {
    "slideshow": {
     "slide_type": "slide"
    }
   },
   "outputs": [
    {
     "name": "stdout",
     "output_type": "stream",
     "text": [
      "Hello Marco\n"
     ]
    }
   ],
   "source": [
    "print(Y + X)"
   ]
  },
  {
   "cell_type": "markdown",
   "id": "f195e751",
   "metadata": {
    "slideshow": {
     "slide_type": "slide"
    }
   },
   "source": [
    "# Python: Los operadores lógicos y sus tablas de verdad"
   ]
  },
  {
   "cell_type": "markdown",
   "id": "15cc792d",
   "metadata": {
    "slideshow": {
     "slide_type": "slide"
    }
   },
   "source": [
    "* Objetivo: \n",
    "\n",
    "presentar los operadores lógicos de Python e ilustrar el uso de bucles for anidados para mostrar sus tablas de verdad."
   ]
  },
  {
   "cell_type": "markdown",
   "id": "8733c449",
   "metadata": {
    "slideshow": {
     "slide_type": "slide"
    }
   },
   "source": [
    "Aunque ya hay una amplia colección de artículos dedicados a Python, debemos admitir que hay bastantes elementos del lenguaje que aún no han sido presentados en familia. Es el caso, por ejemplo, de los operadores lógicos, de los que nos ocuparemos hoy. Mostraremos los distintos tipos y dejaremos que Python construya las respectivas tablas de verdad, ejemplo que nos servirá, a su vez, para ilustrar la anidación de un bucle for dentro de otro."
   ]
  },
  {
   "cell_type": "markdown",
   "id": "f35f015b",
   "metadata": {
    "slideshow": {
     "slide_type": "slide"
    }
   },
   "source": [
    "Con toda certeza que te has cruzado alguna vez en tu vida con los operadores lógicos o, como también se los conoce, booleanos. No tengo intención de darte una clase de álgebra booleana, de modo que nos centraremos directamente en su representación en Python."
   ]
  },
  {
   "cell_type": "markdown",
   "id": "1a653e1e",
   "metadata": {
    "slideshow": {
     "slide_type": "slide"
    }
   },
   "source": [
    "Los tres operadores lógicos básicos son O, Y y NO, representados en Python por or, and y not, respectivamente.\n",
    "\n",
    "Podemos incluir también el O EXCLUSIVO, que es verdadero cuando uno y solo uno de los operandos lo es, pero estrictamente debes saber que se deriva a partir de los tres básicos. Su representación es ^, el sombrero o caret."
   ]
  },
  {
   "cell_type": "markdown",
   "id": "58276070",
   "metadata": {
    "slideshow": {
     "slide_type": "slide"
    }
   },
   "source": [
    "Como ejercicio práctico, vamos a realizar un programa que construya las tablas de verdad correspondientes."
   ]
  },
  {
   "cell_type": "code",
   "execution_count": 21,
   "id": "ec81f1ab",
   "metadata": {
    "slideshow": {
     "slide_type": "slide"
    }
   },
   "outputs": [
    {
     "name": "stdout",
     "output_type": "stream",
     "text": [
      "x \t y \t x or y\n",
      "----------------------\n",
      "False\tFalse\tFalse\n",
      "False\tTrue\tTrue\n",
      "True\tFalse\tTrue\n",
      "True\tTrue\tTrue\n",
      "\n"
     ]
    }
   ],
   "source": [
    "booleanos = [False, True]\n",
    "\n",
    "# Tabla de verdad de or\n",
    "\n",
    "print('x \\t y \\t x or y')\n",
    "print('-'*22)\n",
    "for x in booleanos:\n",
    "    for y in booleanos:\n",
    "        print(x, y, x or y, sep = '\\t')\n",
    "\n",
    "print()\n"
   ]
  },
  {
   "cell_type": "markdown",
   "id": "751d4332",
   "metadata": {},
   "source": [
    "## [Video de apoyo a la lectura interactiva y experimental de este cuaderno]()"
   ]
  },
  {
   "cell_type": "code",
   "execution_count": null,
   "id": "3cc6a8ce",
   "metadata": {},
   "outputs": [],
   "source": []
  },
  {
   "cell_type": "code",
   "execution_count": null,
   "id": "926034c8",
   "metadata": {},
   "outputs": [],
   "source": []
  },
  {
   "cell_type": "code",
   "execution_count": null,
   "id": "4664db8a",
   "metadata": {},
   "outputs": [],
   "source": []
  },
  {
   "cell_type": "code",
   "execution_count": null,
   "id": "e83f45d4",
   "metadata": {},
   "outputs": [],
   "source": []
  },
  {
   "cell_type": "markdown",
   "id": "4e7f44a0",
   "metadata": {
    "slideshow": {
     "slide_type": "slide"
    }
   },
   "source": [
    "## Referentes\n",
    "\n",
    "* lógica: https://www.studocu.com/pe/document/universidad-catolica-de-santa-maria/estructuras-discretas/laboratorio-4-logica-proposicional-y-programacion-logica-en-python/10784297"
   ]
  },
  {
   "cell_type": "code",
   "execution_count": null,
   "id": "244bd92d",
   "metadata": {},
   "outputs": [],
   "source": []
  }
 ],
 "metadata": {
  "celltoolbar": "Slideshow",
  "kernelspec": {
   "display_name": "Python 3 (ipykernel)",
   "language": "python",
   "name": "python3"
  },
  "language_info": {
   "codemirror_mode": {
    "name": "ipython",
    "version": 3
   },
   "file_extension": ".py",
   "mimetype": "text/x-python",
   "name": "python",
   "nbconvert_exporter": "python",
   "pygments_lexer": "ipython3",
   "version": "3.9.12"
  }
 },
 "nbformat": 4,
 "nbformat_minor": 5
}
