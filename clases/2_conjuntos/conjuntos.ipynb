{
 "cells": [
  {
   "cell_type": "markdown",
   "id": "b6179045",
   "metadata": {
    "slideshow": {
     "slide_type": "slide"
    }
   },
   "source": [
    "<table align=\"left\">\n",
    "  <td>\n",
    "<a href=\"https://colab.research.google.com/github/marco-canas/Fundamentos-de-la-aritm-tica/blob/main/clases/unidad_didactica_logica.ipynb\" target=\"_parent\"><img src=\"https://colab.research.google.com/assets/colab-badge.svg\" alt=\"Open In Colab\"/></a>\n",
    "       </td>\n",
    "</table>"
   ]
  },
  {
   "cell_type": "markdown",
   "id": "e8612105",
   "metadata": {
    "slideshow": {
     "slide_type": "slide"
    }
   },
   "source": [
    "# Conjuntos "
   ]
  },
  {
   "cell_type": "markdown",
   "id": "318bd984",
   "metadata": {
    "slideshow": {
     "slide_type": "slide"
    }
   },
   "source": [
    "La teoría de conjuntos es una parte de las matemáticas, también, es la teoría matemática que fundamenta la aritmética y el resto de las teorías matemáticas."
   ]
  },
  {
   "cell_type": "markdown",
   "id": "25dab85d",
   "metadata": {
    "slideshow": {
     "slide_type": "slide"
    }
   },
   "source": [
    "Igualmente, es una parte de la lógica y en particular una parte de la lógica de predicados."
   ]
  },
  {
   "cell_type": "markdown",
   "id": "6abf978c",
   "metadata": {
    "slideshow": {
     "slide_type": "slide"
    }
   },
   "source": [
    "Los conjuntos son un agregado o colección de objetos de cualquier naturaleza con características bien definidas de manera que se puedan distinguir todos sus elementos, por ejemplo: el conjunto de días de la semana, el conjunto de las vocales, el conjunto de los números reales, el conjunto de valores que se pueden obtener al lanzar un dado, etc."
   ]
  },
  {
   "cell_type": "markdown",
   "id": "b5c11bd2",
   "metadata": {
    "slideshow": {
     "slide_type": "slide"
    }
   },
   "source": [
    "Tomando el ejemplo del lanzamiento de un dado, se tiene que este caso es un experimento que tiene como resultado los valores: 1, 2, 3, 4, 5 y 6. "
   ]
  },
  {
   "cell_type": "markdown",
   "id": "630a4ccb",
   "metadata": {
    "slideshow": {
     "slide_type": "slide"
    }
   },
   "source": [
    "Si quisiéramos saber cuál es la posibilidad de que aparezca un 1 o un 6 en el dado, estaríamos\n",
    "empleando la probabilidad a este conjunto o experimento. "
   ]
  },
  {
   "cell_type": "markdown",
   "id": "f62be841",
   "metadata": {
    "slideshow": {
     "slide_type": "slide"
    }
   },
   "source": [
    "Es por ello, que la teoría de conjuntos es aplicada a la probabilidad "
   ]
  },
  {
   "cell_type": "markdown",
   "id": "987a2617",
   "metadata": {
    "slideshow": {
     "slide_type": "slide"
    }
   },
   "source": [
    "A continuación se da a conocer la definición, notación, operaciones, representación geométrica, leyes, etc. de los conjuntos."
   ]
  },
  {
   "cell_type": "markdown",
   "id": "83023a6b",
   "metadata": {
    "slideshow": {
     "slide_type": "slide"
    }
   },
   "source": [
    "## DEFINICIÓN"
   ]
  },
  {
   "cell_type": "markdown",
   "id": "058a2666",
   "metadata": {
    "slideshow": {
     "slide_type": "fragment"
    }
   },
   "source": [
    "De acuerdo a Spiegel, un conjunto es una colección de objetos llamados miembros o elementos del conjunto. Algunos sinónimos de conjunto son: clase,\n",
    "grupo y colección."
   ]
  },
  {
   "cell_type": "markdown",
   "id": "b40cfa6d",
   "metadata": {
    "slideshow": {
     "slide_type": "slide"
    }
   },
   "source": [
    "Para Marques, un conjunto es un agregado o colección de objetos de cualquier naturaleza con características bien definidas de manera que se puedan distinguir todos sus elementos. "
   ]
  },
  {
   "cell_type": "markdown",
   "id": "694e1123",
   "metadata": {
    "slideshow": {
     "slide_type": "slide"
    }
   },
   "source": [
    "A los objetos que lo componen se les llama **elementos** del conjunto."
   ]
  },
  {
   "cell_type": "markdown",
   "id": "3f611294",
   "metadata": {
    "slideshow": {
     "slide_type": "slide"
    }
   },
   "source": [
    "## NOTACIÓN"
   ]
  },
  {
   "cell_type": "markdown",
   "id": "37dfc119",
   "metadata": {
    "slideshow": {
     "slide_type": "slide"
    }
   },
   "source": [
    "* Un conjunto se denota con una letra mayúscula A, B, C \n",
    "\n",
    "* y el elemento por una letra minúscula a, b.\n",
    "* A los elementos se les encierra entre llaves ( {} ) y se separan por comas ( , )."
   ]
  },
  {
   "cell_type": "markdown",
   "id": "b0497a2f",
   "metadata": {
    "slideshow": {
     "slide_type": "slide"
    }
   },
   "source": [
    "## Ejemplos:  "
   ]
  },
  {
   "cell_type": "markdown",
   "id": "fae63f7e",
   "metadata": {
    "slideshow": {
     "slide_type": "slide"
    }
   },
   "source": [
    "1. El conjunto D cuyos elementos son los números que aparecen al lanzar un dado."
   ]
  },
  {
   "cell_type": "markdown",
   "id": "4362d0ef",
   "metadata": {
    "slideshow": {
     "slide_type": "fragment"
    }
   },
   "source": [
    "$$ D = \\{1, 2, 3, 4, 5, 6 \\} $$"
   ]
  },
  {
   "cell_type": "markdown",
   "id": "3a4d45c4",
   "metadata": {
    "slideshow": {
     "slide_type": "slide"
    }
   },
   "source": [
    "2. El conjunto de días de la semana.\n",
    "$$ S = \\{Lunes, Martes, Miércoles, Jueves, Viernes, Sábado, Domingo \\} $$"
   ]
  },
  {
   "cell_type": "markdown",
   "id": "c8f36c24",
   "metadata": {
    "slideshow": {
     "slide_type": "slide"
    }
   },
   "source": [
    "3. El conjunto de las vocales.\n",
    "\n",
    "$$ V = \\{a, e, i, o, u \\} $$"
   ]
  },
  {
   "cell_type": "markdown",
   "id": "282aa05a",
   "metadata": {
    "slideshow": {
     "slide_type": "slide"
    }
   },
   "source": [
    "4. El conjunto de los enteros positivos menores que 10.\n",
    "\n",
    "$$ P = \\{1, 2, 3, 4, 5, 6, 7, 8, 9 \\} $$ "
   ]
  },
  {
   "cell_type": "markdown",
   "id": "ebfbc593",
   "metadata": {
    "slideshow": {
     "slide_type": "slide"
    }
   },
   "source": [
    "# MÉTODOS PARA DEFINICIÓN DE CONJUNTOS"
   ]
  },
  {
   "cell_type": "markdown",
   "id": "dd80fca3",
   "metadata": {
    "slideshow": {
     "slide_type": "slide"
    }
   },
   "source": [
    "Al definir un conjunto se puede hacer de dos formas:"
   ]
  },
  {
   "cell_type": "markdown",
   "id": "e41b3dda",
   "metadata": {
    "slideshow": {
     "slide_type": "slide"
    }
   },
   "source": [
    "## Método de Extensión o Numeración"
   ]
  },
  {
   "cell_type": "markdown",
   "id": "1a1c4545",
   "metadata": {
    "slideshow": {
     "slide_type": "slide"
    }
   },
   "source": [
    "En este método se hace un listado de sus elementos, si esto es posible."
   ]
  },
  {
   "cell_type": "markdown",
   "id": "0adf535d",
   "metadata": {
    "slideshow": {
     "slide_type": "slide"
    }
   },
   "source": [
    "## Ejemplos:  "
   ]
  },
  {
   "cell_type": "markdown",
   "id": "5f2e2505",
   "metadata": {
    "slideshow": {
     "slide_type": "slide"
    }
   },
   "source": [
    "1. El conjunto de las vocales en el alfabeto.\n",
    "$$ V = \\{ a, e, i, o, u \\} $$"
   ]
  },
  {
   "cell_type": "markdown",
   "id": "b951beb3",
   "metadata": {
    "slideshow": {
     "slide_type": "slide"
    }
   },
   "source": [
    "2. Lanzamiento de un par de dados comunes  \n",
    "\n",
    "$$ D = \\{ 1, 2, 3, 4, 5, 6 \\} $$"
   ]
  },
  {
   "cell_type": "markdown",
   "id": "04d852a8",
   "metadata": {
    "slideshow": {
     "slide_type": "slide"
    }
   },
   "source": [
    "3. El conjunto de los triángulos en un plano.  \n",
    "El método de extensión para este caso no se puede utilizar."
   ]
  },
  {
   "cell_type": "markdown",
   "id": "02cc2897",
   "metadata": {
    "slideshow": {
     "slide_type": "slide"
    }
   },
   "source": [
    "# Método de Comprensión o Descripción"
   ]
  },
  {
   "cell_type": "markdown",
   "id": "c9cb6785",
   "metadata": {
    "slideshow": {
     "slide_type": "slide"
    }
   },
   "source": [
    "Se describe alguna propiedad conservada por todos sus miembros y por los no miembros."
   ]
  },
  {
   "cell_type": "markdown",
   "id": "1d0ad846",
   "metadata": {
    "slideshow": {
     "slide_type": "slide"
    }
   },
   "source": [
    "## Ejemplos:"
   ]
  },
  {
   "cell_type": "markdown",
   "id": "0361f271",
   "metadata": {
    "slideshow": {
     "slide_type": "slide"
    }
   },
   "source": [
    "1. El conjunto de las vocales en el alfabeto.  \n",
    "\n",
    "$$ V = \\{ x | x \\ \\text{es una vocal} \\} $$"
   ]
  },
  {
   "cell_type": "markdown",
   "id": "f7f769cc",
   "metadata": {
    "slideshow": {
     "slide_type": "slide"
    }
   },
   "source": [
    "2 El conjunto de los triángulos en un plano\n",
    "$$ T = \\{x | x \\ \\text{es un triángulo en un plano} \\} $$"
   ]
  },
  {
   "cell_type": "markdown",
   "id": "5977f9cd",
   "metadata": {
    "slideshow": {
     "slide_type": "slide"
    }
   },
   "source": [
    "El conjunto del ejemplo 1 se lee “El conjunto de los elementos x tales que x es una\n",
    "vocal”. La línea vertical | se lee “tal que” ó “dado que”. Para el ejemplo 2, se lee “El\n",
    "conjunto de los elementos x dado que x es un triángulo en un plano”"
   ]
  },
  {
   "cell_type": "markdown",
   "id": "f44e5777",
   "metadata": {
    "slideshow": {
     "slide_type": "slide"
    }
   },
   "source": [
    "## TIPOS DE CONJUNTOS"
   ]
  },
  {
   "cell_type": "markdown",
   "id": "35508fb1",
   "metadata": {
    "slideshow": {
     "slide_type": "slide"
    }
   },
   "source": [
    "Según la cantidad de elementos que tenga un conjunto, éstos se pueden clasificar de la siguiente manera:"
   ]
  },
  {
   "cell_type": "markdown",
   "id": "a4a0b363",
   "metadata": {
    "slideshow": {
     "slide_type": "slide"
    }
   },
   "source": [
    "## Conjuntos Finitos"
   ]
  },
  {
   "cell_type": "markdown",
   "id": "462e65dc",
   "metadata": {
    "slideshow": {
     "slide_type": "slide"
    }
   },
   "source": [
    "Son los que tienen un número conocido de elementos."
   ]
  },
  {
   "cell_type": "markdown",
   "id": "7c966c8d",
   "metadata": {
    "slideshow": {
     "slide_type": "slide"
    }
   },
   "source": [
    "### Ejemplos:  \n",
    "\n",
    "* El conjunto de números que aparecen al lanzar un dado.\n",
    "* El conjunto de días de la semana.\n",
    "* El conjunto de las vocales.\n",
    "* El conjunto de los enteros positivos menores que 10."
   ]
  },
  {
   "cell_type": "markdown",
   "id": "4a1eb3b5",
   "metadata": {
    "slideshow": {
     "slide_type": "slide"
    }
   },
   "source": [
    "## Conjuntos Infinitos"
   ]
  },
  {
   "cell_type": "markdown",
   "id": "3b42b745",
   "metadata": {
    "slideshow": {
     "slide_type": "fragment"
    }
   },
   "source": [
    "Son lo que tienen un número ilimitado de elementos.\n",
    "* El conjunto de los números reales\n",
    "* El conjunto de los números reales entre 2 y 5"
   ]
  },
  {
   "cell_type": "markdown",
   "id": "2e985c39",
   "metadata": {
    "slideshow": {
     "slide_type": "slide"
    }
   },
   "source": [
    "## Conjunto universal"
   ]
  },
  {
   "cell_type": "markdown",
   "id": "d59d62e6",
   "metadata": {
    "slideshow": {
     "slide_type": "fragment"
    }
   },
   "source": [
    "Es el conjunto de todos los elementos considerados en un problema o situación\n",
    "dada."
   ]
  },
  {
   "cell_type": "markdown",
   "id": "54660023",
   "metadata": {
    "slideshow": {
     "slide_type": "slide"
    }
   },
   "source": [
    "### Ejemplos:  \n",
    "\n",
    "1. Si solo se desea trabajar con los números reales positivos, el conjunto\n",
    "universal será $U = R^{+} = (0, +\\infty)$"
   ]
  },
  {
   "cell_type": "markdown",
   "id": "52ff65e1",
   "metadata": {
    "slideshow": {
     "slide_type": "slide"
    }
   },
   "source": [
    "2. Si se quiere trabajar con los números que aparecen en un dado, el conjunto universal será $U = \\{ 1, 2, 3, 4, 5, 6 \\}$  \n",
    "\n",
    "Se puede notar que el conjunto universal no es único, depende de la situación."
   ]
  },
  {
   "cell_type": "markdown",
   "id": "81f3e4f5",
   "metadata": {
    "slideshow": {
     "slide_type": "slide"
    }
   },
   "source": [
    "# Conjunto vacío"
   ]
  },
  {
   "cell_type": "markdown",
   "id": "dfc58e65",
   "metadata": {
    "slideshow": {
     "slide_type": "slide"
    }
   },
   "source": [
    "Un conjunto que no tiene elementos y se denota por $\\phi$ ó $\\{\\  \\}$. "
   ]
  },
  {
   "cell_type": "markdown",
   "id": "657c080c",
   "metadata": {
    "slideshow": {
     "slide_type": "slide"
    }
   },
   "source": [
    "## Ejemplos:  \n",
    "\n",
    "1. El conjunto $A = \\{ x \\in \\mathbb{R} / x^{2} + 1 = 0 \\}$ es un conjunto vacío porque no hay ningún número real que satisfaga $x^{2} + 1 = 0$.  \n",
    "\n",
    "2. El conjunto de los meses del año con 27 días."
   ]
  },
  {
   "cell_type": "markdown",
   "id": "9a9da088",
   "metadata": {
    "slideshow": {
     "slide_type": "slide"
    }
   },
   "source": [
    "# DIAGRAMAS DE VENN"
   ]
  },
  {
   "cell_type": "markdown",
   "id": "011f3ef9",
   "metadata": {
    "slideshow": {
     "slide_type": "slide"
    }
   },
   "source": [
    "Cualquier figura geométrica cerrada (círculos, rectángulos, triángulos, óvalos, etc) sirve para representar gráficamente las operaciones entre conjuntos, estos gráficos son llamados Diagramas de Venn."
   ]
  },
  {
   "cell_type": "markdown",
   "id": "471a04ee",
   "metadata": {
    "slideshow": {
     "slide_type": "slide"
    }
   },
   "source": [
    "Normalmente, al conjunto universal se le representa con un rectángulo y los conjuntos con un círculo o elipse, tal y como se muestra en la siguiente figura:  "
   ]
  },
  {
   "cell_type": "markdown",
   "id": "96049c11",
   "metadata": {
    "slideshow": {
     "slide_type": "slide"
    }
   },
   "source": [
    "<img src = 'https://github.com/marco-canas/Fundamentos-de-la-aritm-tica/blob/main/clases/2_conjuntos/diag_venn.png?raw=true'>"
   ]
  },
  {
   "cell_type": "markdown",
   "id": "841f5884",
   "metadata": {
    "slideshow": {
     "slide_type": "slide"
    }
   },
   "source": [
    "* Los diagramas de Venn en ningún momento constituyen una prueba matemática; sin embargo, permiten tener una visión intuitiva de la relación que puede existir entre los conjuntos."
   ]
  },
  {
   "cell_type": "markdown",
   "id": "b9baf06a",
   "metadata": {
    "slideshow": {
     "slide_type": "slide"
    }
   },
   "source": [
    "# OPERACIONES DE CONJUNTOS"
   ]
  },
  {
   "cell_type": "markdown",
   "id": "9d5d6293",
   "metadata": {
    "slideshow": {
     "slide_type": "slide"
    }
   },
   "source": [
    "## Unión"
   ]
  },
  {
   "cell_type": "markdown",
   "id": "947a5377",
   "metadata": {
    "slideshow": {
     "slide_type": "slide"
    }
   },
   "source": [
    "El conjunto de todos los elementos que pertenecen a A o a B, o tanto a A como a\n",
    "B, se llama la unión de $A$ y $B$ y se escribe $A \\cup B$. (Área sombreada).\n",
    "\n",
    "<img src = 'https://github.com/marco-canas/Fundamentos-de-la-aritm-tica/blob/main/clases/2_conjuntos/union.png?raw=true'>"
   ]
  },
  {
   "cell_type": "markdown",
   "id": "75be3529",
   "metadata": {
    "slideshow": {
     "slide_type": "slide"
    }
   },
   "source": [
    "## Intersección"
   ]
  },
  {
   "cell_type": "markdown",
   "id": "91857e0c",
   "metadata": {
    "slideshow": {
     "slide_type": "slide"
    }
   },
   "source": [
    "El conjunto de todos los elementos que pertenecen simultáneamente a A y B se llama la intersección de A y B y se escribe A ∩ B. (Área sombreada)."
   ]
  },
  {
   "cell_type": "markdown",
   "id": "6f001f92",
   "metadata": {
    "slideshow": {
     "slide_type": "slide"
    }
   },
   "source": [
    "<img src = ''>"
   ]
  },
  {
   "cell_type": "markdown",
   "id": "6aac006b",
   "metadata": {
    "slideshow": {
     "slide_type": "slide"
    }
   },
   "source": [
    "## Diferencia"
   ]
  },
  {
   "cell_type": "markdown",
   "id": "884b97a7",
   "metadata": {
    "slideshow": {
     "slide_type": "slide"
    }
   },
   "source": [
    "El conjunto que consiste en todos los elementos de A que no pertenecen a B se llama la diferencia de A y B y se escribe $A – B$. (Área sombreada)."
   ]
  },
  {
   "cell_type": "markdown",
   "id": "9b37084a",
   "metadata": {
    "slideshow": {
     "slide_type": "slide"
    }
   },
   "source": [
    "<img src = ''>"
   ]
  },
  {
   "cell_type": "markdown",
   "id": "84464426",
   "metadata": {
    "slideshow": {
     "slide_type": "slide"
    }
   },
   "source": [
    "## Complemento"
   ]
  },
  {
   "cell_type": "markdown",
   "id": "4bd00bdc",
   "metadata": {
    "slideshow": {
     "slide_type": "slide"
    }
   },
   "source": [
    "Son todos los conjuntos no en A y se escribe A’. (Área sombreada)."
   ]
  },
  {
   "cell_type": "code",
   "execution_count": null,
   "id": "efc6882a",
   "metadata": {
    "slideshow": {
     "slide_type": "slide"
    }
   },
   "outputs": [],
   "source": []
  },
  {
   "cell_type": "code",
   "execution_count": null,
   "id": "e0a10b49",
   "metadata": {},
   "outputs": [],
   "source": []
  },
  {
   "cell_type": "code",
   "execution_count": null,
   "id": "97e3a846",
   "metadata": {},
   "outputs": [],
   "source": []
  },
  {
   "cell_type": "code",
   "execution_count": null,
   "id": "8bf0d7a1",
   "metadata": {
    "slideshow": {
     "slide_type": "slide"
    }
   },
   "outputs": [],
   "source": []
  },
  {
   "cell_type": "code",
   "execution_count": null,
   "id": "de4a5464",
   "metadata": {
    "slideshow": {
     "slide_type": "slide"
    }
   },
   "outputs": [],
   "source": []
  },
  {
   "cell_type": "markdown",
   "id": "6b9d6cd1",
   "metadata": {
    "slideshow": {
     "slide_type": "slide"
    }
   },
   "source": [
    "## Referentes  \n",
    "\n",
    "* ntheory: https://docs.sympy.org/latest/modules/ntheory.html"
   ]
  },
  {
   "cell_type": "code",
   "execution_count": null,
   "id": "e34ead0a",
   "metadata": {},
   "outputs": [],
   "source": []
  }
 ],
 "metadata": {
  "celltoolbar": "Slideshow",
  "kernelspec": {
   "display_name": "Python 3 (ipykernel)",
   "language": "python",
   "name": "python3"
  },
  "language_info": {
   "codemirror_mode": {
    "name": "ipython",
    "version": 3
   },
   "file_extension": ".py",
   "mimetype": "text/x-python",
   "name": "python",
   "nbconvert_exporter": "python",
   "pygments_lexer": "ipython3",
   "version": "3.9.12"
  },
  "rise": {
   "theme": "serif"
  }
 },
 "nbformat": 4,
 "nbformat_minor": 5
}
