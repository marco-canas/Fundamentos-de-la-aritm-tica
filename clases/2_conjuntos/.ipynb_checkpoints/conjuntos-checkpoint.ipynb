{
 "cells": [
  {
   "cell_type": "markdown",
   "id": "b6179045",
   "metadata": {
    "slideshow": {
     "slide_type": "slide"
    }
   },
   "source": [
    "<table align=\"left\">\n",
    "  <td>\n",
    "<a href=\"https://colab.research.google.com/github/marco-canas/Fundamentos-de-la-aritm-tica/blob/main/clases/unidad_didactica_logica.ipynb\" target=\"_parent\"><img src=\"https://colab.research.google.com/assets/colab-badge.svg\" alt=\"Open In Colab\"/></a>\n",
    "       </td>\n",
    "</table>"
   ]
  },
  {
   "cell_type": "markdown",
   "id": "e8612105",
   "metadata": {
    "slideshow": {
     "slide_type": "slide"
    }
   },
   "source": [
    "# Conjuntos "
   ]
  },
  {
   "cell_type": "markdown",
   "id": "356893cf",
   "metadata": {
    "slideshow": {
     "slide_type": "slide"
    }
   },
   "source": [
    "La teoría de conjuntos es una parte de las matemáticas, también, es la teoría matemática que fundamenta la aritmética y el resto de las teorías matemáticas."
   ]
  },
  {
   "cell_type": "markdown",
   "id": "422fe09e",
   "metadata": {
    "slideshow": {
     "slide_type": "slide"
    }
   },
   "source": [
    "Igualmente, es una parte de la lógica y en particular una parte de la lógica de predicados."
   ]
  },
  {
   "cell_type": "markdown",
   "id": "05d0ad5a",
   "metadata": {
    "slideshow": {
     "slide_type": "slide"
    }
   },
   "source": [
    "Los conjuntos son un agregado o colección de objetos de cualquier naturaleza con características bien definidas de manera que se puedan distinguir todos sus elementos, por ejemplo: el conjunto de días de la semana, el conjunto de las vocales, el conjunto de los números reales, el conjunto de valores que se pueden obtener al lanzar un dado, etc."
   ]
  },
  {
   "cell_type": "markdown",
   "id": "8706119e",
   "metadata": {
    "slideshow": {
     "slide_type": "slide"
    }
   },
   "source": [
    "Tomando el ejemplo del lanzamiento de un dado, se tiene que este caso es un experimento que tiene como resultado los valores: 1, 2, 3, 4, 5 y 6. "
   ]
  },
  {
   "cell_type": "markdown",
   "id": "1fcbbd54",
   "metadata": {
    "slideshow": {
     "slide_type": "slide"
    }
   },
   "source": [
    "Si quisiéramos saber cuál es la posibilidad de que aparezca un 1 o un 6 en el dado, estaríamos\n",
    "empleando la probabilidad a este conjunto o experimento. "
   ]
  },
  {
   "cell_type": "markdown",
   "id": "4fff182a",
   "metadata": {
    "slideshow": {
     "slide_type": "slide"
    }
   },
   "source": [
    "Es por ello, que la teoría de conjuntos es aplicada a la probabilidad "
   ]
  },
  {
   "cell_type": "markdown",
   "id": "0e01f6ca",
   "metadata": {
    "slideshow": {
     "slide_type": "slide"
    }
   },
   "source": [
    "A continuación se da a conocer la definición, notación, operaciones, representación geométrica, leyes, etc. de los conjuntos."
   ]
  },
  {
   "cell_type": "markdown",
   "id": "30654ba0",
   "metadata": {
    "slideshow": {
     "slide_type": "slide"
    }
   },
   "source": [
    "## DEFINICIÓN"
   ]
  },
  {
   "cell_type": "markdown",
   "id": "bb478b8b",
   "metadata": {
    "slideshow": {
     "slide_type": "fragment"
    }
   },
   "source": [
    "De acuerdo a Spiegel, un conjunto es una colección de objetos llamados miembros o elementos del conjunto. Algunos sinónimos de conjunto son: clase,\n",
    "grupo y colección."
   ]
  },
  {
   "cell_type": "markdown",
   "id": "b75e84d2",
   "metadata": {
    "slideshow": {
     "slide_type": "slide"
    }
   },
   "source": [
    "Para Marques, un conjunto es un agregado o colección de objetos de cualquier naturaleza con características bien definidas de manera que se puedan distinguir todos sus elementos. "
   ]
  },
  {
   "cell_type": "markdown",
   "id": "30eb4388",
   "metadata": {
    "slideshow": {
     "slide_type": "slide"
    }
   },
   "source": [
    "A los objetos que lo componen se les llama **elementos** del conjunto."
   ]
  },
  {
   "cell_type": "markdown",
   "id": "c8da03c4",
   "metadata": {
    "slideshow": {
     "slide_type": "slide"
    }
   },
   "source": [
    "## NOTACIÓN"
   ]
  },
  {
   "cell_type": "markdown",
   "id": "49fa09f4",
   "metadata": {
    "slideshow": {
     "slide_type": "slide"
    }
   },
   "source": [
    "* Un conjunto se denota con una letra mayúscula A, B, C \n",
    "\n",
    "* y el elemento por una letra minúscula a, b.\n",
    "* A los elementos se les encierra entre llaves ( {} ) y se separan por comas ( , )."
   ]
  },
  {
   "cell_type": "markdown",
   "id": "b91d08d1",
   "metadata": {
    "slideshow": {
     "slide_type": "slide"
    }
   },
   "source": [
    "## Ejemplos:  "
   ]
  },
  {
   "cell_type": "markdown",
   "id": "1b7d753b",
   "metadata": {
    "slideshow": {
     "slide_type": "slide"
    }
   },
   "source": [
    "1. El conjunto D cuyos elementos son los números que aparecen al lanzar un dado."
   ]
  },
  {
   "cell_type": "markdown",
   "id": "fe3f6aea",
   "metadata": {
    "slideshow": {
     "slide_type": "fragment"
    }
   },
   "source": [
    "$$ D = \\{1, 2, 3, 4, 5, 6 \\} $$"
   ]
  },
  {
   "cell_type": "markdown",
   "id": "bd3042e1",
   "metadata": {
    "slideshow": {
     "slide_type": "slide"
    }
   },
   "source": [
    "2. El conjunto de días de la semana.\n",
    "$$ S = \\{Lunes, Martes, Miércoles, Jueves, Viernes, Sábado, Domingo \\} $$"
   ]
  },
  {
   "cell_type": "markdown",
   "id": "da9a7b91",
   "metadata": {
    "slideshow": {
     "slide_type": "slide"
    }
   },
   "source": [
    "3. El conjunto de las vocales.\n",
    "\n",
    "$$ V = \\{a, e, i, o, u \\} $$"
   ]
  },
  {
   "cell_type": "markdown",
   "id": "c54843d2",
   "metadata": {
    "slideshow": {
     "slide_type": "slide"
    }
   },
   "source": [
    "4. El conjunto de los enteros positivos menores que 10.\n",
    "\n",
    "$$ P = \\{1, 2, 3, 4, 5, 6, 7, 8, 9 \\} $$ "
   ]
  },
  {
   "cell_type": "markdown",
   "id": "4f1383ea",
   "metadata": {
    "slideshow": {
     "slide_type": "slide"
    }
   },
   "source": [
    "# MÉTODOS PARA DEFINICIÓN DE CONJUNTOS"
   ]
  },
  {
   "cell_type": "markdown",
   "id": "8b559079",
   "metadata": {
    "slideshow": {
     "slide_type": "slide"
    }
   },
   "source": [
    "Al definir un conjunto se puede hacer de dos formas:"
   ]
  },
  {
   "cell_type": "markdown",
   "id": "47990515",
   "metadata": {
    "slideshow": {
     "slide_type": "slide"
    }
   },
   "source": [
    "## Método de Extensión o Numeración"
   ]
  },
  {
   "cell_type": "markdown",
   "id": "7a276a3b",
   "metadata": {
    "slideshow": {
     "slide_type": "slide"
    }
   },
   "source": [
    "En este método se hace un listado de sus elementos, si esto es posible."
   ]
  },
  {
   "cell_type": "markdown",
   "id": "e2f3b6b8",
   "metadata": {
    "slideshow": {
     "slide_type": "slide"
    }
   },
   "source": [
    "## Ejemplos:  "
   ]
  },
  {
   "cell_type": "markdown",
   "id": "68db95fb",
   "metadata": {
    "slideshow": {
     "slide_type": "slide"
    }
   },
   "source": [
    "1. El conjunto de las vocales en el alfabeto.\n",
    "$$ V = \\{ a, e, i, o, u \\} $$"
   ]
  },
  {
   "cell_type": "markdown",
   "id": "bc8ea614",
   "metadata": {
    "slideshow": {
     "slide_type": "slide"
    }
   },
   "source": [
    "2. Lanzamiento de un par de dados comunes  \n",
    "\n",
    "$$ D = \\{ 1, 2, 3, 4, 5, 6 \\} $$"
   ]
  },
  {
   "cell_type": "markdown",
   "id": "572ca022",
   "metadata": {
    "slideshow": {
     "slide_type": "slide"
    }
   },
   "source": [
    "3. El conjunto de los triángulos en un plano.  \n",
    "El método de extensión para este caso no se puede utilizar."
   ]
  },
  {
   "cell_type": "markdown",
   "id": "a5077da0",
   "metadata": {
    "slideshow": {
     "slide_type": "slide"
    }
   },
   "source": [
    "# Método de Comprensión o Descripción"
   ]
  },
  {
   "cell_type": "markdown",
   "id": "b8f1be58",
   "metadata": {
    "slideshow": {
     "slide_type": "slide"
    }
   },
   "source": [
    "Se describe alguna propiedad conservada por todos sus miembros y por los no miembros."
   ]
  },
  {
   "cell_type": "markdown",
   "id": "6c7a6841",
   "metadata": {
    "slideshow": {
     "slide_type": "slide"
    }
   },
   "source": [
    "## Ejemplos:"
   ]
  },
  {
   "cell_type": "markdown",
   "id": "a6c0d025",
   "metadata": {
    "slideshow": {
     "slide_type": "slide"
    }
   },
   "source": [
    "1. El conjunto de las vocales en el alfabeto.  \n",
    "\n",
    "$$ V = \\{ x | x \\ \\text{es una vocal} \\} $$"
   ]
  },
  {
   "cell_type": "markdown",
   "id": "2f0791de",
   "metadata": {
    "slideshow": {
     "slide_type": "slide"
    }
   },
   "source": [
    "2 El conjunto de los triángulos en un plano\n",
    "$$ T = \\{x | x \\ \\text{es un triángulo en un plano} \\} $$"
   ]
  },
  {
   "cell_type": "markdown",
   "id": "a2054156",
   "metadata": {
    "slideshow": {
     "slide_type": "slide"
    }
   },
   "source": [
    "El conjunto del ejemplo 1 se lee “El conjunto de los elementos x tales que x es una\n",
    "vocal”. La línea vertical | se lee “tal que” ó “dado que”. Para el ejemplo 2, se lee “El\n",
    "conjunto de los elementos x dado que x es un triángulo en un plano”"
   ]
  },
  {
   "cell_type": "markdown",
   "id": "98a30c39",
   "metadata": {
    "slideshow": {
     "slide_type": "slide"
    }
   },
   "source": [
    "## TIPOS DE CONJUNTOS"
   ]
  },
  {
   "cell_type": "markdown",
   "id": "39a60f37",
   "metadata": {
    "slideshow": {
     "slide_type": "slide"
    }
   },
   "source": [
    "Según la cantidad de elementos que tenga un conjunto, éstos se pueden clasificar de la siguiente manera:"
   ]
  },
  {
   "cell_type": "markdown",
   "id": "1a55a110",
   "metadata": {
    "slideshow": {
     "slide_type": "slide"
    }
   },
   "source": [
    "## Conjuntos Finitos"
   ]
  },
  {
   "cell_type": "markdown",
   "id": "fe948aaa",
   "metadata": {
    "slideshow": {
     "slide_type": "slide"
    }
   },
   "source": [
    "Son los que tienen un número conocido de elementos."
   ]
  },
  {
   "cell_type": "markdown",
   "id": "38678f4c",
   "metadata": {
    "slideshow": {
     "slide_type": "slide"
    }
   },
   "source": [
    "### Ejemplos:  \n",
    "\n",
    "* El conjunto de números que aparecen al lanzar un dado.\n",
    "* El conjunto de días de la semana.\n",
    "* El conjunto de las vocales.\n",
    "* El conjunto de los enteros positivos menores que 10."
   ]
  },
  {
   "cell_type": "markdown",
   "id": "0f7e2f14",
   "metadata": {
    "slideshow": {
     "slide_type": "slide"
    }
   },
   "source": [
    "## Conjuntos Infinitos"
   ]
  },
  {
   "cell_type": "markdown",
   "id": "988e297c",
   "metadata": {
    "slideshow": {
     "slide_type": "fragment"
    }
   },
   "source": [
    "Son lo que tienen un número ilimitado de elementos.\n",
    "* El conjunto de los números reales\n",
    "* El conjunto de los números reales entre 2 y 5"
   ]
  },
  {
   "cell_type": "markdown",
   "id": "8ff708bf",
   "metadata": {
    "slideshow": {
     "slide_type": "slide"
    }
   },
   "source": [
    "## Conjunto universal"
   ]
  },
  {
   "cell_type": "markdown",
   "id": "b87f4931",
   "metadata": {
    "slideshow": {
     "slide_type": "fragment"
    }
   },
   "source": [
    "Es el conjunto de todos los elementos considerados en un problema o situación\n",
    "dada."
   ]
  },
  {
   "cell_type": "markdown",
   "id": "79026d17",
   "metadata": {
    "slideshow": {
     "slide_type": "slide"
    }
   },
   "source": [
    "### Ejemplos:  \n",
    "\n",
    "1. Si solo se desea trabajar con los números reales positivos, el conjunto\n",
    "universal será $U = R^{+} = (0, +\\infty)$"
   ]
  },
  {
   "cell_type": "markdown",
   "id": "2c6001b0",
   "metadata": {
    "slideshow": {
     "slide_type": "slide"
    }
   },
   "source": [
    "2. Si se quiere trabajar con los números que aparecen en un dado, el conjunto universal será $U = \\{ 1, 2, 3, 4, 5, 6 \\}$  \n",
    "\n",
    "Se puede notar que el conjunto universal no es único, depende de la situación."
   ]
  },
  {
   "cell_type": "markdown",
   "id": "f6c9a7a7",
   "metadata": {
    "slideshow": {
     "slide_type": "slide"
    }
   },
   "source": [
    "# Conjunto vacío"
   ]
  },
  {
   "cell_type": "markdown",
   "id": "76980b29",
   "metadata": {
    "slideshow": {
     "slide_type": "slide"
    }
   },
   "source": [
    "Un conjunto que no tiene elementos y se denota por $\\phi$ ó $\\{\\  \\}$. "
   ]
  },
  {
   "cell_type": "markdown",
   "id": "eb227f1f",
   "metadata": {
    "slideshow": {
     "slide_type": "slide"
    }
   },
   "source": [
    "## Ejemplos:  \n",
    "\n",
    "1. El conjunto $A = \\{ x \\in \\mathbb{R} / x^{2} + 1 = 0 \\}$ es un conjunto vacío porque no hay ningún número real que satisfaga $x^{2} + 1 = 0$.  \n",
    "\n",
    "2. El conjunto de los meses del año con 27 días."
   ]
  },
  {
   "cell_type": "markdown",
   "id": "cacc137b",
   "metadata": {
    "slideshow": {
     "slide_type": "slide"
    }
   },
   "source": [
    "# DIAGRAMAS DE VENN"
   ]
  },
  {
   "cell_type": "markdown",
   "id": "27dcea39",
   "metadata": {
    "slideshow": {
     "slide_type": "slide"
    }
   },
   "source": [
    "Cualquier figura geométrica cerrada (círculos, rectángulos, triángulos, óvalos, etc) sirve para representar gráficamente las operaciones entre conjuntos, estos gráficos son llamados Diagramas de Venn."
   ]
  },
  {
   "cell_type": "markdown",
   "id": "76032a99",
   "metadata": {
    "slideshow": {
     "slide_type": "slide"
    }
   },
   "source": [
    "Normalmente, al conjunto universal se le representa con un rectángulo y los conjuntos con un círculo o elipse, tal y como se muestra en la siguiente figura:  "
   ]
  },
  {
   "cell_type": "markdown",
   "id": "84cdb015",
   "metadata": {
    "slideshow": {
     "slide_type": "slide"
    }
   },
   "source": [
    "<img src = ''>"
   ]
  },
  {
   "cell_type": "markdown",
   "id": "77ae3a61",
   "metadata": {
    "slideshow": {
     "slide_type": "slide"
    }
   },
   "source": [
    "* Los diagramas de Venn en ningún momento constituyen una prueba matemática; sin embargo, permiten tener una visión intuitiva de la relación que puede existir entre los conjuntos."
   ]
  },
  {
   "cell_type": "markdown",
   "id": "655ec3c0",
   "metadata": {
    "slideshow": {
     "slide_type": "slide"
    }
   },
   "source": []
  },
  {
   "cell_type": "code",
   "execution_count": null,
   "id": "25cf0e53",
   "metadata": {
    "slideshow": {
     "slide_type": "slide"
    }
   },
   "outputs": [],
   "source": []
  },
  {
   "cell_type": "code",
   "execution_count": null,
   "id": "efc6882a",
   "metadata": {
    "slideshow": {
     "slide_type": "slide"
    }
   },
   "outputs": [],
   "source": []
  },
  {
   "cell_type": "code",
   "execution_count": null,
   "id": "e0a10b49",
   "metadata": {},
   "outputs": [],
   "source": []
  },
  {
   "cell_type": "code",
   "execution_count": null,
   "id": "97e3a846",
   "metadata": {},
   "outputs": [],
   "source": []
  },
  {
   "cell_type": "code",
   "execution_count": null,
   "id": "8bf0d7a1",
   "metadata": {
    "slideshow": {
     "slide_type": "slide"
    }
   },
   "outputs": [],
   "source": []
  },
  {
   "cell_type": "code",
   "execution_count": null,
   "id": "de4a5464",
   "metadata": {
    "slideshow": {
     "slide_type": "slide"
    }
   },
   "outputs": [],
   "source": []
  },
  {
   "cell_type": "markdown",
   "id": "6b9d6cd1",
   "metadata": {
    "slideshow": {
     "slide_type": "slide"
    }
   },
   "source": [
    "## Referentes  \n",
    "\n",
    "* ntheory: https://docs.sympy.org/latest/modules/ntheory.html"
   ]
  },
  {
   "cell_type": "code",
   "execution_count": null,
   "id": "e34ead0a",
   "metadata": {},
   "outputs": [],
   "source": []
  }
 ],
 "metadata": {
  "celltoolbar": "Slideshow",
  "kernelspec": {
   "display_name": "Python 3 (ipykernel)",
   "language": "python",
   "name": "python3"
  },
  "language_info": {
   "codemirror_mode": {
    "name": "ipython",
    "version": 3
   },
   "file_extension": ".py",
   "mimetype": "text/x-python",
   "name": "python",
   "nbconvert_exporter": "python",
   "pygments_lexer": "ipython3",
   "version": "3.9.12"
  },
  "rise": {
   "theme": "serif"
  }
 },
 "nbformat": 4,
 "nbformat_minor": 5
}
