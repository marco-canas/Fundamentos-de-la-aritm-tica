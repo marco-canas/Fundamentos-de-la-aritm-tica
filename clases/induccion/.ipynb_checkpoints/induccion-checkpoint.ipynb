{
 "cells": [
  {
   "cell_type": "markdown",
   "id": "65f4c2ac",
   "metadata": {
    "slideshow": {
     "slide_type": "slide"
    }
   },
   "source": [
    "<table align=\"center\">\n",
    "  <td>\n",
    "<a href=\"https://colab.research.google.com/github/marco-canas/Fundamentos-de-la-aritm-tica/blob/main/clases/criba.ipynb\" target=\"_parent\"><img src=\"https://colab.research.google.com/assets/colab-badge.svg\" alt=\"Open In Colab\"/></a>\n",
    "  </td>\n",
    "</table>"
   ]
  },
  {
   "cell_type": "markdown",
   "id": "df74bd51",
   "metadata": {
    "slideshow": {
     "slide_type": "slide"
    }
   },
   "source": [
    "## [Video de apoyo a la lectura de este cuaderno]()"
   ]
  },
  {
   "cell_type": "markdown",
   "id": "808565bf",
   "metadata": {
    "slideshow": {
     "slide_type": "slide"
    }
   },
   "source": [
    "# Principio de inducción matemática "
   ]
  },
  {
   "cell_type": "markdown",
   "id": "7be4f05e",
   "metadata": {
    "slideshow": {
     "slide_type": "slide"
    }
   },
   "source": [
    "Página 93 del PDF de Carlos Uscátegui: Lógica, conjuntos y números. "
   ]
  },
  {
   "cell_type": "markdown",
   "id": "10cf4676",
   "metadata": {
    "slideshow": {
     "slide_type": "slide"
    }
   },
   "source": [
    "En este capítulo estudiaremos el Principio de Inducción Matemática. "
   ]
  },
  {
   "cell_type": "markdown",
   "id": "4cdae265",
   "metadata": {
    "slideshow": {
     "slide_type": "slide"
    }
   },
   "source": [
    "En el se basa una herramienta fundamental en matemáticas: las demostraciones por indución. "
   ]
  },
  {
   "cell_type": "markdown",
   "id": "147d3b03",
   "metadata": {
    "slideshow": {
     "slide_type": "slide"
    }
   },
   "source": [
    "El principio de inducción permite establecer leyes universales acerca de los números naturales. "
   ]
  },
  {
   "cell_type": "markdown",
   "id": "9b75e0e1",
   "metadata": {
    "slideshow": {
     "slide_type": "slide"
    }
   },
   "source": [
    "Por ejemplo, considere la siguiente afirmación:\n",
    "\n",
    "$$ n < 2^{n}, \\ \\ \\ \\ \\text{para todo número natural}\\ n  $$"
   ]
  },
  {
   "cell_type": "markdown",
   "id": "a4f304b7",
   "metadata": {
    "slideshow": {
     "slide_type": "slide"
    }
   },
   "source": [
    "Sin mucho esfuerzo se verifica que esta afirmación es válida cuando $n$ toma cualquiera de los valores 0, 1, 2 o 3 y el lector podría, con un poco de paciencia, verificarla para muchos otros valores de $n$. "
   ]
  },
  {
   "cell_type": "markdown",
   "id": "1bb18636",
   "metadata": {
    "slideshow": {
     "slide_type": "slide"
    }
   },
   "source": [
    "Sin embargo, esto no justifica que esa afirmación sea verdadera. "
   ]
  },
  {
   "cell_type": "markdown",
   "id": "a5c1b3a6",
   "metadata": {
    "slideshow": {
     "slide_type": "slide"
    }
   },
   "source": [
    "La herramienta usada para demostrar afirmaciones como la enunciada en (3.1) y otras similares será estudiada en este capítulo."
   ]
  },
  {
   "cell_type": "markdown",
   "id": "7d2c91cc",
   "metadata": {
    "slideshow": {
     "slide_type": "slide"
    }
   },
   "source": [
    "# 3.1. El principio de buena ordenación"
   ]
  },
  {
   "cell_type": "markdown",
   "id": "51b9a4bc",
   "metadata": {
    "slideshow": {
     "slide_type": "slide"
    }
   },
   "source": [
    "En esta sección estudiaremos una propiedad esencial del orden de los números naturales."
   ]
  },
  {
   "cell_type": "markdown",
   "id": "88ffb51c",
   "metadata": {
    "slideshow": {
     "slide_type": "slide"
    }
   },
   "source": [
    "Consideremos los siguientes conjuntos de números naturales:\n",
    "\n",
    "1. $C_{1} = \\{ 1, 2, 3 \\}$  "
   ]
  },
  {
   "cell_type": "code",
   "execution_count": null,
   "id": "787b7763",
   "metadata": {
    "slideshow": {
     "slide_type": "slide"
    }
   },
   "outputs": [],
   "source": []
  },
  {
   "cell_type": "code",
   "execution_count": null,
   "id": "a6d70dd3",
   "metadata": {
    "slideshow": {
     "slide_type": "slide"
    }
   },
   "outputs": [],
   "source": []
  },
  {
   "cell_type": "code",
   "execution_count": null,
   "id": "c67766fb",
   "metadata": {
    "slideshow": {
     "slide_type": "slide"
    }
   },
   "outputs": [],
   "source": []
  },
  {
   "cell_type": "code",
   "execution_count": null,
   "id": "7388a790",
   "metadata": {},
   "outputs": [],
   "source": []
  },
  {
   "cell_type": "code",
   "execution_count": null,
   "id": "ddb5a7ef",
   "metadata": {},
   "outputs": [],
   "source": []
  },
  {
   "cell_type": "code",
   "execution_count": null,
   "id": "e8468ff9",
   "metadata": {},
   "outputs": [],
   "source": []
  },
  {
   "cell_type": "code",
   "execution_count": null,
   "id": "3fcbce11",
   "metadata": {},
   "outputs": [],
   "source": []
  }
 ],
 "metadata": {
  "celltoolbar": "Slideshow",
  "kernelspec": {
   "display_name": "Python 3 (ipykernel)",
   "language": "python",
   "name": "python3"
  },
  "language_info": {
   "codemirror_mode": {
    "name": "ipython",
    "version": 3
   },
   "file_extension": ".py",
   "mimetype": "text/x-python",
   "name": "python",
   "nbconvert_exporter": "python",
   "pygments_lexer": "ipython3",
   "version": "3.9.12"
  }
 },
 "nbformat": 4,
 "nbformat_minor": 5
}
