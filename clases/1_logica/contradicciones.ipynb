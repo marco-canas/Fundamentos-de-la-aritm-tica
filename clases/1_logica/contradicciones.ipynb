{
 "cells": [
  {
   "cell_type": "markdown",
   "metadata": {},
   "source": [
    "<table align=\"left\">\n",
    "  <td>\n",
    "<a href=\"https://colab.research.google.com/github/marco-canas/Fundamentos-de-la-aritm-tica/blob/main/clases/unidad_didactica_logica.ipynb\" target=\"_parent\"><img src=\"https://colab.research.google.com/assets/colab-badge.svg\" alt=\"Open In Colab\"/></a>\n",
    "       </td>\n",
    "</table>"
   ]
  },
  {
   "cell_type": "markdown",
   "metadata": {},
   "source": [
    "## [Video de apoyo a la lectura interactiva de este cuaderno]()"
   ]
  },
  {
   "cell_type": "markdown",
   "metadata": {},
   "source": [
    "# Determinación de contradicciones y justificarla "
   ]
  },
  {
   "cell_type": "markdown",
   "metadata": {},
   "source": [
    "6.3.14. Los conjuntos de premisas que se presentan en los siguientes numerales son inconsistentes. Elabore para cada numeral una argumentación que muestre una contradicción específica.\n",
    "\n",
    "6.3.14.1. Premisas: Hay riego en el cultivo, la compuerta A está abierta y hay agua circulando por el desagüe D.\n"
   ]
  },
  {
   "cell_type": "markdown",
   "metadata": {},
   "source": [
    "# Prerequisitos necesarios"
   ]
  },
  {
   "cell_type": "markdown",
   "metadata": {},
   "source": [
    "* Regla de inferencia de afirmar negando $((p \\vee Q) \\wedge \\neg P) \\Rightarrow (Q)$\n",
    "* Una disyunción es falsa si y solo si cada una de las proposiciones que la componen es falsa. "
   ]
  },
  {
   "cell_type": "markdown",
   "metadata": {},
   "source": [
    "Rules of inference\n",
    "\n",
    "<img src = 'https://calcworkshop.com/wp-content/uploads/rules-of-inference-chart.png'>"
   ]
  },
  {
   "cell_type": "markdown",
   "metadata": {},
   "source": [
    "## Solución  \n",
    "* De la premisa: Hay riego en el cultivo se infiere que: \n",
    "\n",
    "($B$ está abierta) o (A y C están abiertas) o (A y B están cerradas y C esta abierta y hay agua en el tanque)\n",
    "\n",
    "* De la sugunda premisa se infiere que: La compuerta A está abierta:\n",
    "\n",
    "De esta se infiere que: \n",
    "\n",
    "1. B está cerrada. \n",
    "2. y no más por ahora. \n",
    "\n",
    "* Y de la tercera premisa: Hay agua circulando por D,  se infiere que: \n",
    "\n",
    "1. A está abierta, \n",
    "2. C está cerrado. \n",
    "3. el tanque está lleno.\n",
    "4. B está cerrado. \n",
    "\n",
    "Por el modo de afirmar negando se infiere que: ((P \\vee Q) \\wedge \\neg Q) \n",
    "\n",
    " (A y C están abiertas) o (A y B están cerradas y C esta abierta y hay agua en el tanque)\n",
    "\n",
    " Del caso I se llaga a una contradicción\n",
    "\n",
    " Del caso II también se llega a una contradicción \n",
    "\n",
    " Entonces la disyunción es falsa. \n",
    " \n",
    "\n",
    "\n"
   ]
  },
  {
   "cell_type": "code",
   "execution_count": null,
   "metadata": {},
   "outputs": [],
   "source": []
  },
  {
   "cell_type": "code",
   "execution_count": null,
   "metadata": {},
   "outputs": [],
   "source": []
  },
  {
   "cell_type": "markdown",
   "metadata": {},
   "source": [
    "## Referentes  \n",
    "\n",
    "Situación problemática del cultivo de maracuyá y los dos sistemas de Riego: http://ayura.udea.edu.co/logicamatematica/talleres/taller2.htm"
   ]
  },
  {
   "cell_type": "markdown",
   "metadata": {},
   "source": []
  }
 ],
 "metadata": {
  "kernelspec": {
   "display_name": "Python 3.10.7 64-bit",
   "language": "python",
   "name": "python3"
  },
  "language_info": {
   "codemirror_mode": {
    "name": "ipython",
    "version": 3
   },
   "file_extension": ".py",
   "mimetype": "text/x-python",
   "name": "python",
   "nbconvert_exporter": "python",
   "pygments_lexer": "ipython3",
   "version": "3.10.7"
  },
  "orig_nbformat": 4,
  "vscode": {
   "interpreter": {
    "hash": "af153e239d61b5c0d363f35fe8a0509d492506f382d017c98fa3fb49fce70a72"
   }
  }
 },
 "nbformat": 4,
 "nbformat_minor": 2
}
