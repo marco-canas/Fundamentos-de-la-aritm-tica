{
 "cells": [
  {
   "cell_type": "markdown",
   "id": "5af8e9b8",
   "metadata": {
    "slideshow": {
     "slide_type": "slide"
    }
   },
   "source": [
    "<table align=\"center\">\n",
    "  <td>\n",
    "<a href=\"https://colab.research.google.com/github/marco-canas/Fundamentos-de-la-aritm-tica/blob/main/clases/criba.ipynb\" target=\"_parent\"><img src=\"https://colab.research.google.com/assets/colab-badge.svg\" alt=\"Open In Colab\"/></a>\n",
    " </td>\n",
    "</table>"
   ]
  },
  {
   "cell_type": "markdown",
   "id": "ab8ed3a7",
   "metadata": {
    "slideshow": {
     "slide_type": "slide"
    }
   },
   "source": [
    "# Tarjetas lógicas"
   ]
  },
  {
   "cell_type": "markdown",
   "id": "c75c684b",
   "metadata": {
    "slideshow": {
     "slide_type": "slide"
    }
   },
   "source": [
    "Preguntas del 1 al 3.\n",
    "\n",
    "<img src = 'https://github.com/marco-canas/Fundamentos-de-la-aritm-tica/blob/main/clases/5%20tarjetas.png?raw=true'>\n",
    "\t\n",
    "\t\n",
    "Se tienen 5 tarjetas idénticas marcadas por su cara principal con los números del 1 al 5 como se indica en la figura.  El reverso de cada tarjeta también está marcado con los números del 1 al 5, con las siguientes condiciones:  "
   ]
  },
  {
   "cell_type": "markdown",
   "id": "8907e81f",
   "metadata": {
    "slideshow": {
     "slide_type": "slide"
    }
   },
   "source": [
    "# Condiciones  \n",
    "-\tninguna tarjeta está marcada con el mismo número por la cara principal y el reverso. \n",
    "-\tSi el número marcado en la cara principal es par, entonces, su reverso es un número impar."
   ]
  },
  {
   "cell_type": "markdown",
   "id": "1787dd3b",
   "metadata": {
    "slideshow": {
     "slide_type": "slide"
    }
   },
   "source": [
    "1.\tSi con las 5 tarjetas señalando la cara principal, se voltea la tarjeta con el número 5 y su reverso tiene el número 3, entonces, el número mínimo de tarjetas que deben voltearse para poder **saber exactamente** que tarjeta tiene en su reverso el número 1 es:\n",
    "\n",
    "A.\tUna  \n",
    "B.\tDos  \n",
    "C.\tTres  \n",
    "D.\tCuatro  "
   ]
  },
  {
   "cell_type": "markdown",
   "id": "234c4d30",
   "metadata": {
    "slideshow": {
     "slide_type": "slide"
    }
   },
   "source": [
    "2.\tEn las mismas condiciones iniciales, el número mínimo de tarjetas que deben voltearse, para  **garantizar la obtención** de un número par en el reverso de una tarjeta es:\n",
    "\n",
    "A.\tUna  \n",
    "B.\tDos  \n",
    "C.\tTres  \n",
    "D.\tninguna  "
   ]
  },
  {
   "cell_type": "markdown",
   "id": "80c7903e",
   "metadata": {
    "slideshow": {
     "slide_type": "slide"
    }
   },
   "source": [
    "3.\tEn las mismas condiciones iniciales.  Se han volteado tres tarjetas y los números que aparecen al reverso son 5, 1 y 3. Con respecto a los números de la cara principal en las tarjetas que faltan por voltear, la única de las siguientes afirmaciones que **no es posible** es:\n",
    "\n",
    "A.\t1 y 3   \n",
    "B.\t2 y 4   \n",
    "C.\t1 y 5  \n",
    "D.\t3 y 5   "
   ]
  },
  {
   "cell_type": "markdown",
   "id": "90b029fb",
   "metadata": {
    "slideshow": {
     "slide_type": "slide"
    }
   },
   "source": [
    "# Atrevete a escribir tus estrategias de juego"
   ]
  },
  {
   "cell_type": "markdown",
   "id": "66156fdc",
   "metadata": {
    "slideshow": {
     "slide_type": "slide"
    }
   },
   "source": [
    "[Light-bot](https://www.minijuegos.com/juego/light-bot)"
   ]
  },
  {
   "cell_type": "markdown",
   "id": "6bfee345",
   "metadata": {
    "slideshow": {
     "slide_type": "slide"
    }
   },
   "source": [
    "Lightbot, app para introducir la programación con los más pequeños de forma lúdica\n",
    "\n",
    "29 de octubre de 2015 por Alberto Gómez-Chacón Larraz Un comentario\n",
    "\n",
    "Lightbot es un juego de introducción a la programación tipo puzzle, que consigue atrapar a nuestros alumnos desde los primeros minutos de uso. En Lightbot debemos guiar a un robot para que éste realice unas tareas, mediante una serie de instrucciones lógicas, superando niveles de dificultad.\n",
    "\n",
    "Podemos a empezar a utilizar esta aplicación con alumnos a partir de 4 años con la versión Junior de Lightbot, existiendo otra versión para nuestros alumnos mayores de 9 años. Todos ellos aprenderán de forma lúdica y significativa los procedimientos, bucles y condicionales de la programación. Se ofrece la posibilidad de elegir entre un Boybot o una Girlbot, de forma que se llega y atrae a estudiantes de ambos géneros.\n",
    "\n",
    "Está disponible en castellano para dispositivos móviles Android, Apple y Kindle, y para equipos de escritorio Windows y MAC. Además, tiene una versión web para jugar online desde tu navegador preferido, en inglés.\n",
    "\n",
    "Esta entrada está también disponible en: Euskera\n",
    "\n",
    "[video descriptivo de lightbot](https://www.youtube.com/watch?v=jVhEC7t2t4Y&t=19s)"
   ]
  },
  {
   "cell_type": "code",
   "execution_count": null,
   "id": "0d37034a",
   "metadata": {
    "slideshow": {
     "slide_type": "slide"
    }
   },
   "outputs": [],
   "source": []
  },
  {
   "cell_type": "code",
   "execution_count": null,
   "id": "26ff2aaf",
   "metadata": {
    "slideshow": {
     "slide_type": "slide"
    }
   },
   "outputs": [],
   "source": []
  },
  {
   "cell_type": "code",
   "execution_count": null,
   "id": "8eafd952",
   "metadata": {},
   "outputs": [],
   "source": []
  }
 ],
 "metadata": {
  "celltoolbar": "Slideshow",
  "kernelspec": {
   "display_name": "Python 3 (ipykernel)",
   "language": "python",
   "name": "python3"
  },
  "language_info": {
   "codemirror_mode": {
    "name": "ipython",
    "version": 3
   },
   "file_extension": ".py",
   "mimetype": "text/x-python",
   "name": "python",
   "nbconvert_exporter": "python",
   "pygments_lexer": "ipython3",
   "version": "3.9.12"
  },
  "rise": {
   "theme": "sky"
  }
 },
 "nbformat": 4,
 "nbformat_minor": 5
}
