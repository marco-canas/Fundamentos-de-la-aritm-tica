{
 "cells": [
  {
   "cell_type": "markdown",
   "metadata": {
    "colab_type": "text",
    "id": "view-in-github",
    "slideshow": {
     "slide_type": "slide"
    }
   },
   "source": [
    "<table align=\"left\">\n",
    "  <td>\n",
    "<a href=\"https://colab.research.google.com/github/marco-canas/Fundamentos-de-la-aritm-tica/blob/main/clases/unidad_didactica_logica.ipynb\" target=\"_parent\"><img src=\"https://colab.research.google.com/assets/colab-badge.svg\" alt=\"Open In Colab\"/></a>\n",
    "       </td>\n",
    "</table>"
   ]
  },
  {
   "cell_type": "markdown",
   "metadata": {
    "id": "adcCkBKkjQUn",
    "slideshow": {
     "slide_type": "slide"
    }
   },
   "source": [
    "# [Unidad didáctica de Lógica](http://ayura.udea.edu.co/logicamatematica/talleres.htm)"
   ]
  },
  {
   "cell_type": "markdown",
   "metadata": {
    "id": "LeJPyOM-kyiv",
    "slideshow": {
     "slide_type": "slide"
    }
   },
   "source": [
    "5.3. OBJETIVOS\n",
    "\n",
    "* Construir, a partir del juego, esquemas básicos de razonamiento lógico.\n",
    "* Construir, tomando como primitivos, los conectivos lógicos \"no\" y \"o\", los restantes conectivos lógicos: \"si... entonces\", \"y\" y \"si y sólo si\".\n",
    "* Visualizar las propiedades más importantes de cada uno los conectivos y expresarlas en forma de leyes lógicas.\n",
    "* Mostrar en qué forma se niegan los conectivos, enunciando las leyes de De Morgan.\n"
   ]
  },
  {
   "cell_type": "markdown",
   "metadata": {
    "id": "AU0W6klPkywN",
    "slideshow": {
     "slide_type": "slide"
    }
   },
   "source": [
    "5.4. PRESENTACIÓN DE LOS BLOQUES LÓGICOS\n",
    "\n",
    "Se trata de un conjunto de 48 piezas, diseñadas así:\n",
    "\n",
    "Tres colores: amarillo, azul y rojo.\n",
    "\n",
    "Cuatro formas: cuadrado, rectángulo, círculo, triángulo.\n",
    "\n",
    "Dos tamaños: grande, pequeño.\n",
    "\n",
    "Dos espesores: grueso, delgado.\n",
    "\n",
    "Se tienen, entonces, cuatro variables, cuyos valores producen 48 figuras diferentes, el producto de 3 x 4 x 2 x 2.\n",
    "\n",
    "El material debe ser libremente manejado por los jóvenes, antes de comenzar a plantear actividades. Es necesario que aprendan a nombrar cada uno de los bloques de acuerdo con sus cuatro características."
   ]
  },
  {
   "cell_type": "code",
   "execution_count": 4,
   "metadata": {
    "colab": {
     "base_uri": "https://localhost:8080/"
    },
    "id": "l1DU02PKn4w7",
    "outputId": "487ffc0f-2f08-472c-91ad-0d5fdc7437cc",
    "slideshow": {
     "slide_type": "slide"
    }
   },
   "outputs": [
    {
     "data": {
      "text/plain": [
       "False"
      ]
     },
     "execution_count": 4,
     "metadata": {},
     "output_type": "execute_result"
    }
   ],
   "source": [
    "False or False"
   ]
  },
  {
   "cell_type": "markdown",
   "metadata": {
    "slideshow": {
     "slide_type": "slide"
    }
   },
   "source": [
    "## 5.2. CONDICIONES PEDAGÓGICAS"
   ]
  },
  {
   "cell_type": "markdown",
   "metadata": {
    "slideshow": {
     "slide_type": "slide"
    }
   },
   "source": [
    "La utilización de los bloques lógicos, como mediadores para el establecimiento de los esquemas básicos del razonamiento lógico matemático, tiene las siguientes ventajas pedagógicas:\n",
    "\n",
    "* Proporciona un soporte material para la fijación de esquemas de razonamiento.\n",
    "* La forma en que los estudiantes realizan la actividad con ellos, constituye un indicador de las competencias necesarias para el desarrollo del pensamiento lógico. El maestro puede detectar, en el alumno, dificultades clasificatorias, que ya consideraba superadas.\n",
    "    El desarrollo del cálculo proposicional, a través de las actividades propuestas con este material, permite asimilar los contenidos proposicionales, eliminando las dificultades de tipo sicológico que se involucran, cuando se trabaja sobre enunciados del lenguaje ordinario.\n",
    "    Las operaciones lógicas se plasman en la formación de los conjuntos que verifican las propiedades expresadas por dichas operaciones. La lógica se va desarrollando a la par con la teoría de conjuntos."
   ]
  },
  {
   "cell_type": "markdown",
   "metadata": {
    "slideshow": {
     "slide_type": "slide"
    }
   },
   "source": [
    "5.3. OBJETIVOS\n",
    "\n",
    "* Construir, a partir del juego, esquemas básicos de razonamiento lógico.\n",
    "* Construir, tomando como primitivos, los conectivos lógicos \"no\" y \"o\", los restantes conectivos lógicos: \"si... entonces\", \"y\" y \"si y sólo si\".\n",
    "* Visualizar las propiedades más importantes de cada uno los conectivos y expresarlas en forma de leyes lógicas.\n",
    "* Mostrar en qué forma se niegan los conectivos, enunciando las leyes de De Morgan."
   ]
  },
  {
   "cell_type": "markdown",
   "metadata": {
    "slideshow": {
     "slide_type": "slide"
    }
   },
   "source": [
    "# 5.4. PRESENTACIÓN DE LOS BLOQUES LÓGICOS"
   ]
  },
  {
   "cell_type": "markdown",
   "metadata": {
    "slideshow": {
     "slide_type": "slide"
    }
   },
   "source": [
    "Se trata de un conjunto de 48 piezas, diseñadas así:\n",
    "\n",
    "* Tres colores: amarillo, azul y rojo.\n",
    "\n",
    "* Cuatro formas: cuadrado, rectángulo, círculo, triángulo.\n",
    "\n",
    "* Dos tamaños: grande, pequeño.\n",
    "\n",
    "* Dos espesores: grueso, delgado."
   ]
  },
  {
   "cell_type": "markdown",
   "metadata": {
    "slideshow": {
     "slide_type": "slide"
    }
   },
   "source": [
    "Se tienen, entonces, cuatro variables, cuyos valores producen 48 figuras diferentes, el producto de $3 \\times 4 \\times 2 \\times 2$."
   ]
  },
  {
   "cell_type": "markdown",
   "metadata": {
    "slideshow": {
     "slide_type": "slide"
    }
   },
   "source": [
    "El material debe ser libremente manejado por los jóvenes, antes de comenzar a plantear actividades. Es necesario que aprendan a nombrar cada uno de los bloques de acuerdo con sus cuatro características."
   ]
  },
  {
   "cell_type": "markdown",
   "metadata": {
    "slideshow": {
     "slide_type": "slide"
    }
   },
   "source": [
    "# 5.5. JUEGOS"
   ]
  },
  {
   "cell_type": "markdown",
   "metadata": {
    "slideshow": {
     "slide_type": "slide"
    }
   },
   "source": [
    "## 5.5.1. Juego de la pieza escondida."
   ]
  },
  {
   "cell_type": "markdown",
   "metadata": {
    "slideshow": {
     "slide_type": "slide"
    }
   },
   "source": [
    "Un joven esconde una pieza.   \n",
    "El resto del equipo tiene que descubrir cuál ha sido la pieza escondida.   \n",
    "\n",
    "Inicialmente, se permite que los jóvenes manipulen los bloques y hagan sus ordenaciones. Más adelante, se les sugiere que descubran la pieza que falta sin tocar las demás.  \n",
    "\n",
    "Una variación, más complicada, podría ser esconder tres piezas escogidas, por ejemplo tres colores distintos, pero de la misma forma, del mismo tamaño y del mismo grosor."
   ]
  },
  {
   "cell_type": "markdown",
   "metadata": {
    "slideshow": {
     "slide_type": "slide"
    }
   },
   "source": [
    "## 5.5.2. Juego de negación con dos equipos."
   ]
  },
  {
   "cell_type": "markdown",
   "metadata": {
    "slideshow": {
     "slide_type": "slide"
    }
   },
   "source": [
    "Finalidad del juego: Si una cosa está en un determinado sitio, no puede estar al mismo tiempo en otra parte. (Principio de no contradicción)."
   ]
  },
  {
   "cell_type": "markdown",
   "metadata": {
    "slideshow": {
     "slide_type": "slide"
    }
   },
   "source": [
    "Se forman dos equipos; se colocan a lado y lado de una mesa con una pantalla de separación, de modo que cada equipo pueda observar sus bloques únicamente. Cada equipo posee 24 bloques elegidos al azar. Se trata de que cada equipo debe pedir al otro los bloques que posee, designándolos con los cuatro atributos. Cuando un bloque ha sido pedido una vez, no puede volver a pedirse."
   ]
  },
  {
   "cell_type": "markdown",
   "metadata": {
    "slideshow": {
     "slide_type": "slide"
    }
   },
   "source": [
    "## 5.5.3. Juego de las respuestas y deducciones."
   ]
  },
  {
   "cell_type": "markdown",
   "metadata": {
    "slideshow": {
     "slide_type": "slide"
    }
   },
   "source": [
    "Para este juego, deben tenerse unas tarjetas con las siguientes inscripciones: no, grueso, delgado, grande, pequeño, cuadrado, rectángulo, círculo, triángulo, amarillo, azul y rojo."
   ]
  },
  {
   "cell_type": "markdown",
   "metadata": {
    "slideshow": {
     "slide_type": "slide"
    }
   },
   "source": [
    "Un joven piensa en un bloque y, seguidamente, sus compañeros le formulan preguntas como: ¿es grande? ¿es rojo?... A estas preguntas, el joven responde sí o no. Cada vez que se hace una pregunta, se coloca en la mesa la tarjeta donde está escrita la propiedad preguntada. Si la respuesta es negativa, se coloca la tarjeta con la palabra no, a la izquierda de la tarjeta correspondiente a la pregunta; si es afirmativa, basta dejar la tarjeta en su lugar. De esta manera, se va conformando una columna con las respuestas dadas por el joven. Se puede formar otra columna al frente de la de las respuestas, en esta se colocan las deducciones que los muchachos sacan de las respuestas.\n",
    "\n",
    "5.5.4. Juegos de diferencia.\n",
    "\n",
    "5.5.4.1. Juego con una diferencia: Entre dos bloques lógicos hay, por lo menos, una diferencia. El juego siguiente sirve para ayudar a los muchachos a tomar conciencia de estas diferencias y semejanzas.\n",
    "\n",
    "Un alumno coloca una pieza cualquiera del conjunto encima de la mesa. El alumno siguiente elegirá una pieza que difiera de la primera solamente en un atributo. Esta diferencia tendrá que referirse al tamaño, al grosor, al color o a la forma. El siguiente elegirá una pieza que se diferencie de la segunda, igualmente, por un solo atributo. El ejercicio continuará de esta manera, hasta que todas o casi todas las piezas estén colocadas en una hilera.\n",
    "\n",
    "5.5.4.2 Juego con dos diferencias: Consiste en jugar en un tablero con dos direcciones, de izquierda a derecha y de atrás hacia adelante. En la línea de izquierda a derecha se colocan los bloques contiguos que tengan una sola diferencia y en la línea atrás - adelante, los que tengan dos diferencias. Un problema interesante y difícil es llenar las esquinas.\n",
    "\n",
    "Para llenar el espacio marcado con ? es necesario tener en cuenta una diferencia con respecto a B2 y dos con respecto a B1. En muchos casos, será imposible, con las fichas disponibles, llenar este lugar. Cuando esto ocurra, debe construirse una argumentación explicando el por qué de la imposibilidad.\n",
    "\n",
    "5.5.4.3. Actividades. En los ejercicios que se presentan a continuación, coloque únicamente los bloques de acuerdo con las características anotadas en las cuadrículas respectivas. Determine el bloque o bloques que pueden ocupar la posición señalada con el signo \"?\".\n",
    "\n",
    "Construya para cada situación una argumentación sistemática que le permita fundamentar la solución.\n",
    "\n",
    "5.5.4.3.1.\n",
    "  \t\n",
    "\n",
    "Cuadrado\n",
    "amarillo\n",
    "pequeño\n",
    "delgado\n",
    "\t\n",
    "\n",
    "?\n",
    "\t  \t  \t \n",
    "\n",
    "Círculo\n",
    "amarillo\n",
    "grande\n",
    "delgado\n",
    "\t\n",
    "\n",
    "Círculo\n",
    "amarillo\n",
    "grande\n",
    "grueso\n",
    "\t  \t  \t \n",
    "\n",
    "Triángulo\n",
    "amarillo\n",
    "grande\n",
    "grueso\n",
    "\t\n",
    "\n",
    "Triángulo\n",
    "rojo\n",
    "grande\n",
    "grueso\n",
    "\t\n",
    "\n",
    "rectángulo\n",
    "rojo\n",
    "grande\n",
    "grueso\n",
    "\t\n",
    "\n",
    "rectángulo\n",
    "azul\n",
    "grande\n",
    "grueso\n",
    "\t\n",
    "\n",
    "cuadrado\n",
    "azul\n",
    "grande\n",
    "grueso\n",
    "\n",
    " \n",
    "\n",
    " \n",
    "\n",
    " \n",
    "\n",
    " \n",
    "\n",
    " \n",
    "\n",
    " \n",
    "\n",
    " \n",
    "\n",
    "5.5.4.3.2.\n",
    "  \t\n",
    "\n",
    "cuadrado\n",
    "amarillo\n",
    "pequeño\n",
    "delgado\n",
    "\t  \t  \t  \t \n",
    "\n",
    "círculo\n",
    "amarillo\n",
    "grande\n",
    "delgado\n",
    "\t\n",
    "\n",
    "círculo\n",
    "amarillo\n",
    "grande\n",
    "grueso\n",
    "\t\n",
    "\n",
    "cuadrado\n",
    "amarillo\n",
    "grande\n",
    "grueso\n",
    "\t\n",
    "\n",
    "?\n",
    "\t \n",
    "\n",
    "triángulo\n",
    "amarillo\n",
    "grande\n",
    "grueso\n",
    "\t\n",
    "\n",
    "triángulo\n",
    "rojo\n",
    "grande\n",
    "grueso\n",
    "\t\n",
    "\n",
    "rectángulo\n",
    "rojo\n",
    "grande\n",
    "grueso\n",
    "\t\n",
    "\n",
    "rectángulo\n",
    "azul\n",
    "grande\n",
    "grueso\n",
    "\t\n",
    "\n",
    "cuadrado\n",
    "azul\n",
    "grande\n",
    "grueso\n",
    "\n",
    " \n",
    "\n",
    " \n",
    "\n",
    " \n",
    "\n",
    " \n",
    "\n",
    " \n",
    "\n",
    " \n",
    "\n",
    " \n",
    "\n",
    "5.5.4.3.3.\n",
    "  \t\n",
    "\n",
    "cuadrado\n",
    "amarillo\n",
    "grande\n",
    "grueso\n",
    "\t\n",
    "\n",
    "cuadrado\n",
    "rojo\n",
    "grande\n",
    "grueso\n",
    "\t\n",
    "\n",
    "?\n",
    "\t  \t \n",
    "\n",
    "círculo\n",
    "amarillo\n",
    "grande\n",
    "delgado\n",
    "\t\n",
    "\n",
    "círculo\n",
    "amarillo\n",
    "grande\n",
    "grueso\n",
    "\t\n",
    "\n",
    "círculo\n",
    "azul\n",
    "grande\n",
    "grueso\n",
    "\t  \t \n",
    "\n",
    "triángulo\n",
    "amarillo\n",
    "grande\n",
    "grueso\n",
    "\t\n",
    "\n",
    "triángulo\n",
    "rojo\n",
    "grande\n",
    "grueso\n",
    "\t\n",
    "\n",
    "rectángulo\n",
    "rojo\n",
    "grande\n",
    "grueso\n",
    "\t  \t \n",
    "\n",
    "\n",
    " \n",
    "\n",
    " \n",
    "\n",
    " \n",
    "\n",
    " \n",
    "\n",
    " \n",
    "\n",
    " \n",
    "\n",
    "\n",
    "5.6. CONSTRUCCIÓN DE LAS LEYES BÁSICAS DE LA LÓGICA\n",
    "\n",
    "5.6.1. Actividad N° 1\n",
    "\n",
    "Encierre dentro de un redondel, formado con una cuerda, todas las piezas que sean círculos y sólo estos. En el interior de otro redondel, coloque todas aquellas piezas que sean azules y sólo éstas. Es evidente que los redondeles tendrán que superponerse para colocar los círculos azules, de tal forma, que estén en el interior de los dos redondeles.\n",
    "\n",
    "Reúna ahora en un solo redondel todas las piezas que sean círculos o azules y sólo éstas.\n",
    "\n",
    "Preguntas\n",
    "\n",
    "    ¿Es necesario que un bloque sea a la vez círculo y azul para estar dentro del redondel?\n",
    "    ¿Es suficiente que un bloque sea círculo para estar dentro del redondel?\n",
    "    ¿Es esto necesario?\n",
    "    ¿Es suficiente que un bloque sea azul para estar dentro del redondel?\n",
    "    ¿Es esto necesario?\n",
    "    ¿Si no es un círculo y está en el redondel necesariamente es: _____\n",
    "    Si no es azul y está en el redondel necesariamente es: __________\n",
    "    ¿Qué piezas quedan por fuera?\n",
    "    ¿Qué propiedad tienen?\n",
    "\n",
    "Iniciación a la simbolización\n",
    "\n",
    "Nombre como x a una pieza cualquiera de la colección y a los atributos mencionados, así:\n",
    "\n",
    ": x es un bloque circular\n",
    ": x es un bloque azul.\n",
    "\n",
    "Con estos atributos se forman los conjuntos:\n",
    "\n",
    "y\n",
    "\n",
    "La reunión de los conjuntos A y B se designa , que también puede llamarse unión de A y B.\n",
    "\n",
    "\n",
    "Ahora, las piezas que quedan por fuera son las que no poseen el atributo, es decir,\n",
    "\n",
    "y ellas son las no circulares y no azules, no y no .\n",
    "\n",
    "Además, cumplir la propiedad o es lo mismo que: si no entonces , o también: si no entonces .\n",
    "\n",
    "Resumiendo, podemos decir que las piezas que están dentro del redondel, o sea las que verifican la propiedad o son:\n",
    "\n",
    "los círculos no azules, los círculos azules, los no círculos azules. Las que quedan por fuera son los no círculos no azules. Podemos indicar esto mediante el siguiente diagrama:\n",
    "\n",
    "Si indicamos con la letra V la verificación de la propiedad y con la letra F la no verificación, podemos conformar la siguiente tabla:\n",
    "\n",
    "\t\n",
    "\n",
    "\t\n",
    "\n",
    "o\n",
    "\n",
    "V\n",
    "\t\n",
    "\n",
    "V\n",
    "\t\n",
    "\n",
    "V\n",
    "\n",
    "V\n",
    "\t\n",
    "\n",
    "F\n",
    "\t\n",
    "\n",
    "V\n",
    "\n",
    "F\n",
    "\t\n",
    "\n",
    "V\n",
    "\t\n",
    "\n",
    "V\n",
    "\n",
    "F\n",
    "\t\n",
    "\n",
    "F\n",
    "\t\n",
    "\n",
    "F\n",
    "\n",
    "5.6.2. Actividad N° 2\n",
    "\n",
    "Encierre dentro de un redondel todas las piezas que no sean círculos o sean azules y sólo éstas.\n",
    "\n",
    "Preguntas:\n",
    "\n",
    "    ¿Es necesario que un bloque sea, a la vez, no círculo y azul para estar dentro del redondel?\n",
    "    ¿Es suficiente que un bloque no sea círculo para estar dentro del redondel?\n",
    "    ¿Es esto necesario?\n",
    "    ¿Es suficiente que un bloque sea azul para estar dentro del redondel?\n",
    "    ¿Es esto necesario?\n",
    "    Si es un círculo y está en el redondel necesariamente es: _______\n",
    "    Si no es azul y está en el redondel necesariamente es: __________\n",
    "    ¿Qué piezas quedan por fuera?\n",
    "    ¿Qué propiedad tienen?\n",
    "    Si designamos por:\n",
    "\n",
    "    Cx: x es un bloque circular\n",
    "    Ax: x es un bloque azul.\n",
    "    A’: El conjunto de los bloques no circulares\n",
    "    B: El conjunto de los bloques azules\n",
    "\n",
    "O sea: y .\n",
    "\n",
    "Se forma el conjunto reunión de A’ con B,\n",
    "\n",
    "De acuerdo con las observaciones realizadas, se tiene:\n",
    "\n",
    "no o\n",
    "\n",
    "es lo mismo que:\n",
    "\t\n",
    "\n",
    "Las piezas que quedan por fuera son las que no cumplen la propiedad; esto es:\n",
    "\n",
    "no (no o ) y son los círculos no azules, y no . Luego,\n",
    "\n",
    "no (no o ) es lo mismo que y no .\n",
    "\n",
    "Se puede decir que las piezas que están dentro del redondel son las que verifican la propiedad:\n",
    "\n",
    "\"Si , entonces \". Esta expresión se puede abreviar escribiendo, .\n",
    "\n",
    "Ahora, las piezas que quedan dentro del redondel son círculos azules, no círculos azules, no círculos no azules.\n",
    "\n",
    "\n",
    "\n",
    "Estos resultados pueden resumirse en la siguiente tabla:\n",
    "\n",
    "\t\n",
    "\n",
    "\t\n",
    "\n",
    "V\n",
    "\t\n",
    "\n",
    "V\n",
    "\t\n",
    "\n",
    "V\n",
    "\n",
    "V\n",
    "\t\n",
    "\n",
    "F\n",
    "\t\n",
    "\n",
    "F\n",
    "\n",
    "F\n",
    "\t\n",
    "\n",
    "V\n",
    "\t\n",
    "\n",
    "V\n",
    "\n",
    "F\n",
    "\t\n",
    "\n",
    "F\n",
    "\t\n",
    "\n",
    "V\n",
    "\n",
    "5.6.3. Actividad N° 3\n",
    "\n",
    "Encierre, dentro de un redondel, todas las piezas que no sean círculos o no sean azules y sólo éstas.\n",
    "\n",
    "Preguntas:\n",
    "\n",
    "    ¿Es necesario que un bloque sea, a la vez, no círculo y no azul para estar dentro del redondel?\n",
    "    ¿Es suficiente que un bloque sea no circular para estar dentro del redondel?\n",
    "    ¿Es esto necesario?\n",
    "    ¿Es suficiente que un bloque no sea azul para estar dentro del redondel?\n",
    "    ¿Es esto necesario?\n",
    "    Si es un círculo y está en el redondel necesariamente es: _______\n",
    "    Si es azul y está en el redondel necesariamente es: ____________\n",
    "    ¿Qué piezas quedan por fuera?\n",
    "    ¿Qué propiedad tienen?\n",
    "    Si se designa por: Cx: x es un bloque circular\n",
    "    Ax: x es un bloque azul.\n",
    "\n",
    "Sea: y . Se forma el conjunto:\n",
    "\n",
    "Las piezas que quedan fuera del redondel, las que no verifican la propiedad no Cx o no Ax, son aquellos que son círculos azules, o sea, Cx y Ax. Luego; no(no Cx o no Ax) es lo mismo que Cx y Ax. Si formamos el conjunto,\n",
    "\n",
    "Los bloques que no están en C serán los que están en ; esto es, los que tienen la propiedad \"no Cx o no Ax\". Por tanto; no (Cx y Ax) es lo mismo que no Cx o no Ax.\n",
    "\n",
    "En síntesis, se puede construir la siguiente tabla:\n",
    "\n",
    "\t\n",
    "\n",
    "\t\n",
    "\n",
    "V\n",
    "\t\n",
    "\n",
    "V\n",
    "\t\n",
    "\n",
    "V\n",
    "\n",
    "V\n",
    "\t\n",
    "\n",
    "F\n",
    "\t\n",
    "\n",
    "F\n",
    "\n",
    "F\n",
    "\t\n",
    "\n",
    "V\n",
    "\t\n",
    "\n",
    "F\n",
    "\n",
    "F\n",
    "\t\n",
    "\n",
    "F\n",
    "\t\n",
    "\n",
    "F\n",
    "\n",
    "5.6.4 Actividad N° 4\n",
    "\n",
    "5.6.4.1. Escoja dos atributos o propiedades de los bloques lógicos (Px y Qx) y forme el conjunto unión de dichos atributos.\n",
    "\n",
    "    ¿Qué propiedad tiene el conjunto unión formado?\n",
    "    ¿Qué condición o condiciones son suficientes para estar dentro del conjunto?\n",
    "    ¿Qué condición o condiciones son necesarias para estar dentro del conjunto?\n",
    "    ¿Qué piezas han quedado por fuera?\n",
    "\n",
    "Responda a las preguntas utilizando el lenguaje cotidiano y a continuación efectúe la simbolización correspondiente.\n",
    "\n",
    "5.6.4.2. Forme un conjunto unión de dos conjuntos, donde uno de ellos tenga un atributo con negación. Por ejemplo: sean Px: x es rojo y no Qx: x no es cuadrado.\n",
    "\n",
    "    ¿Qué propiedad tiene el conjunto unión?\n",
    "    ¿Puede haber dentro del conjunto un bloque que verifique la propiedad Qx?\n",
    "    Si hay dentro del conjunto un bloque que verifique la propiedad Qx ,entonces, ¿qué otra propiedad debe verificar?\n",
    "    Si hay dentro del conjunto un bloque que no verifique la propiedad Px, entonces, ¿qué propiedad debe verificar?\n",
    "    ¿Qué piezas han quedado por fuera del conjunto? ¿Qué propiedad tienen?\n",
    "    Construya por medio de este ejercicio la implicación simbólica, y las leyes lógicas que se desprenden de las conclusiones obtenidas de las anteriores preguntas.\n",
    "\n",
    "5.6.4.3. Forme un conjunto unión de dos conjuntos, donde los dos atributos correspondientes tengan negación. Por ejemplo:\n",
    "\n",
    "no Px: x no es rojo.\n",
    "no Qx: x no es cuadrado.\n",
    "\n",
    "    Si un bloque verifica la propiedad Px, entonces ¿no pertenece al conjunto? Explique.\n",
    "    Si un bloque verifica la propiedad Qx, entonces ¿no pertenece al conjunto? Explique.\n",
    "    ¿Qué piezas quedan por fuera del conjunto? ¿Qué propiedad tienen?\n",
    "    Use las conclusiones obtenidas de la actividad para construir la conjunción. Efectúe las simbolizaciones adecuadas.\n",
    "\n",
    "5.6.5 Actividad N° 5\n",
    "\n",
    "Coloque, en el interior del redondel todas aquellas piezas que son: o bien círculos azules, o bien, no círculos no azules, y solo éstas.\n",
    "\n",
    "Preguntas\n",
    "\n",
    "    ¿Es posible encontrar al menos un bloque que cumpla con ambas propiedades?\n",
    "    ¿Es suficiente que un bloque sea círculo para estar dentro del redondel?\n",
    "    ¿ Es esto necesario?\n",
    "    ¿Es suficiente que un bloque sea no azul para estar dentro del redondel?\n",
    "    ¿Es esto necesario?\n",
    "    ¿Es suficiente que un bloque sea círculo y azul para estar en el redondel?\n",
    "    ¿Es esto necesario?\n",
    "    ¿Es suficiente que un bloque sea no círculo y no azul para estar en el redondel?\n",
    "    ¿ Es esto necesario?\n",
    "    Si es un círculo y está en el redondel necesariamente es: ________\n",
    "    Si es azul y está en el redondel necesariamente es: _____________\n",
    "    Si no es un círculo y está en el redondel necesariamente es: ______\n",
    "    Si no es azul y está en el redondel necesariamente es: __________\n",
    "    ¿Qué piezas quedan por fuera?\n",
    "    ¿Qué propiedad tienen?\n",
    "    Si se designa por: Cx: x es un bloque circular.\n",
    "    Ax: x es un bloque azul.\n",
    "\n",
    "El conjunto de los círculos azules, está formado por los bloques que pertenecen tanto al conjunto A de círculos como al conjunto B de azules, así:\n",
    "\n",
    "Este conjunto se denota y se lee: \"A intersección B\".\n",
    "\n",
    "De la misma forma, si A’ denota el conjunto de los no círculos y B’ el conjunto de los no azules, entonces:\n",
    "\n",
    "Se trata ahora de construir el conjunto reunión de círculos azules con no círculos no azules. Sea D dicho conjunto. Entonces:\n",
    "\n",
    "ó también\n",
    "\n",
    "Las piezas del conjunto formado verifican los siguientes atributos:\n",
    "\n",
    "\"Si un bloque es círculo, entonces es azul\"\n",
    "\"Si un bloque es azul, entonces es círculo\"\n",
    "\"Si un bloque no es círculo, entonces no es azul\"\n",
    "\"Si un bloque no es azul, entonces no es círculo\"\n",
    "\n",
    "Ahora, los atributos enunciados se representan así:\n",
    "\n",
    "    Si Cx, entonces Ax.\n",
    "    Si Ax, entonces Cx.\n",
    "    Si no Cx, entonces no Ax.\n",
    "    Si no Ax, entonces no Cx.\n",
    "\n",
    "Una forma de expresar conjuntamente las anteriores afirmaciones es diciendo que:\n",
    "\n",
    "\"Un bloque es círculo si y sólo si es azul\"\n",
    "\n",
    "Por fuera del redondel están las piezas que son círculos no azules o no círculos azules.\n",
    "\n",
    "Simbolizando, se tiene:\n",
    "\n",
    "Cx si y sólo si Ax. Esta expresión se puede escribir así:\n",
    "\n",
    "Luego,\n",
    "\n",
    "() es lo mismo que (Cx y Ax) o (no Cx y no Ax).\n",
    "\n",
    "Las piezas que quedan por fuera del redondel son las que no verifican la propiedad.\n",
    "\n",
    "Por tanto,\n",
    "\n",
    "no () es lo mismo que (Cx y no Ax) ó (no Cx y Ax).\n",
    "\n",
    "La siguiente tabla resume los resultados obtenidos\n",
    "\n",
    "\t\n",
    "\n",
    "\t\n",
    "\n",
    "V\n",
    "\t\n",
    "\n",
    "V\n",
    "\t\n",
    "\n",
    "V\n",
    "\n",
    "V\n",
    "\t\n",
    "\n",
    "F\n",
    "\t\n",
    "\n",
    "F\n",
    "\n",
    "F\n",
    "\t\n",
    "\n",
    "V\n",
    "\t\n",
    "\n",
    "F\n",
    "\n",
    "F\n",
    "\t\n",
    "\n",
    "F\n",
    "\t\n",
    "\n",
    "V "
   ]
  },
  {
   "cell_type": "code",
   "execution_count": null,
   "metadata": {
    "slideshow": {
     "slide_type": "slide"
    }
   },
   "outputs": [],
   "source": []
  },
  {
   "cell_type": "code",
   "execution_count": null,
   "metadata": {
    "slideshow": {
     "slide_type": "slide"
    }
   },
   "outputs": [],
   "source": []
  },
  {
   "cell_type": "markdown",
   "metadata": {
    "slideshow": {
     "slide_type": "slide"
    }
   },
   "source": [
    "# 3.1 [Lógica proposicional](https://www.cs.toronto.edu/~david/course-notes/csc110-111/03-logic/01-propositional-logic.html)"
   ]
  },
  {
   "cell_type": "markdown",
   "metadata": {
    "slideshow": {
     "slide_type": "slide"
    }
   },
   "source": [
    "A medida que nos preparamos para estudiar los números naturales, los enteros y los racionales, vamos a hacer una pausa en la intruducción a estos conjuntos, para estudiar la lógica matemática formal. "
   ]
  },
  {
   "cell_type": "markdown",
   "metadata": {
    "slideshow": {
     "slide_type": "slide"
    }
   },
   "source": [
    "Quizás te preguntes qué tiene que ver la lógica con el desarrollo de software. Como veremos a lo largo de este capítulo, una comprensión firme de la lógica nos permite identificar, definir y escribir con precisión expresiones booleanas y usarlas en nuestros programas."
   ]
  },
  {
   "cell_type": "markdown",
   "metadata": {
    "slideshow": {
     "slide_type": "slide"
    }
   },
   "source": [
    "Puede parecer contrario a la intuición dedicar un capítulo entero a la lógica, como es el tipo de datos más simple en Python. Pero escribir expresiones booleanas que capturen correctamente definiciones y condiciones en un dominio de problema dado puede ser complicado a medida que estas definiciones y condiciones crecen en complejidad. Resultará muy útil tener un lenguaje matemático formal, la lógica, para expresar estas complejas expresiones booleanas antes de convertirlas en código.bool\n",
    "\n",
    "Proposiciones\n",
    "Comenzaremos nuestro estudio en este capítulo con la lógica proposicional, un sistema elemental de lógica que es un bloque de construcción crucial que subyace a otros sistemas de lógica más expresivos que necesitaremos en este curso.\n",
    "\n",
    "Una proposición es una declaración que es Verdadera o Falsa. Ejemplos de proposiciones son:\n",
    "\n",
    "Cada entero par mayor que  es la suma de dos números primos.\n",
    "La implementación de Python de es correcta en cada lista de entrada.list.sort\n",
    "Utilizamos variables proposicionales para representar proposiciones; por convención, los nombres de variables proposicionales son letras minúsculas que comienzan en .El concepto de variable proposicional es diferente de otras formas de variables que has visto antes, e incluso de las que veremos más adelante en este capítulo. Aquí hay una regla general: si lees una expresión que involucra una variable proposicional , debería poder reemplazar  con la afirmación \"CSC110 es genial\" y aún así tener la expresión tiene sentido.\n",
    "\n",
    "Un operador proposicional/lógico es un operador cuyos argumentos deben ser Todos Verdaderos o Falsos. Finalmente, una fórmula proposicional es una expresión que se construye a partir de variables proposicionales aplicando estos operadores.\n",
    "\n",
    "En las siguientes secciones, describimos los diversos operadores que utilizaremos en este curso. Es importante tener en cuenta al leer que estos operadores informan tanto la estructura de las fórmulas (cómo se ven) como el valor de verdad de estas fórmulas (lo que significan: si la fórmula es Verdadera o Falsa en función de los valores de verdad de las variables proposicionales individuales).\n",
    "\n",
    "Los operadores básicos NO, Y, O\n",
    "Hemos visto a estos operadores anteriormente cuando discutimos diferentes tipos de datos. El hecho de que Python tenga palabras clave específicas dedicadas a estos operadores debería al menos insinuar que se usan con frecuencia. Aquí, pasamos algún tiempo presentando a los operadores de manera más formal y desarrollando nuestras primeras tablas de verdad.\n",
    "\n",
    "Falso\tVerdadero\n",
    "Verdadero\tFalso\n",
    "El operador unario NOT (también llamado \"negación\") se denota por el símbolo . Niega el valor de verdad de su entrada. Así que si  es Verdadero, entonces  es falso, y viceversa. Esto se muestra en la tabla de verdad al lado. En Python, usamos la palabra clave para representar esta operación.not\n",
    "\n",
    "Falso\tFalso\tFalso\n",
    "Falso\tVerdadero\tFalso\n",
    "Verdadero\tFalso\tFalso\n",
    "Verdadero\tVerdadero\tVerdadero\n",
    "El operador binario AND (también llamado \"conjunción\") se denota por el símbolo . Devuelve True cuando ambos argumentos son True. En Python, usamos la palabra clave para representar esta operación.and\n",
    "\n",
    "El operador binario OR (también llamado \"disyunción\") se denota por el símbolo , y devuelve True si uno o ambos de sus argumentos son True. En Python, usamos la palabra clave para representar esta operación.or\n",
    "\n",
    "Falso\tFalso\tFalso\n",
    "Falso\tVerdadero\tVerdadero\n",
    "Verdadero\tFalso\tVerdadero\n",
    "True\tTrue\tTrue\n",
    "Las tablas de verdad para AND y NOT están de acuerdo con el uso popular en inglés de los términos; sin embargo, el operador OR puede parecer algo diferente de su intuición, porque la palabra \"o\" tiene dos significados diferentes para la mayoría de los angloparlantes. Considere la declaración en inglés \"Puedes comer pastel o helado\". De un nutricionista, esto podría ser una exclusiva o: puedes tomar pastel o puedes tomar helado, pero no ambos. Pero de un pariente amable en una reunión familiar, esto podría ser un inclusivo o: ¡puedes comer pastel y helado si lo deseas! El estudio de la lógica matemática está destinado a eliminar la ambigüedad eligiendo un significado de OR y apegándose a él. En nuestro caso, siempre usaremos OR para referirnos a lo inclusivo o, como se ilustra en la última fila de su tabla de verdad.The symbol  is often used to represent the exclusive or operator, but we will not use it in this course. This is also the behaviour of the operator in Python, which evaluates to when both of its operands are .orTrueTrue\n",
    "\n",
    "AND and OR are similar in that they are both binary operators on propositional variables. However, the distinction between AND and OR is very important. Consider for example a rental agreement that reads “first and last months’ rent and a $1000 deposit” versus a rental agreement that reads “first and last months’ rent or a $1000 deposit.” The second contract is fulfilled with much less money down than the first contract.\n",
    "\n",
    "The implication operator\n",
    "One of the most subtle and powerful relationships between two propositions is implication, which is represented by the symbol . The implication  asserts that whenever  is True,  must also be True. An example of logical implication in English is the statement: “If you push that button, then the fire alarm will go off.”In some contexts, we think of logical implication as the temporal relationship that  is inevitable if  occurs. But this is not always the case! Be careful not to confuse implication with causation. Implications are so important that the parts have been given names. The statement  is called the hypothesis of the implication and the statement  is called the conclusion of the implication.\n",
    "\n",
    "False\tFalse\tTrue\n",
    "False\tTrue\tTrue\n",
    "True\tFalse\tFalse\n",
    "True\tTrue\tTrue\n",
    "How should the truth table be defined for ? First, when both  and  are True, then  should be True, since when  occurs,  also occurs. Similarly, it is clear that when  is True and  is False, then  is False (since then  is not inevitably True when  is True). But what about the other two cases, when  is False and  is either True or False? This is another case where our intuition from both English language it a little unclear. Perhaps somewhat surprisingly, in both of these remaining cases, we will still define  to be True.\n",
    "\n",
    "The two cases when  is False but  is True are called the vacuous truth cases. How do we justify this assignment of truth values? The key intuition is that because the statement doesn’t say anything about whether or not  should occur when  is False, it cannot be disproven when  is False. In our example above, if the alarm button is not pushed, then the statement is not saying anything about whether or not the fire alarm will go off. It is entirely consistent with this statement that if the button is not pushed, the fire alarm can still go off, or may not go off.\n",
    "\n",
    "The formula  has two equivalentHere, “equivalent” means that the two formulas have the same truth values; for any setting of their propositional variables to True and False, the formulas will either both be True or both be False. formulas which are often useful. To make this concrete, we’ll use our example “If you are a Pittsburgh Pens fan, then you are not a Flyers fan” from the introduction.\n",
    "\n",
    "The following two formulas are equivalent to :\n",
    "\n",
    ". On our example: “You are not a Pittsburgh Pens fan, or you are not a Flyers fan.” This makes use of the vacuous truth cases of implication, in that if  is False then  is True, and if  is True then  must be True as well.\n",
    "\n",
    ". On our example: “If you are a Flyers fan, then you are not a Pittsburgh Pens fan.” Intuitively, this says that if  doesn’t occur, then  cannot have occurred either.\n",
    "\n",
    "This equivalent formula is in fact so common that we give it a special name: the contrapositive of the implication .\n",
    "\n",
    "There is one more related formula that we will discuss before moving on. If we take  and switch the hypothesis and conclusion, we obtain the implication , which is called the converse of the original implication.\n",
    "\n",
    "Unlike the two formulas in the list above, the converse of an implication is not logically equivalent to the original implication. Consider the statement “If you can solve any problem in this course, then you will get an A.” Its converse is “If you will get an A, then you can solve any problem in this course.” These two statements certainly don’t mean the same thing!\n",
    "\n",
    "In Python, there is no operator or keyword that represents implication directly. If you do want to express an implication as a Python expression, we can use the first equivalent form from above, writing  as . This is less common in Python programs; however, implication has other uses in manipulating data and expressing algorithms that we’ll explore later in this course.\n",
    "\n",
    "Biconditional (“if and only if”)\n",
    "The final logical operator that we will consider is the biconditional, denoted by . This operator returns True when the implication  and its converse  are both True.\n",
    "\n",
    "False\tFalse\tTrue\n",
    "False\tTrue\tFalse\n",
    "True\tFalse\tFalse\n",
    "True\tTrue\tTrue\n",
    "In other words,  is an abbreviation for . A nice way of thinking about the biconditional is that it asserts that its two arguments have the same truth value.\n",
    "\n",
    "While we could use the natural translation of  and  into English to also translate , the result is a little clunky:  becomes “if  then , and if  then .” Instead, we often shorten this using a quite nice turn of phrase: “ if and only if ,” which is abbreviated to “ iff .”\n",
    "\n",
    "En Python, no necesitamos un operador separado para representar , ya que simplemente podemos usar para determinar si dos valores booleanos son iguales!==\n",
    "\n",
    "Resumen\n",
    "Ahora hemos visto los cinco operadores proposicionales que utilizaremos en este curso. Ahora es un excelente momento para revisarlos y asegurarse de que comprende la notación, el significado y las palabras en inglés utilizadas para indicar cada uno.\n",
    "\n",
    "operador\tnotación\tInglés\tOperación Python\n",
    "No\t\t no es cierto\tnot p\n",
    "Y\t\t y \tp and q\n",
    "O\t\t o  (¡o ambas cosas!)\tp or q\n",
    "implicación\t\tsi entonces \tnot p or q\n",
    "bicondicional\t\t si y sólo si \tp == q"
   ]
  },
  {
   "cell_type": "code",
   "execution_count": null,
   "metadata": {},
   "outputs": [],
   "source": []
  },
  {
   "cell_type": "code",
   "execution_count": null,
   "metadata": {},
   "outputs": [],
   "source": []
  },
  {
   "cell_type": "markdown",
   "metadata": {
    "id": "4WZE3TwetW5c",
    "slideshow": {
     "slide_type": "slide"
    }
   },
   "source": [
    "# Implicación y recíproco"
   ]
  },
  {
   "cell_type": "markdown",
   "metadata": {
    "id": "S7l7IAf6kY_F",
    "slideshow": {
     "slide_type": "slide"
    }
   },
   "source": [
    "## Referentes \n",
    "\n",
    "* Clara Elena Mejía Laverde: http://ayura.udea.edu.co/logicamatematica/talleres.htm"
   ]
  },
  {
   "cell_type": "code",
   "execution_count": 8,
   "metadata": {
    "id": "91u1ErW2i9a1",
    "slideshow": {
     "slide_type": "slide"
    }
   },
   "outputs": [],
   "source": [
    "def condicional(p,q):\n",
    "    return not p or q"
   ]
  },
  {
   "cell_type": "code",
   "execution_count": 10,
   "metadata": {
    "colab": {
     "base_uri": "https://localhost:8080/"
    },
    "id": "YtUcKpWj3Bzo",
    "outputId": "ddb11294-49fe-474a-8bee-3fab5a7d124c",
    "slideshow": {
     "slide_type": "slide"
    }
   },
   "outputs": [
    {
     "data": {
      "text/plain": [
       "True"
      ]
     },
     "execution_count": 10,
     "metadata": {},
     "output_type": "execute_result"
    }
   ],
   "source": [
    "condicional(False, False)"
   ]
  },
  {
   "cell_type": "code",
   "execution_count": 10,
   "metadata": {
    "slideshow": {
     "slide_type": "slide"
    }
   },
   "outputs": [],
   "source": [
    "import pandas as pd \n",
    "arit_df = pd.read_csv('arit.csv', sep = ';')"
   ]
  },
  {
   "cell_type": "code",
   "execution_count": 11,
   "metadata": {
    "slideshow": {
     "slide_type": "slide"
    }
   },
   "outputs": [
    {
     "data": {
      "text/html": [
       "<div>\n",
       "<style scoped>\n",
       "    .dataframe tbody tr th:only-of-type {\n",
       "        vertical-align: middle;\n",
       "    }\n",
       "\n",
       "    .dataframe tbody tr th {\n",
       "        vertical-align: top;\n",
       "    }\n",
       "\n",
       "    .dataframe thead th {\n",
       "        text-align: right;\n",
       "    }\n",
       "</style>\n",
       "<table border=\"1\" class=\"dataframe\">\n",
       "  <thead>\n",
       "    <tr style=\"text-align: right;\">\n",
       "      <th></th>\n",
       "      <th>cedula</th>\n",
       "      <th>nombre</th>\n",
       "      <th>email</th>\n",
       "    </tr>\n",
       "  </thead>\n",
       "  <tbody>\n",
       "    <tr>\n",
       "      <th>0</th>\n",
       "      <td>1032248407</td>\n",
       "      <td>CALDERA NAVARRO DIEGO</td>\n",
       "      <td>diego.caldera@udea.edu.co</td>\n",
       "    </tr>\n",
       "    <tr>\n",
       "      <th>1</th>\n",
       "      <td>1007410536</td>\n",
       "      <td>CALY HERRERA ESTEFANIA</td>\n",
       "      <td>estefania.caly@udea.edu.co</td>\n",
       "    </tr>\n",
       "    <tr>\n",
       "      <th>2</th>\n",
       "      <td>1066600269</td>\n",
       "      <td>CASTRO RAMIREZ JOSE DANIEL</td>\n",
       "      <td>jose.castro1@udea.edu.co</td>\n",
       "    </tr>\n",
       "    <tr>\n",
       "      <th>3</th>\n",
       "      <td>1038108070</td>\n",
       "      <td>DORADO PADILLA LEONEL ESTEBAN</td>\n",
       "      <td>leonel.dorado@udea.edu.co</td>\n",
       "    </tr>\n",
       "    <tr>\n",
       "      <th>4</th>\n",
       "      <td>1038115862</td>\n",
       "      <td>LONDONO CASTRO FRED IVAN</td>\n",
       "      <td>fred.londonoc@udea.edu.co</td>\n",
       "    </tr>\n",
       "    <tr>\n",
       "      <th>5</th>\n",
       "      <td>3667402</td>\n",
       "      <td>MARIN MARTINEZ FRANCISCO JAVIER</td>\n",
       "      <td>fjavier.marin@udea.edu.co</td>\n",
       "    </tr>\n",
       "    <tr>\n",
       "      <th>6</th>\n",
       "      <td>1129804572</td>\n",
       "      <td>SAN JUAN SERRANO MANUEL</td>\n",
       "      <td>manuel.serrano1@udea.edu.co</td>\n",
       "    </tr>\n",
       "    <tr>\n",
       "      <th>7</th>\n",
       "      <td>1091673882</td>\n",
       "      <td>SANCHEZ BELTRAN ROSMARY</td>\n",
       "      <td>rosmary.sanchezb@udea.edu.co</td>\n",
       "    </tr>\n",
       "    <tr>\n",
       "      <th>8</th>\n",
       "      <td>1007554266</td>\n",
       "      <td>URIBE ARRIETA YEIFRY SEBASTIAN</td>\n",
       "      <td>yeifry.uribe@udea.edu.co</td>\n",
       "    </tr>\n",
       "    <tr>\n",
       "      <th>9</th>\n",
       "      <td>1007578670</td>\n",
       "      <td>VELASQUEZ LOPEZ MERLIS</td>\n",
       "      <td>merlis.velasquez@udea.edu.co</td>\n",
       "    </tr>\n",
       "  </tbody>\n",
       "</table>\n",
       "</div>"
      ],
      "text/plain": [
       "       cedula                           nombre                         email\n",
       "0  1032248407            CALDERA NAVARRO DIEGO     diego.caldera@udea.edu.co\n",
       "1  1007410536           CALY HERRERA ESTEFANIA    estefania.caly@udea.edu.co\n",
       "2  1066600269       CASTRO RAMIREZ JOSE DANIEL      jose.castro1@udea.edu.co\n",
       "3  1038108070    DORADO PADILLA LEONEL ESTEBAN     leonel.dorado@udea.edu.co\n",
       "4  1038115862         LONDONO CASTRO FRED IVAN     fred.londonoc@udea.edu.co\n",
       "5     3667402  MARIN MARTINEZ FRANCISCO JAVIER     fjavier.marin@udea.edu.co\n",
       "6  1129804572          SAN JUAN SERRANO MANUEL   manuel.serrano1@udea.edu.co\n",
       "7  1091673882          SANCHEZ BELTRAN ROSMARY  rosmary.sanchezb@udea.edu.co\n",
       "8  1007554266   URIBE ARRIETA YEIFRY SEBASTIAN      yeifry.uribe@udea.edu.co\n",
       "9  1007578670           VELASQUEZ LOPEZ MERLIS  merlis.velasquez@udea.edu.co"
      ]
     },
     "execution_count": 11,
     "metadata": {},
     "output_type": "execute_result"
    }
   ],
   "source": [
    "arit_df "
   ]
  },
  {
   "cell_type": "markdown",
   "metadata": {
    "id": "K5rex7R43j0s",
    "slideshow": {
     "slide_type": "slide"
    }
   },
   "source": [
    "## Participación aleatoria de los estudiantes del curso"
   ]
  },
  {
   "cell_type": "code",
   "execution_count": 47,
   "metadata": {
    "slideshow": {
     "slide_type": "slide"
    }
   },
   "outputs": [],
   "source": [
    "def estudiante_que_va_a_participar(grupo): # el grupo se introduce como una cadena de caracteres \n",
    "    import numpy as np \n",
    "    import pandas as pd \n",
    "    from random import choice\n",
    "    grupo_df = pd.read_csv(grupo + '.csv', encoding = 'latin1', sep = ';')\n",
    "    lista_estudiantes = list(grupo_df.email.values)\n",
    "    if lista_estudiantes != []:\n",
    "        estudiante = choice(lista_estudiantes)\n",
    "        lista_estudiantes.remove(estudiante)\n",
    "        return print(estudiante)\n",
    "    else:\n",
    "        print('Todos los estudiantes han participado.\\n Muchas gracias y Felicitaciones')"
   ]
  },
  {
   "cell_type": "code",
   "execution_count": 101,
   "metadata": {
    "slideshow": {
     "slide_type": "slide"
    }
   },
   "outputs": [
    {
     "name": "stdout",
     "output_type": "stream",
     "text": [
      "rosmary.sanchezb@udea.edu.co\n"
     ]
    }
   ],
   "source": [
    "estudiante_que_va_a_participar('arit') "
   ]
  },
  {
   "cell_type": "markdown",
   "metadata": {
    "slideshow": {
     "slide_type": "slide"
    }
   },
   "source": [
    "# Asignación "
   ]
  },
  {
   "cell_type": "code",
   "execution_count": null,
   "metadata": {},
   "outputs": [],
   "source": []
  },
  {
   "cell_type": "markdown",
   "metadata": {
    "slideshow": {
     "slide_type": "slide"
    }
   },
   "source": [
    "## Referentes  \n",
    "\n",
    "* Clara Elena Mejía Laverde: http://ayura.udea.edu.co/logicamatematica/talleres.htm"
   ]
  },
  {
   "cell_type": "code",
   "execution_count": null,
   "metadata": {},
   "outputs": [],
   "source": []
  }
 ],
 "metadata": {
  "celltoolbar": "Slideshow",
  "colab": {
   "authorship_tag": "ABX9TyMJ2haOCttof2xFUYXYaQpT",
   "include_colab_link": true,
   "provenance": []
  },
  "kernelspec": {
   "display_name": "Python 3 (ipykernel)",
   "language": "python",
   "name": "python3"
  },
  "language_info": {
   "codemirror_mode": {
    "name": "ipython",
    "version": 3
   },
   "file_extension": ".py",
   "mimetype": "text/x-python",
   "name": "python",
   "nbconvert_exporter": "python",
   "pygments_lexer": "ipython3",
   "version": "3.9.12"
  }
 },
 "nbformat": 4,
 "nbformat_minor": 1
}
