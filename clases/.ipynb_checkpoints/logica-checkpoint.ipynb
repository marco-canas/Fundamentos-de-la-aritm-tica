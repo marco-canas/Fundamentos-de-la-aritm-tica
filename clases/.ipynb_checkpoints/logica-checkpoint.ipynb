{
 "cells": [
  {
   "cell_type": "markdown",
   "id": "5f3d2702",
   "metadata": {
    "slideshow": {
     "slide_type": "slide"
    }
   },
   "source": [
    "<a href=\"https://colab.research.google.com/github/marco-canas/Fundamentos-de-la-aritm-tica/blob/main/clases/logica.ipynb\" target=\"_parent\"><img src=\"https://colab.research.google.com/assets/colab-badge.svg\" alt=\"Open In Colab\"/></a>"
   ]
  },
  {
   "cell_type": "markdown",
   "id": "d29061b8",
   "metadata": {
    "slideshow": {
     "slide_type": "slide"
    }
   },
   "source": [
    "# Lógica Proposicional Y Didáctica de ella a través de Python"
   ]
  },
  {
   "cell_type": "markdown",
   "id": "cdf7cce0",
   "metadata": {
    "slideshow": {
     "slide_type": "slide"
    }
   },
   "source": [
    "## Objetivos  "
   ]
  },
  {
   "cell_type": "markdown",
   "id": "f890cbec",
   "metadata": {
    "slideshow": {
     "slide_type": "slide"
    }
   },
   "source": [
    "* Aprender a programar enunciados de lógica proposicional para obtener resultados (conslusiones) \n",
    "* Aplicar los conceptos de programación lógica. "
   ]
  },
  {
   "cell_type": "markdown",
   "id": "22cad403",
   "metadata": {
    "slideshow": {
     "slide_type": "slide"
    }
   },
   "source": [
    "## TEMAS A TRATAR\n",
    " \n",
    " * Conceptos y fundamentos \n",
    " * Variables y expresiones \n",
    " * Loops \n",
    " * Funciones lógicas  \n",
    " * Ejercicios "
   ]
  },
  {
   "cell_type": "markdown",
   "id": "3b90e728",
   "metadata": {
    "slideshow": {
     "slide_type": "slide"
    }
   },
   "source": [
    "## MARCO TEÓRICO\n",
    " "
   ]
  },
  {
   "cell_type": "markdown",
   "id": "3c756851",
   "metadata": {
    "slideshow": {
     "slide_type": "slide"
    }
   },
   "source": [
    "En este laboratorio trataremos sobre la lógica proposicional. "
   ]
  },
  {
   "cell_type": "markdown",
   "id": "ec08532f",
   "metadata": {
    "slideshow": {
     "slide_type": "slide"
    }
   },
   "source": [
    "## 1. Concepto y fundamentos "
   ]
  },
  {
   "cell_type": "markdown",
   "id": "2c44e0b2",
   "metadata": {
    "slideshow": {
     "slide_type": "slide"
    }
   },
   "source": [
    "Los conceptos que utilizaremos son los siguientes: "
   ]
  },
  {
   "cell_type": "markdown",
   "id": "a81399ad",
   "metadata": {
    "slideshow": {
     "slide_type": "slide"
    }
   },
   "source": [
    "* Lógica: Lo que es congruente, ordenado y bien estructurado. Es la ciencia del pensamiento y la  \n",
    "  razón. "
   ]
  },
  {
   "cell_type": "markdown",
   "id": "46861704",
   "metadata": {
    "slideshow": {
     "slide_type": "slide"
    }
   },
   "source": [
    "* Proposición: Es una afirmación que comunica una idea verdadera o falsa. De los siguientes \n",
    "ejemplos, establecer el valor de verdad de las siguientes proposiciones:  \n",
    "* $q$: España es el campeón mundial de futbol del 2010. "
   ]
  },
  {
   "cell_type": "markdown",
   "id": "2f8fc6ab",
   "metadata": {
    "slideshow": {
     "slide_type": "slide"
    }
   },
   "source": [
    "Esta proposición es verdadera, pues España gano la final de futbol del 2010.  "
   ]
  },
  {
   "cell_type": "markdown",
   "id": "7aabc0ec",
   "metadata": {
    "slideshow": {
     "slide_type": "slide"
    }
   },
   "source": [
    "* $r$: Junio es el quinto mes del año. \n",
    "  La proposición es falsa. Al enumerar los meses se puede apreciar que junio es el sexto mes del año.  \n",
    "* $s$: $2$ elevado a la 3 es 8.  \n",
    "\n",
    "$$ 2^{3}= 8, $$\n",
    "\n",
    "la proposición es verdadera. "
   ]
  },
  {
   "cell_type": "markdown",
   "id": "9616b67c",
   "metadata": {
    "slideshow": {
     "slide_type": "slide"
    }
   },
   "source": [
    " \n",
    "* Lógica Proposicional:  Es  la  parte  de  la  lógica  que  estudia  la  formación  de  proposiciones \n",
    "complejas  a  partir  de  proposiciones  simples  y  la  inferencia  de  proposiciones  a  partir  de \n",
    "proposiciones, pero sin tener en cuenta la estructura interna de las proposiciones más simples. \n",
    "Las proposiciones equivalen a frases u oraciones del lenguaje hablado. "
   ]
  },
  {
   "cell_type": "markdown",
   "id": "e728856c",
   "metadata": {
    "slideshow": {
     "slide_type": "slide"
    }
   },
   "source": [
    "* La lógica de Predicados, también llamada lógica de primer orden, es una extensión de la lógica \n",
    "proposicional  que usa  variables  para  los objetos. Esta  nos permite dar  una  descripción de la \n",
    "realidad más detallada."
   ]
  },
  {
   "cell_type": "markdown",
   "id": "854fdd41",
   "metadata": {
    "slideshow": {
     "slide_type": "slide"
    }
   },
   "source": [
    "1. Variables y expresiones  \n",
    " \n",
    "Se  deben  declarar  las  variables  que  ustilizaremos.  Estas  deben  de  comenzar  con  una  letra \n",
    "mayúscula.   \n",
    " "
   ]
  },
  {
   "cell_type": "markdown",
   "id": "11c09c31",
   "metadata": {
    "slideshow": {
     "slide_type": "slide"
    }
   },
   "source": [
    "Ejercicio 1: Lo siguiente declara la variable X y Y: "
   ]
  },
  {
   "cell_type": "markdown",
   "id": "5527b65d",
   "metadata": {
    "slideshow": {
     "slide_type": "slide"
    }
   },
   "source": [
    "Ejercicio 2:  \n",
    "a) Las variables aparecen en consultas lógicas, que devuelven un resultado imprimible "
   ]
  },
  {
   "cell_type": "code",
   "execution_count": 8,
   "id": "535c2f6c",
   "metadata": {
    "slideshow": {
     "slide_type": "slide"
    }
   },
   "outputs": [],
   "source": [
    "X = True\n",
    "Y = False"
   ]
  },
  {
   "cell_type": "code",
   "execution_count": 6,
   "id": "9946b6ce",
   "metadata": {
    "slideshow": {
     "slide_type": "slide"
    }
   },
   "outputs": [
    {
     "name": "stdout",
     "output_type": "stream",
     "text": [
      "True\n"
     ]
    }
   ],
   "source": [
    "print(X==1) "
   ]
  },
  {
   "cell_type": "markdown",
   "id": "9853e354",
   "metadata": {
    "slideshow": {
     "slide_type": "slide"
    }
   },
   "source": [
    " \n",
    " \n",
    "b) Las consultas pueden contener varias variables y varios criterios ('&' se lee 'y'):"
   ]
  },
  {
   "cell_type": "code",
   "execution_count": 9,
   "id": "80d881e3",
   "metadata": {
    "slideshow": {
     "slide_type": "slide"
    }
   },
   "outputs": [
    {
     "name": "stdout",
     "output_type": "stream",
     "text": [
      "True\n"
     ]
    }
   ],
   "source": [
    " \n",
    "print((X==True) & (Y==False)) \n",
    " "
   ]
  },
  {
   "cell_type": "markdown",
   "id": "41afae72",
   "metadata": {
    "slideshow": {
     "slide_type": "slide"
    }
   },
   "source": [
    " \n",
    "Ejercicio 3: ¿Cuál es el resultado de la siguiente consulta y por qué? "
   ]
  },
  {
   "cell_type": "code",
   "execution_count": 10,
   "id": "8c465d4b",
   "metadata": {
    "slideshow": {
     "slide_type": "slide"
    }
   },
   "outputs": [
    {
     "name": "stdout",
     "output_type": "stream",
     "text": [
      "False\n"
     ]
    }
   ],
   "source": [
    "print((X==True) & (X==False)) "
   ]
  },
  {
   "cell_type": "markdown",
   "id": "8b4b65f6",
   "metadata": {
    "slideshow": {
     "slide_type": "slide"
    }
   },
   "source": [
    " \n",
    "Ejercicio 4: Además de números y valores booleanos, las variables pueden representar cadenas. \n",
    "Así  mismo,  las  consultas  pueden  incluir  expresiones  de  Python.  La  siguiente  consulta  debe \n",
    "devolver todas las X e Y, donde X es un nombre ingresado e Y sea 'Hola' seguido de la primera \n",
    "letra de X "
   ]
  },
  {
   "cell_type": "code",
   "execution_count": 17,
   "id": "f6a7d49e",
   "metadata": {
    "slideshow": {
     "slide_type": "slide"
    }
   },
   "outputs": [
    {
     "name": "stdout",
     "output_type": "stream",
     "text": [
      "Por favor entre su nombre: Marco\n"
     ]
    }
   ],
   "source": [
    "X = input('Por favor entre su nombre: ')\n",
    "Y = 'Hello '"
   ]
  },
  {
   "cell_type": "code",
   "execution_count": 19,
   "id": "f90bc919",
   "metadata": {
    "slideshow": {
     "slide_type": "slide"
    }
   },
   "outputs": [
    {
     "name": "stdout",
     "output_type": "stream",
     "text": [
      "Hello Marco\n"
     ]
    }
   ],
   "source": [
    "print(Y + X)"
   ]
  },
  {
   "cell_type": "markdown",
   "id": "b577d4ae",
   "metadata": {
    "slideshow": {
     "slide_type": "slide"
    }
   },
   "source": [
    "# Los operadores lógicos y sus tablas de verdad. Didáctica del tema a través de cuadernos jupyter con lenguaje Python"
   ]
  },
  {
   "cell_type": "markdown",
   "id": "66e8b2e2",
   "metadata": {
    "slideshow": {
     "slide_type": "slide"
    }
   },
   "source": [
    "* Objetivo: \n",
    "\n",
    "presentar los operadores lógicos de Python e ilustrar el uso de bucles for anidados para mostrar sus tablas de verdad."
   ]
  },
  {
   "cell_type": "markdown",
   "id": "2e00f4fa",
   "metadata": {
    "slideshow": {
     "slide_type": "slide"
    }
   },
   "source": [
    "Aunque ya hay una amplia colección de artículos dedicados a Python, debemos admitir que hay bastantes elementos del lenguaje que aún no han sido presentados en familia. "
   ]
  },
  {
   "cell_type": "markdown",
   "id": "6b429b38",
   "metadata": {
    "slideshow": {
     "slide_type": "slide"
    }
   },
   "source": [
    "Es el caso, por ejemplo, de los operadores lógicos, de los que nos ocuparemos hoy. Mostraremos los distintos tipos y dejaremos que Python construya las respectivas tablas de verdad, ejemplo que nos servirá, a su vez, para ilustrar la anidación de un bucle for dentro de otro."
   ]
  },
  {
   "cell_type": "markdown",
   "id": "4109fbf8",
   "metadata": {
    "slideshow": {
     "slide_type": "slide"
    }
   },
   "source": [
    "Con toda certeza que te has cruzado alguna vez en tu vida con los operadores lógicos o, como también se los conoce, booleanos. No tengo intención de darte una clase de álgebra booleana, de modo que nos centraremos directamente en su representación en Python."
   ]
  },
  {
   "cell_type": "markdown",
   "id": "08f85014",
   "metadata": {
    "slideshow": {
     "slide_type": "slide"
    }
   },
   "source": [
    "Los tres operadores lógicos básicos son O, Y y NO, representados en Python por or, and y not, respectivamente.\n",
    "\n",
    "Podemos incluir también el O EXCLUSIVO, que es verdadero cuando uno y solo uno de los operandos lo es, pero estrictamente debes saber que se deriva a partir de los tres básicos. Su representación es ^, el sombrero o caret."
   ]
  },
  {
   "cell_type": "markdown",
   "id": "aa28c599",
   "metadata": {
    "slideshow": {
     "slide_type": "slide"
    }
   },
   "source": [
    "Como ejercicio práctico, vamos a realizar un programa que construya las tablas de verdad correspondientes."
   ]
  },
  {
   "cell_type": "code",
   "execution_count": 21,
   "id": "f8c6a24d",
   "metadata": {
    "slideshow": {
     "slide_type": "slide"
    }
   },
   "outputs": [
    {
     "name": "stdout",
     "output_type": "stream",
     "text": [
      "x \t y \t x or y\n",
      "----------------------\n",
      "False\tFalse\tFalse\n",
      "False\tTrue\tTrue\n",
      "True\tFalse\tTrue\n",
      "True\tTrue\tTrue\n",
      "\n"
     ]
    }
   ],
   "source": [
    "booleanos = [False, True]\n",
    "\n",
    "# Tabla de verdad de or\n",
    "\n",
    "print('x \\t y \\t x or y')\n",
    "print('-'*22)\n",
    "for x in booleanos:\n",
    "    for y in booleanos:\n",
    "        print(x, y, x or y, sep = '\\t')\n",
    "\n",
    "print()\n"
   ]
  },
  {
   "cell_type": "markdown",
   "id": "0bb6f497",
   "metadata": {
    "slideshow": {
     "slide_type": "slide"
    }
   },
   "source": [
    "## [Video de apoyo a la lectura interactiva y experimental de este cuaderno]()"
   ]
  },
  {
   "cell_type": "code",
   "execution_count": null,
   "id": "a5977d51",
   "metadata": {},
   "outputs": [],
   "source": []
  },
  {
   "cell_type": "code",
   "execution_count": null,
   "id": "036641fd",
   "metadata": {},
   "outputs": [],
   "source": []
  },
  {
   "cell_type": "code",
   "execution_count": null,
   "id": "ffeba293",
   "metadata": {},
   "outputs": [],
   "source": []
  },
  {
   "cell_type": "code",
   "execution_count": null,
   "id": "b2918bfd",
   "metadata": {},
   "outputs": [],
   "source": []
  },
  {
   "cell_type": "markdown",
   "id": "4459f267",
   "metadata": {
    "slideshow": {
     "slide_type": "slide"
    }
   },
   "source": [
    "## Referentes\n",
    "\n",
    "* lógica: https://www.studocu.com/pe/document/universidad-catolica-de-santa-maria/estructuras-discretas/laboratorio-4-logica-proposicional-y-programacion-logica-en-python/10784297"
   ]
  },
  {
   "cell_type": "code",
   "execution_count": null,
   "id": "1f600c16",
   "metadata": {},
   "outputs": [],
   "source": []
  }
 ],
 "metadata": {
  "celltoolbar": "Slideshow",
  "kernelspec": {
   "display_name": "Python 3 (ipykernel)",
   "language": "python",
   "name": "python3"
  },
  "language_info": {
   "codemirror_mode": {
    "name": "ipython",
    "version": 3
   },
   "file_extension": ".py",
   "mimetype": "text/x-python",
   "name": "python",
   "nbconvert_exporter": "python",
   "pygments_lexer": "ipython3",
   "version": "3.9.12"
  }
 },
 "nbformat": 4,
 "nbformat_minor": 5
}
