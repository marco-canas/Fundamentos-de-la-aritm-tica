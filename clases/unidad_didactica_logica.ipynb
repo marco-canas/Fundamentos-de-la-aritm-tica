{
 "cells": [
  {
   "cell_type": "markdown",
   "metadata": {
    "colab_type": "text",
    "id": "view-in-github",
    "slideshow": {
     "slide_type": "slide"
    }
   },
   "source": [
    "<table align=\"left\">\n",
    "  <td>\n",
    "<a href=\"https://colab.research.google.com/github/marco-canas/Fundamentos-de-la-aritm-tica/blob/main/unidad_didactica_logica.ipynb\" target=\"_parent\"><img src=\"https://colab.research.google.com/assets/colab-badge.svg\" alt=\"Open In Colab\"/></a>\n",
    "       </td>\n",
    "</table>"
   ]
  },
  {
   "cell_type": "markdown",
   "metadata": {
    "id": "adcCkBKkjQUn",
    "slideshow": {
     "slide_type": "slide"
    }
   },
   "source": [
    "# [Unidad didáctica de Lógica](http://ayura.udea.edu.co/logicamatematica/talleres.htm)"
   ]
  },
  {
   "cell_type": "markdown",
   "metadata": {
    "id": "LeJPyOM-kyiv",
    "slideshow": {
     "slide_type": "slide"
    }
   },
   "source": [
    "5.3. OBJETIVOS\n",
    "\n",
    "* Construir, a partir del juego, esquemas básicos de razonamiento lógico.\n",
    "* Construir, tomando como primitivos, los conectivos lógicos \"no\" y \"o\", los restantes conectivos lógicos: \"si... entonces\", \"y\" y \"si y sólo si\".\n",
    "* Visualizar las propiedades más importantes de cada uno los conectivos y expresarlas en forma de leyes lógicas.\n",
    "* Mostrar en qué forma se niegan los conectivos, enunciando las leyes de De Morgan.\n"
   ]
  },
  {
   "cell_type": "markdown",
   "metadata": {
    "id": "AU0W6klPkywN",
    "slideshow": {
     "slide_type": "slide"
    }
   },
   "source": [
    "5.4. PRESENTACIÓN DE LOS BLOQUES LÓGICOS\n",
    "\n",
    "Se trata de un conjunto de 48 piezas, diseñadas así:\n",
    "\n",
    "Tres colores: amarillo, azul y rojo.\n",
    "\n",
    "Cuatro formas: cuadrado, rectángulo, círculo, triángulo.\n",
    "\n",
    "Dos tamaños: grande, pequeño.\n",
    "\n",
    "Dos espesores: grueso, delgado.\n",
    "\n",
    "Se tienen, entonces, cuatro variables, cuyos valores producen 48 figuras diferentes, el producto de 3 x 4 x 2 x 2.\n",
    "\n",
    "El material debe ser libremente manejado por los jóvenes, antes de comenzar a plantear actividades. Es necesario que aprendan a nombrar cada uno de los bloques de acuerdo con sus cuatro características."
   ]
  },
  {
   "cell_type": "code",
   "execution_count": 4,
   "metadata": {
    "colab": {
     "base_uri": "https://localhost:8080/"
    },
    "id": "l1DU02PKn4w7",
    "outputId": "487ffc0f-2f08-472c-91ad-0d5fdc7437cc",
    "slideshow": {
     "slide_type": "slide"
    }
   },
   "outputs": [
    {
     "data": {
      "text/plain": [
       "False"
      ]
     },
     "execution_count": 4,
     "metadata": {},
     "output_type": "execute_result"
    }
   ],
   "source": [
    "False or False"
   ]
  },
  {
   "cell_type": "markdown",
   "metadata": {
    "slideshow": {
     "slide_type": "slide"
    }
   },
   "source": [
    "## 5.2. CONDICIONES PEDAGÓGICAS"
   ]
  },
  {
   "cell_type": "markdown",
   "metadata": {
    "slideshow": {
     "slide_type": "slide"
    }
   },
   "source": [
    "La utilización de los bloques lógicos, como mediadores para el establecimiento de los esquemas básicos del razonamiento lógico matemático, tiene las siguientes ventajas pedagógicas:\n",
    "\n",
    "* Proporciona un soporte material para la fijación de esquemas de razonamiento.\n",
    "* La forma en que los estudiantes realizan la actividad con ellos, constituye un indicador de las competencias necesarias para el desarrollo del pensamiento lógico. El maestro puede detectar, en el alumno, dificultades clasificatorias, que ya consideraba superadas.\n",
    "    El desarrollo del cálculo proposicional, a través de las actividades propuestas con este material, permite asimilar los contenidos proposicionales, eliminando las dificultades de tipo sicológico que se involucran, cuando se trabaja sobre enunciados del lenguaje ordinario.\n",
    "    Las operaciones lógicas se plasman en la formación de los conjuntos que verifican las propiedades expresadas por dichas operaciones. La lógica se va desarrollando a la par con la teoría de conjuntos."
   ]
  },
  {
   "cell_type": "markdown",
   "metadata": {
    "slideshow": {
     "slide_type": "slide"
    }
   },
   "source": [
    "5.3. OBJETIVOS\n",
    "\n",
    "    Construir, a partir del juego, esquemas básicos de razonamiento lógico.\n",
    "    Construir, tomando como primitivos, los conectivos lógicos \"no\" y \"o\", los restantes conectivos lógicos: \"si... entonces\", \"y\" y \"si y sólo si\".\n",
    "    Visualizar las propiedades más importantes de cada uno los conectivos y expresarlas en forma de leyes lógicas.\n",
    "    Mostrar en qué forma se niegan los conectivos, enunciando las leyes de De Morgan.\n",
    "\n",
    "5.4. PRESENTACIÓN DE LOS BLOQUES LÓGICOS\n",
    "\n",
    "Se trata de un conjunto de 48 piezas, diseñadas así:\n",
    "\n",
    "Tres colores: amarillo, azul y rojo.\n",
    "\n",
    "Cuatro formas: cuadrado, rectángulo, círculo, triángulo.\n",
    "\n",
    "Dos tamaños: grande, pequeño.\n",
    "\n",
    "Dos espesores: grueso, delgado.\n",
    "\n",
    "Se tienen, entonces, cuatro variables, cuyos valores producen 48 figuras diferentes, el producto de 3 x 4 x 2 x 2.\n",
    "\n",
    "El material debe ser libremente manejado por los jóvenes, antes de comenzar a plantear actividades. Es necesario que aprendan a nombrar cada uno de los bloques de acuerdo con sus cuatro características."
   ]
  },
  {
   "cell_type": "markdown",
   "metadata": {
    "slideshow": {
     "slide_type": "slide"
    }
   },
   "source": [
    "# 5.5. JUEGOS"
   ]
  },
  {
   "cell_type": "markdown",
   "metadata": {
    "slideshow": {
     "slide_type": "slide"
    }
   },
   "source": [
    "5.5.1. Juego de la pieza escondida.\n",
    "\n",
    "Un joven esconde una pieza. El resto del equipo tiene que descubrir cuál ha sido la pieza escondida. Inicialmente, se permite que los jóvenes manipulen los bloques y hagan sus ordenaciones. Más adelante, se les sugiere que descubran la pieza que falta sin tocar las demás.\n",
    "\n",
    "Una variación, más complicada, podría ser esconder tres piezas escogidas, por ejemplo tres colores distintos, pero de la misma forma, del mismo tamaño y del mismo grosor.\n",
    "5.5.2. Juego de negación con dos equipos.\n",
    "\n",
    "Finalidad del juego: Si una cosa está en un determinado sitio, no puede estar al mismo tiempo en otra parte. (Principio de no contradicción).\n",
    "\n",
    "Se forman dos equipos; se colocan a lado y lado de una mesa con una pantalla de separación, de modo que cada equipo pueda observar sus bloques únicamente. Cada equipo posee 24 bloques elegidos al azar. Se trata de que cada equipo debe pedir al otro los bloques que posee, designándolos con los cuatro atributos. Cuando un bloque ha sido pedido una vez, no puede volver a pedirse."
   ]
  },
  {
   "cell_type": "code",
   "execution_count": null,
   "metadata": {
    "slideshow": {
     "slide_type": "slide"
    }
   },
   "outputs": [],
   "source": []
  },
  {
   "cell_type": "code",
   "execution_count": null,
   "metadata": {},
   "outputs": [],
   "source": []
  },
  {
   "cell_type": "code",
   "execution_count": null,
   "metadata": {},
   "outputs": [],
   "source": []
  },
  {
   "cell_type": "markdown",
   "metadata": {
    "id": "4WZE3TwetW5c",
    "slideshow": {
     "slide_type": "slide"
    }
   },
   "source": [
    "# Implicación y recíproco"
   ]
  },
  {
   "cell_type": "markdown",
   "metadata": {
    "id": "S7l7IAf6kY_F",
    "slideshow": {
     "slide_type": "slide"
    }
   },
   "source": [
    "## Referentes \n",
    "\n",
    "* Clara Elena Mejía Laverde: http://ayura.udea.edu.co/logicamatematica/talleres.htm"
   ]
  },
  {
   "cell_type": "code",
   "execution_count": 8,
   "metadata": {
    "id": "91u1ErW2i9a1",
    "slideshow": {
     "slide_type": "slide"
    }
   },
   "outputs": [],
   "source": [
    "def condicional(p,q):\n",
    "    return not p or q"
   ]
  },
  {
   "cell_type": "code",
   "execution_count": 10,
   "metadata": {
    "colab": {
     "base_uri": "https://localhost:8080/"
    },
    "id": "YtUcKpWj3Bzo",
    "outputId": "ddb11294-49fe-474a-8bee-3fab5a7d124c",
    "slideshow": {
     "slide_type": "slide"
    }
   },
   "outputs": [
    {
     "data": {
      "text/plain": [
       "True"
      ]
     },
     "execution_count": 10,
     "metadata": {},
     "output_type": "execute_result"
    }
   ],
   "source": [
    "condicional(False, False)"
   ]
  },
  {
   "cell_type": "code",
   "execution_count": 10,
   "metadata": {
    "slideshow": {
     "slide_type": "slide"
    }
   },
   "outputs": [],
   "source": [
    "import pandas as pd \n",
    "arit_df = pd.read_csv('arit.csv', sep = ';')"
   ]
  },
  {
   "cell_type": "code",
   "execution_count": 11,
   "metadata": {
    "slideshow": {
     "slide_type": "slide"
    }
   },
   "outputs": [
    {
     "data": {
      "text/html": [
       "<div>\n",
       "<style scoped>\n",
       "    .dataframe tbody tr th:only-of-type {\n",
       "        vertical-align: middle;\n",
       "    }\n",
       "\n",
       "    .dataframe tbody tr th {\n",
       "        vertical-align: top;\n",
       "    }\n",
       "\n",
       "    .dataframe thead th {\n",
       "        text-align: right;\n",
       "    }\n",
       "</style>\n",
       "<table border=\"1\" class=\"dataframe\">\n",
       "  <thead>\n",
       "    <tr style=\"text-align: right;\">\n",
       "      <th></th>\n",
       "      <th>cedula</th>\n",
       "      <th>nombre</th>\n",
       "      <th>email</th>\n",
       "    </tr>\n",
       "  </thead>\n",
       "  <tbody>\n",
       "    <tr>\n",
       "      <th>0</th>\n",
       "      <td>1032248407</td>\n",
       "      <td>CALDERA NAVARRO DIEGO</td>\n",
       "      <td>diego.caldera@udea.edu.co</td>\n",
       "    </tr>\n",
       "    <tr>\n",
       "      <th>1</th>\n",
       "      <td>1007410536</td>\n",
       "      <td>CALY HERRERA ESTEFANIA</td>\n",
       "      <td>estefania.caly@udea.edu.co</td>\n",
       "    </tr>\n",
       "    <tr>\n",
       "      <th>2</th>\n",
       "      <td>1066600269</td>\n",
       "      <td>CASTRO RAMIREZ JOSE DANIEL</td>\n",
       "      <td>jose.castro1@udea.edu.co</td>\n",
       "    </tr>\n",
       "    <tr>\n",
       "      <th>3</th>\n",
       "      <td>1038108070</td>\n",
       "      <td>DORADO PADILLA LEONEL ESTEBAN</td>\n",
       "      <td>leonel.dorado@udea.edu.co</td>\n",
       "    </tr>\n",
       "    <tr>\n",
       "      <th>4</th>\n",
       "      <td>1038115862</td>\n",
       "      <td>LONDONO CASTRO FRED IVAN</td>\n",
       "      <td>fred.londonoc@udea.edu.co</td>\n",
       "    </tr>\n",
       "    <tr>\n",
       "      <th>5</th>\n",
       "      <td>3667402</td>\n",
       "      <td>MARIN MARTINEZ FRANCISCO JAVIER</td>\n",
       "      <td>fjavier.marin@udea.edu.co</td>\n",
       "    </tr>\n",
       "    <tr>\n",
       "      <th>6</th>\n",
       "      <td>1129804572</td>\n",
       "      <td>SAN JUAN SERRANO MANUEL</td>\n",
       "      <td>manuel.serrano1@udea.edu.co</td>\n",
       "    </tr>\n",
       "    <tr>\n",
       "      <th>7</th>\n",
       "      <td>1091673882</td>\n",
       "      <td>SANCHEZ BELTRAN ROSMARY</td>\n",
       "      <td>rosmary.sanchezb@udea.edu.co</td>\n",
       "    </tr>\n",
       "    <tr>\n",
       "      <th>8</th>\n",
       "      <td>1007554266</td>\n",
       "      <td>URIBE ARRIETA YEIFRY SEBASTIAN</td>\n",
       "      <td>yeifry.uribe@udea.edu.co</td>\n",
       "    </tr>\n",
       "    <tr>\n",
       "      <th>9</th>\n",
       "      <td>1007578670</td>\n",
       "      <td>VELASQUEZ LOPEZ MERLIS</td>\n",
       "      <td>merlis.velasquez@udea.edu.co</td>\n",
       "    </tr>\n",
       "  </tbody>\n",
       "</table>\n",
       "</div>"
      ],
      "text/plain": [
       "       cedula                           nombre                         email\n",
       "0  1032248407            CALDERA NAVARRO DIEGO     diego.caldera@udea.edu.co\n",
       "1  1007410536           CALY HERRERA ESTEFANIA    estefania.caly@udea.edu.co\n",
       "2  1066600269       CASTRO RAMIREZ JOSE DANIEL      jose.castro1@udea.edu.co\n",
       "3  1038108070    DORADO PADILLA LEONEL ESTEBAN     leonel.dorado@udea.edu.co\n",
       "4  1038115862         LONDONO CASTRO FRED IVAN     fred.londonoc@udea.edu.co\n",
       "5     3667402  MARIN MARTINEZ FRANCISCO JAVIER     fjavier.marin@udea.edu.co\n",
       "6  1129804572          SAN JUAN SERRANO MANUEL   manuel.serrano1@udea.edu.co\n",
       "7  1091673882          SANCHEZ BELTRAN ROSMARY  rosmary.sanchezb@udea.edu.co\n",
       "8  1007554266   URIBE ARRIETA YEIFRY SEBASTIAN      yeifry.uribe@udea.edu.co\n",
       "9  1007578670           VELASQUEZ LOPEZ MERLIS  merlis.velasquez@udea.edu.co"
      ]
     },
     "execution_count": 11,
     "metadata": {},
     "output_type": "execute_result"
    }
   ],
   "source": [
    "arit_df "
   ]
  },
  {
   "cell_type": "markdown",
   "metadata": {
    "id": "K5rex7R43j0s",
    "slideshow": {
     "slide_type": "slide"
    }
   },
   "source": [
    "## Participación aleatoria de los estudiantes del curso"
   ]
  },
  {
   "cell_type": "code",
   "execution_count": 47,
   "metadata": {
    "slideshow": {
     "slide_type": "slide"
    }
   },
   "outputs": [],
   "source": [
    "def estudiante_que_va_a_participar(grupo): # el grupo se introduce como una cadena de caracteres \n",
    "    import numpy as np \n",
    "    import pandas as pd \n",
    "    from random import choice\n",
    "    grupo_df = pd.read_csv(grupo + '.csv', encoding = 'latin1', sep = ';')\n",
    "    lista_estudiantes = list(grupo_df.email.values)\n",
    "    if lista_estudiantes != []:\n",
    "        estudiante = choice(lista_estudiantes)\n",
    "        lista_estudiantes.remove(estudiante)\n",
    "        return print(estudiante)\n",
    "    else:\n",
    "        print('Todos los estudiantes han participado.\\n Muchas gracias y Felicitaciones')"
   ]
  },
  {
   "cell_type": "code",
   "execution_count": 101,
   "metadata": {
    "slideshow": {
     "slide_type": "slide"
    }
   },
   "outputs": [
    {
     "name": "stdout",
     "output_type": "stream",
     "text": [
      "rosmary.sanchezb@udea.edu.co\n"
     ]
    }
   ],
   "source": [
    "estudiante_que_va_a_participar('arit') "
   ]
  },
  {
   "cell_type": "markdown",
   "metadata": {
    "slideshow": {
     "slide_type": "slide"
    }
   },
   "source": [
    "# Asignación "
   ]
  },
  {
   "cell_type": "code",
   "execution_count": null,
   "metadata": {},
   "outputs": [],
   "source": []
  },
  {
   "cell_type": "markdown",
   "metadata": {
    "slideshow": {
     "slide_type": "slide"
    }
   },
   "source": [
    "## Referentes  \n",
    "\n",
    "* Clara Elena Mejía Laverde: http://ayura.udea.edu.co/logicamatematica/talleres.htm"
   ]
  },
  {
   "cell_type": "code",
   "execution_count": null,
   "metadata": {},
   "outputs": [],
   "source": []
  }
 ],
 "metadata": {
  "celltoolbar": "Slideshow",
  "colab": {
   "authorship_tag": "ABX9TyMJ2haOCttof2xFUYXYaQpT",
   "include_colab_link": true,
   "provenance": []
  },
  "kernelspec": {
   "display_name": "Python 3 (ipykernel)",
   "language": "python",
   "name": "python3"
  },
  "language_info": {
   "codemirror_mode": {
    "name": "ipython",
    "version": 3
   },
   "file_extension": ".py",
   "mimetype": "text/x-python",
   "name": "python",
   "nbconvert_exporter": "python",
   "pygments_lexer": "ipython3",
   "version": "3.9.12"
  }
 },
 "nbformat": 4,
 "nbformat_minor": 1
}
