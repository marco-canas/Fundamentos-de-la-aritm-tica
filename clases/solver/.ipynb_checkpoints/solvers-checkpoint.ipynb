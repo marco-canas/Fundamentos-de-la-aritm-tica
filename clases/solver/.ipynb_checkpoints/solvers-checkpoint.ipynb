{
 "cells": [
  {
   "cell_type": "markdown",
   "id": "5c412b1d",
   "metadata": {
    "slideshow": {
     "slide_type": "slide"
    }
   },
   "source": [
    "<table align=\"right\">\n",
    "  <td>\n",
    "<a href=\"https://colab.research.google.com/github/marco-canas/Fundamentos-de-la-aritm-tica/blob/main/clases/criba.ipynb\" target=\"_parent\"><img src=\"https://colab.research.google.com/assets/colab-badge.svg\" alt=\"Open In Colab\"/></a>\n",
    "  </td>\n",
    "</table>"
   ]
  },
  {
   "cell_type": "markdown",
   "id": "3856dc1a",
   "metadata": {
    "slideshow": {
     "slide_type": "slide"
    }
   },
   "source": [
    "# [Solvers](https://docs.sympy.org/latest/modules/solvers/solvers.html)"
   ]
  },
  {
   "cell_type": "markdown",
   "id": "d94b6733",
   "metadata": {
    "slideshow": {
     "slide_type": "slide"
    }
   },
   "source": [
    "El módulo `solvers` en SymPy implementa métodos para resolver ecuaciones."
   ]
  },
  {
   "cell_type": "markdown",
   "id": "8fa69230",
   "metadata": {
    "slideshow": {
     "slide_type": "slide"
    }
   },
   "source": [
    "## Nota"
   ]
  },
  {
   "cell_type": "markdown",
   "id": "3554ebd1",
   "metadata": {
    "slideshow": {
     "slide_type": "slide"
    }
   },
   "source": [
    "`solve()` es una función general más antigua y madura para resolver muchos tipos de ecuaciones. "
   ]
  },
  {
   "cell_type": "markdown",
   "id": "81379e11",
   "metadata": {
    "slideshow": {
     "slide_type": "slide"
    }
   },
   "source": [
    "`solve()` tiene muchas opciones y usa diferentes métodos internamente para determinar qué tipo de ecuaciones le pasas, así que si sabes con qué tipo de ecuación estás tratando, quizás quieras usar el nuevo `solveset()` que resuelve ecuaciones univariadas, `linsolve( )` que resuelve sistemas de ecuaciones lineales y `nonlinsolve()` que resuelve sistemas de ecuaciones no lineales."
   ]
  },
  {
   "cell_type": "markdown",
   "id": "7f19ad91",
   "metadata": {
    "slideshow": {
     "slide_type": "slide"
    }
   },
   "source": [
    "## Algebraic equations"
   ]
  },
  {
   "cell_type": "markdown",
   "id": "af9df411",
   "metadata": {
    "slideshow": {
     "slide_type": "slide"
    }
   },
   "source": [
    "Use `solve()` to solve algebraic equations. "
   ]
  },
  {
   "cell_type": "markdown",
   "id": "3967e4a3",
   "metadata": {
    "slideshow": {
     "slide_type": "slide"
    }
   },
   "source": [
    "Suponemos que todas las ecuaciones son igualadas a 0, por lo que resolver `x**2 = 1` se traduce en el siguiente código:"
   ]
  },
  {
   "cell_type": "code",
   "execution_count": 1,
   "id": "5a5f7135",
   "metadata": {
    "slideshow": {
     "slide_type": "slide"
    }
   },
   "outputs": [],
   "source": [
    "from sympy.solvers import solve "
   ]
  },
  {
   "cell_type": "code",
   "execution_count": 4,
   "id": "7a48a2a0",
   "metadata": {
    "slideshow": {
     "slide_type": "slide"
    }
   },
   "outputs": [],
   "source": [
    "from sympy import symbols, Symbol"
   ]
  },
  {
   "cell_type": "code",
   "execution_count": 5,
   "id": "5fb023be",
   "metadata": {
    "slideshow": {
     "slide_type": "slide"
    }
   },
   "outputs": [],
   "source": [
    "x = Symbol('x') "
   ]
  },
  {
   "cell_type": "code",
   "execution_count": 8,
   "id": "cb80d950",
   "metadata": {
    "slideshow": {
     "slide_type": "slide"
    }
   },
   "outputs": [
    {
     "data": {
      "text/plain": [
       "[-1, 1]"
      ]
     },
     "execution_count": 8,
     "metadata": {},
     "output_type": "execute_result"
    }
   ],
   "source": [
    "soluciones = solve(x**2-1, x)\n",
    "soluciones "
   ]
  },
  {
   "cell_type": "code",
   "execution_count": 9,
   "id": "1824adac",
   "metadata": {
    "slideshow": {
     "slide_type": "slide"
    }
   },
   "outputs": [
    {
     "data": {
      "text/latex": [
       "$\\displaystyle -1$"
      ],
      "text/plain": [
       "-1"
      ]
     },
     "execution_count": 9,
     "metadata": {},
     "output_type": "execute_result"
    }
   ],
   "source": [
    "soluciones[0]"
   ]
  },
  {
   "cell_type": "code",
   "execution_count": 10,
   "id": "881387c0",
   "metadata": {
    "slideshow": {
     "slide_type": "slide"
    }
   },
   "outputs": [
    {
     "data": {
      "text/latex": [
       "$\\displaystyle 1$"
      ],
      "text/plain": [
       "1"
      ]
     },
     "execution_count": 10,
     "metadata": {},
     "output_type": "execute_result"
    }
   ],
   "source": [
    "soluciones[1]"
   ]
  },
  {
   "cell_type": "markdown",
   "id": "9bf5f095",
   "metadata": {
    "slideshow": {
     "slide_type": "slide"
    }
   },
   "source": [
    "El primer argumento para `solve()` es una ecuación (igual a cero) y el segundo argumento es el símbolo para el que queremos resolver la ecuación."
   ]
  },
  {
   "cell_type": "markdown",
   "id": "37b4d706",
   "metadata": {
    "slideshow": {
     "slide_type": "slide"
    }
   },
   "source": [
    "`sympy.solvers.solve(f, *symbols, **flags)`"
   ]
  },
  {
   "cell_type": "markdown",
   "id": "19a0eabc",
   "metadata": {
    "slideshow": {
     "slide_type": "slide"
    }
   },
   "source": [
    "Resuelve algebraicamente ecuaciones y sistemas de ecuaciones."
   ]
  },
  {
   "cell_type": "markdown",
   "id": "e499442c",
   "metadata": {
    "slideshow": {
     "slide_type": "slide"
    }
   },
   "source": [
    "## Parameters:"
   ]
  },
  {
   "cell_type": "markdown",
   "id": "294f5277",
   "metadata": {
    "slideshow": {
     "slide_type": "slide"
    }
   },
   "source": [
    "f :\n",
    "\n",
    "            a single Expr or Poly that must be zero\n",
    "\n",
    "            an Equality\n",
    "\n",
    "            a Relational expression\n",
    "\n",
    "            a Boolean\n",
    "\n",
    "            iterable of one or more of the above"
   ]
  },
  {
   "cell_type": "markdown",
   "id": "d6344b11",
   "metadata": {
    "slideshow": {
     "slide_type": "slide"
    }
   },
   "source": [
    "    symbols : (object(s) to solve for) specified as\n",
    "\n",
    "            none given (other non-numeric objects will be used)\n",
    "\n",
    "            single symbol\n",
    "\n",
    "            denested list of symbols (e.g., solve(f, x, y))\n",
    "\n",
    "            ordered iterable of symbols (e.g., solve(f, [x, y]))"
   ]
  },
  {
   "cell_type": "markdown",
   "id": "fc8ce175",
   "metadata": {
    "slideshow": {
     "slide_type": "slide"
    }
   },
   "source": [
    "##  flags :\n",
    "\n",
    "        dict=True (default is False)\n",
    "\n",
    "            Return list (perhaps empty) of solution mappings.\n",
    "        set=True (default is False)\n",
    "\n",
    "            Return list of symbols and set of tuple(s) of solution(s).\n",
    "        exclude=[] (default)\n",
    "\n",
    "            Do not try to solve for any of the free symbols in exclude; if expressions are given, the free symbols in them will be extracted automatically.\n",
    "        check=True (default)\n",
    "\n",
    "            If False, do not do any testing of solutions. This can be useful if you want to include solutions that make any denominator zero.\n",
    "        numerical=True (default)\n",
    "\n",
    "            Do a fast numerical check if f has only one symbol.\n",
    "        minimal=True (default is False)\n",
    "\n",
    "            A very fast, minimal testing.\n",
    "        warn=True (default is False)\n",
    "\n",
    "            Show a warning if checksol() could not conclude.\n",
    "        simplify=True (default)\n",
    "\n",
    "            Simplify all but polynomials of order 3 or greater before returning them and (if check is not False) use the general simplify function on the solutions and the expression obtained when they are substituted into the function which should be zero.\n",
    "        force=True (default is False)\n",
    "\n",
    "            Make positive all symbols without assumptions regarding sign.\n",
    "        rational=True (default)\n",
    "\n",
    "            Recast Floats as Rational; if this option is not used, the system containing Floats may fail to solve because of issues with polys. If rational=None, Floats will be recast as rationals but the answer will be recast as Floats. If the flag is False then nothing will be done to the Floats.\n",
    "        manual=True (default is False)\n",
    "\n",
    "            Do not use the polys/matrix method to solve a system of equations, solve them one at a time as you might “manually.”\n",
    "        implicit=True (default is False)\n",
    "\n",
    "            Allows solve to return a solution for a pattern in terms of other functions that contain that pattern; this is only needed if the pattern is inside of some invertible function like cos, exp, ect.\n",
    "        particular=True (default is False)\n",
    "\n",
    "            Instructs solve to try to find a particular solution to a linear system with as many zeros as possible; this is very expensive.\n",
    "        quick=True (default is False; particular must be True)\n",
    "\n",
    "            Selects a fast heuristic to find a solution with many zeros whereas a value of False uses the very slow method guaranteed to find the largest number of zeros possible.\n",
    "        cubics=True (default)\n",
    "\n",
    "            Return explicit solutions when cubic expressions are encountered. When False, quartics and quintics are disabled, too.\n",
    "        quartics=True (default)\n",
    "\n",
    "            Return explicit solutions when quartic expressions are encountered. When False, quintics are disabled, too.\n",
    "        quintics=True (default)\n",
    "\n",
    "            Return explicit solutions (if possible) when quintic expressions are encountered."
   ]
  },
  {
   "cell_type": "markdown",
   "id": "d847d916",
   "metadata": {
    "slideshow": {
     "slide_type": "slide"
    }
   },
   "source": [
    "## Explicación"
   ]
  },
  {
   "cell_type": "markdown",
   "id": "634aa1ee",
   "metadata": {
    "slideshow": {
     "slide_type": "slide"
    }
   },
   "source": [
    "Actualmente soportado:\n",
    "\n",
    "* polinomio\n",
    "\n",
    "* transcendental\n",
    "\n",
    "* combinaciones por partes de lo anterior\n",
    "\n",
    "* systems of linear and polynomial equations\n",
    "\n",
    "* systems containing relational expressions"
   ]
  },
  {
   "cell_type": "markdown",
   "id": "c98eb243",
   "metadata": {
    "slideshow": {
     "slide_type": "slide"
    }
   },
   "source": [
    "Examples\n",
    "\n",
    "The output varies according to the input and can be seen by example:"
   ]
  },
  {
   "cell_type": "code",
   "execution_count": 1,
   "id": "7579d757",
   "metadata": {
    "slideshow": {
     "slide_type": "slide"
    }
   },
   "outputs": [],
   "source": [
    "from sympy import solve, Poly, Eq, Function, exp "
   ]
  },
  {
   "cell_type": "code",
   "execution_count": 2,
   "id": "8d43b0da",
   "metadata": {
    "slideshow": {
     "slide_type": "slide"
    }
   },
   "outputs": [],
   "source": [
    "from sympy.abc import x,y, z, a, b "
   ]
  },
  {
   "cell_type": "code",
   "execution_count": 3,
   "id": "0ec966d6",
   "metadata": {
    "slideshow": {
     "slide_type": "slide"
    }
   },
   "outputs": [],
   "source": [
    "f = Function('f')"
   ]
  },
  {
   "cell_type": "markdown",
   "id": "35305f0e",
   "metadata": {
    "slideshow": {
     "slide_type": "slide"
    }
   },
   "source": [
    "Booleano o univariante Relacional:"
   ]
  },
  {
   "cell_type": "code",
   "execution_count": 4,
   "id": "6647a976",
   "metadata": {
    "slideshow": {
     "slide_type": "slide"
    }
   },
   "outputs": [
    {
     "data": {
      "text/latex": [
       "$\\displaystyle -\\infty < x \\wedge x < 3$"
      ],
      "text/plain": [
       "(-oo < x) & (x < 3)"
      ]
     },
     "execution_count": 4,
     "metadata": {},
     "output_type": "execute_result"
    }
   ],
   "source": [
    "solve(x<3)"
   ]
  },
  {
   "cell_type": "code",
   "execution_count": null,
   "id": "83e42a9a",
   "metadata": {
    "slideshow": {
     "slide_type": "slide"
    }
   },
   "outputs": [],
   "source": []
  },
  {
   "cell_type": "code",
   "execution_count": null,
   "id": "1c1e9518",
   "metadata": {},
   "outputs": [],
   "source": []
  },
  {
   "cell_type": "code",
   "execution_count": null,
   "id": "fa197b84",
   "metadata": {},
   "outputs": [],
   "source": []
  },
  {
   "cell_type": "code",
   "execution_count": null,
   "id": "0d3dffb6",
   "metadata": {},
   "outputs": [],
   "source": []
  },
  {
   "cell_type": "code",
   "execution_count": null,
   "id": "4457d4bc",
   "metadata": {},
   "outputs": [],
   "source": []
  },
  {
   "cell_type": "code",
   "execution_count": null,
   "id": "d0203821",
   "metadata": {
    "slideshow": {
     "slide_type": "slide"
    }
   },
   "outputs": [],
   "source": []
  },
  {
   "cell_type": "code",
   "execution_count": null,
   "id": "39a279aa",
   "metadata": {
    "slideshow": {
     "slide_type": "slide"
    }
   },
   "outputs": [],
   "source": []
  },
  {
   "cell_type": "markdown",
   "id": "bfa6b57b",
   "metadata": {
    "slideshow": {
     "slide_type": "slide"
    }
   },
   "source": [
    "## Referentes  \n",
    "\n",
    "* Documentación del módulo solvers de sympy: https://docs.sympy.org/latest/modules/solvers/solvers.html"
   ]
  },
  {
   "cell_type": "code",
   "execution_count": null,
   "id": "2fa1e09c",
   "metadata": {},
   "outputs": [],
   "source": []
  }
 ],
 "metadata": {
  "celltoolbar": "Slideshow",
  "kernelspec": {
   "display_name": "Python 3 (ipykernel)",
   "language": "python",
   "name": "python3"
  },
  "language_info": {
   "codemirror_mode": {
    "name": "ipython",
    "version": 3
   },
   "file_extension": ".py",
   "mimetype": "text/x-python",
   "name": "python",
   "nbconvert_exporter": "python",
   "pygments_lexer": "ipython3",
   "version": "3.9.12"
  },
  "rise": {
   "theme": "sky"
  }
 },
 "nbformat": 4,
 "nbformat_minor": 5
}
